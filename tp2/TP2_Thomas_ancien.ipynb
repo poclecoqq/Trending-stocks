{
 "cells": [
  {
   "cell_type": "markdown",
   "metadata": {},
   "source": [
    "# IND6953N - TP2\n",
    "### Étudiants:\n",
    "1. Laurence Boudrias (1789997)\n",
    "2. Charles Delisle (1801124)\n",
    "3. Thomas Rochefort-Beaudoin (1842175)\n",
    "\n",
    "#### Date soumise : 23 Avril 2019 \n",
    "--- "
   ]
  },
  {
   "cell_type": "code",
   "execution_count": 49,
   "metadata": {},
   "outputs": [],
   "source": [
    "# On commence d'abord par importer les packages de base:\n",
    "import pandas as pd\n",
    "import numpy as np\n",
    "import matplotlib.pyplot as plt\n",
    "database=pd.read_excel(open('Analyse_du_Credit.xlsx', 'rb'),sheet_name='Données sur le crédit')\n",
    "import warnings; warnings.simplefilter('ignore')"
   ]
  },
  {
   "cell_type": "code",
   "execution_count": 50,
   "metadata": {},
   "outputs": [
    {
     "name": "stdout",
     "output_type": "stream",
     "text": [
      "Les dummies générées sont:\n",
      "\n"
     ]
    },
    {
     "data": {
      "text/plain": [
       "['Statut Compte épargne_0 <= ... < 2000 $',\n",
       " 'Statut Compte épargne_< 0 $',\n",
       " 'Statut Compte épargne_>= 2000 $ / salary assignments for at least 1 year',\n",
       " 'Statut Compte épargne_no checking account',\n",
       " 'Historique de crédit_all credits at this bank paid back duly',\n",
       " 'Historique de crédit_critical account/ other credits existing (not at this bank)',\n",
       " 'Historique de crédit_delay in paying off in the past',\n",
       " 'Historique de crédit_existing credits paid back duly till now',\n",
       " 'Historique de crédit_no credits taken/ all credits paid back duly',\n",
       " 'Raison de la demande_(vacation - does not exist?)',\n",
       " 'Raison de la demande_business',\n",
       " 'Raison de la demande_car (new)',\n",
       " 'Raison de la demande_car (used)',\n",
       " 'Raison de la demande_domestic appliances',\n",
       " 'Raison de la demande_education',\n",
       " 'Raison de la demande_furniture/equipment',\n",
       " 'Raison de la demande_radio/television',\n",
       " 'Raison de la demande_repairs',\n",
       " 'Raison de la demande_retraining',\n",
       " 'Épargnes_.. >= 10000 $ ',\n",
       " 'Épargnes_... < 1000 $',\n",
       " 'Épargnes_1000 <= ... < 5000 $',\n",
       " 'Épargnes_5000 <= ... < 10000 $ ',\n",
       " 'Épargnes_unknown/ no savings account',\n",
       " \"Durée de l'emploi actuel_.. >= 7 years\",\n",
       " \"Durée de l'emploi actuel_... < 1 year \",\n",
       " \"Durée de l'emploi actuel_1 <= ... < 4 years\",\n",
       " \"Durée de l'emploi actuel_4 <= ... < 7 years\",\n",
       " \"Durée de l'emploi actuel_unemployed\",\n",
       " 'Genre et statut marital_female : divorced/separated/married',\n",
       " 'Genre et statut marital_male : divorced/separated',\n",
       " 'Genre et statut marital_male : married/widowed',\n",
       " 'Genre et statut marital_male : single',\n",
       " 'Autres débiteurs_co-applicant',\n",
       " 'Autres débiteurs_guarantor',\n",
       " 'Autres débiteurs_none',\n",
       " 'Type de propriété_if not A121 : building society savings agreement/ life insurance',\n",
       " 'Type de propriété_if not A121/A122 : car or other, not in attribute 6',\n",
       " 'Type de propriété_real estate',\n",
       " 'Type de propriété_unknown / no property',\n",
       " 'Autres plan de versements échelonnés_bank',\n",
       " 'Autres plan de versements échelonnés_none',\n",
       " 'Autres plan de versements échelonnés_stores',\n",
       " 'Résidence_for free',\n",
       " 'Résidence_own',\n",
       " 'Résidence_rent',\n",
       " 'Emploi_management/ self-employed/ highly qualified employee/ officer',\n",
       " 'Emploi_skilled employee / official',\n",
       " 'Emploi_unemployed/ unskilled - non-resident',\n",
       " 'Emploi_unskilled - resident',\n",
       " 'telephone_none',\n",
       " 'telephone_yes, registered under the customers name ',\n",
       " 'Travailleur étranger_no',\n",
       " 'Travailleur étranger_yes']"
      ]
     },
     "execution_count": 50,
     "metadata": {},
     "output_type": "execute_result"
    }
   ],
   "source": [
    "#Identification des variables de catégories\n",
    "categories=['Statut Compte épargne','Historique de crédit','Raison de la demande',\n",
    "           'Épargnes',\"Durée de l'emploi actuel\",'Genre et statut marital',\n",
    "           'Autres débiteurs','Type de propriété','Autres plan de versements échelonnés',\n",
    "           'Résidence','Emploi','telephone','Travailleur étranger']\n",
    "\n",
    "#Identification des variables continues\n",
    "continued=['durée du prêt en mois','Montant crédit','Versements en % du revenu',\n",
    "           \"Nb d'années de la résidence\",'age','Crédits à cette banque',\n",
    "           'Personnes à charge']\n",
    "\n",
    "#Séparation des variables de catégories en dummy variables\n",
    "dummy=pd.get_dummies(database[categories])\n",
    "print(\"Les dummies générées sont:\\n\")\n",
    "list(dummy)"
   ]
  },
  {
   "cell_type": "markdown",
   "metadata": {},
   "source": [
    "### On veut maintenant modifier les dummies générées afin d'avoir au plus n-1 dummies pour nos n variables\n",
    "\n",
    "- On combine les variables suivantes:\n",
    " - Raison de la demande_domestic appliances + Raison de la demande_furniture/equipment\n",
    " - Raison de la demande_car (used) + Raison de la demande_repairs\n",
    " - Raison de la demande_education + Raison de la demande_retraining + Raison de la demande_business + Raison de la demande_(vacation - does not exist?)\n",
    " \n",
    "\n",
    "- On drop les variables suivantes:\n",
    " - 'Statut Compte épargne_no checking account'\n",
    " - 'Historique de crédit_no credits taken/ all credits paid back duly'\n",
    " - 'Épargnes_unknown/ no savings account'\n",
    " - \"Durée de l'emploi actuel_unemployed\"\n",
    " - 'Genre et statut marital_male : married/widowed'\n",
    " -  'Autres débiteurs_none'\n",
    " -  'Type de propriété_unknown / no property'\n",
    " -  'Autres plan de versements échelonnés_none'\n",
    " -  'Résidence_for free'\n",
    " -  'Emploi_unskilled - resident'\n",
    " -  'Emploi_unemployed/ unskilled - non-resident'\n",
    " -  'telephone_none',\n",
    " -  'Travailleur étranger_no',\n",
    "\n",
    "\n",
    "\n",
    "\n",
    "\n"
   ]
  },
  {
   "cell_type": "code",
   "execution_count": 51,
   "metadata": {},
   "outputs": [],
   "source": [
    "# On additione les dummies combinées:\n",
    "dummy['Raison de la demande_domestic appliances/furniture/equipment'] = dummy['Raison de la demande_domestic appliances']+ dummy['Raison de la demande_furniture/equipment']\n",
    "\n",
    "dummy['Raison de la demande_car(used)/repairs']=dummy['Raison de la demande_car (used)']+dummy['Raison de la demande_repairs']\n",
    "\n",
    "dummy['Raison de la demande_education/retraining/business/vacation']=dummy['Raison de la demande_education']+dummy['Raison de la demande_retraining']+dummy['Raison de la demande_business']+dummy['Raison de la demande_(vacation - does not exist?)']\n",
    "\n",
    "#On drop les dummies :\n",
    "drop=['Statut Compte épargne_no checking account',\n",
    "      'Historique de crédit_no credits taken/ all credits paid back duly',\n",
    "      'Épargnes_unknown/ no savings account',\"Durée de l'emploi actuel_unemployed\",\n",
    "      'Genre et statut marital_male : married/widowed','Autres débiteurs_none',\n",
    "      'Type de propriété_unknown / no property',\n",
    "      'Autres plan de versements échelonnés_none',\n",
    "      'Résidence_for free','Emploi_unskilled - resident',\n",
    "      'telephone_none',\n",
    "      'Travailleur étranger_no','Raison de la demande_domestic appliances',\n",
    "      'Raison de la demande_furniture/equipment','Raison de la demande_car (used)',\n",
    "      'Raison de la demande_repairs','Raison de la demande_education',\n",
    "      'Raison de la demande_retraining','Raison de la demande_business',\n",
    "      'Raison de la demande_(vacation - does not exist?)']\n",
    "\n",
    "\n",
    "dummy=dummy.drop(columns=drop)"
   ]
  },
  {
   "cell_type": "markdown",
   "metadata": {},
   "source": [
    "### On peut maintenant se débarasser des variables continues originales et on combine les dummies au database principal:"
   ]
  },
  {
   "cell_type": "code",
   "execution_count": 52,
   "metadata": {},
   "outputs": [],
   "source": [
    "database=database.drop(columns=categories)\n",
    "database=pd.concat([database,dummy],axis=1)"
   ]
  },
  {
   "cell_type": "markdown",
   "metadata": {},
   "source": [
    "--- \n",
    "## 1.Analyse descriptive des données:"
   ]
  },
  {
   "cell_type": "code",
   "execution_count": 53,
   "metadata": {},
   "outputs": [
    {
     "data": {
      "text/html": [
       "<div>\n",
       "<style scoped>\n",
       "    .dataframe tbody tr th:only-of-type {\n",
       "        vertical-align: middle;\n",
       "    }\n",
       "\n",
       "    .dataframe tbody tr th {\n",
       "        vertical-align: top;\n",
       "    }\n",
       "\n",
       "    .dataframe thead th {\n",
       "        text-align: right;\n",
       "    }\n",
       "</style>\n",
       "<table border=\"1\" class=\"dataframe\">\n",
       "  <thead>\n",
       "    <tr style=\"text-align: right;\">\n",
       "      <th></th>\n",
       "      <th>Crédit</th>\n",
       "      <th>durée du prêt en mois</th>\n",
       "      <th>Montant crédit</th>\n",
       "      <th>Versements en % du revenu</th>\n",
       "      <th>Nb d'années de la résidence</th>\n",
       "      <th>age</th>\n",
       "      <th>Crédits à cette banque</th>\n",
       "      <th>Personnes à charge</th>\n",
       "      <th>Statut Compte épargne_0 &lt;= ... &lt; 2000 $</th>\n",
       "      <th>Statut Compte épargne_&lt; 0 $</th>\n",
       "      <th>...</th>\n",
       "      <th>Résidence_own</th>\n",
       "      <th>Résidence_rent</th>\n",
       "      <th>Emploi_management/ self-employed/ highly qualified employee/ officer</th>\n",
       "      <th>Emploi_skilled employee / official</th>\n",
       "      <th>Emploi_unemployed/ unskilled - non-resident</th>\n",
       "      <th>telephone_yes, registered under the customers name</th>\n",
       "      <th>Travailleur étranger_yes</th>\n",
       "      <th>Raison de la demande_domestic appliances/furniture/equipment</th>\n",
       "      <th>Raison de la demande_car(used)/repairs</th>\n",
       "      <th>Raison de la demande_education/retraining/business/vacation</th>\n",
       "    </tr>\n",
       "  </thead>\n",
       "  <tbody>\n",
       "    <tr>\n",
       "      <th>count</th>\n",
       "      <td>1000.000000</td>\n",
       "      <td>1000.000000</td>\n",
       "      <td>1000.000000</td>\n",
       "      <td>1000.000000</td>\n",
       "      <td>1000.000000</td>\n",
       "      <td>1000.000000</td>\n",
       "      <td>1000.000000</td>\n",
       "      <td>1000.000000</td>\n",
       "      <td>1000.000000</td>\n",
       "      <td>1000.000000</td>\n",
       "      <td>...</td>\n",
       "      <td>1000.000000</td>\n",
       "      <td>1000.000000</td>\n",
       "      <td>1000.000000</td>\n",
       "      <td>1000.000000</td>\n",
       "      <td>1000.000000</td>\n",
       "      <td>1000.000000</td>\n",
       "      <td>1000.000000</td>\n",
       "      <td>1000.00000</td>\n",
       "      <td>1000.000000</td>\n",
       "      <td>1000.000000</td>\n",
       "    </tr>\n",
       "    <tr>\n",
       "      <th>mean</th>\n",
       "      <td>0.300000</td>\n",
       "      <td>20.903000</td>\n",
       "      <td>3271.258000</td>\n",
       "      <td>2.973000</td>\n",
       "      <td>2.845000</td>\n",
       "      <td>35.546000</td>\n",
       "      <td>1.407000</td>\n",
       "      <td>1.155000</td>\n",
       "      <td>0.269000</td>\n",
       "      <td>0.274000</td>\n",
       "      <td>...</td>\n",
       "      <td>0.713000</td>\n",
       "      <td>0.179000</td>\n",
       "      <td>0.148000</td>\n",
       "      <td>0.630000</td>\n",
       "      <td>0.022000</td>\n",
       "      <td>0.404000</td>\n",
       "      <td>0.963000</td>\n",
       "      <td>0.29200</td>\n",
       "      <td>0.115000</td>\n",
       "      <td>0.178000</td>\n",
       "    </tr>\n",
       "    <tr>\n",
       "      <th>std</th>\n",
       "      <td>0.458487</td>\n",
       "      <td>12.058814</td>\n",
       "      <td>2822.736876</td>\n",
       "      <td>1.118715</td>\n",
       "      <td>1.103718</td>\n",
       "      <td>11.375469</td>\n",
       "      <td>0.577654</td>\n",
       "      <td>0.362086</td>\n",
       "      <td>0.443662</td>\n",
       "      <td>0.446232</td>\n",
       "      <td>...</td>\n",
       "      <td>0.452588</td>\n",
       "      <td>0.383544</td>\n",
       "      <td>0.355278</td>\n",
       "      <td>0.483046</td>\n",
       "      <td>0.146757</td>\n",
       "      <td>0.490943</td>\n",
       "      <td>0.188856</td>\n",
       "      <td>0.45491</td>\n",
       "      <td>0.319182</td>\n",
       "      <td>0.382704</td>\n",
       "    </tr>\n",
       "    <tr>\n",
       "      <th>min</th>\n",
       "      <td>0.000000</td>\n",
       "      <td>4.000000</td>\n",
       "      <td>250.000000</td>\n",
       "      <td>1.000000</td>\n",
       "      <td>1.000000</td>\n",
       "      <td>19.000000</td>\n",
       "      <td>1.000000</td>\n",
       "      <td>1.000000</td>\n",
       "      <td>0.000000</td>\n",
       "      <td>0.000000</td>\n",
       "      <td>...</td>\n",
       "      <td>0.000000</td>\n",
       "      <td>0.000000</td>\n",
       "      <td>0.000000</td>\n",
       "      <td>0.000000</td>\n",
       "      <td>0.000000</td>\n",
       "      <td>0.000000</td>\n",
       "      <td>0.000000</td>\n",
       "      <td>0.00000</td>\n",
       "      <td>0.000000</td>\n",
       "      <td>0.000000</td>\n",
       "    </tr>\n",
       "    <tr>\n",
       "      <th>25%</th>\n",
       "      <td>0.000000</td>\n",
       "      <td>12.000000</td>\n",
       "      <td>1365.500000</td>\n",
       "      <td>2.000000</td>\n",
       "      <td>2.000000</td>\n",
       "      <td>27.000000</td>\n",
       "      <td>1.000000</td>\n",
       "      <td>1.000000</td>\n",
       "      <td>0.000000</td>\n",
       "      <td>0.000000</td>\n",
       "      <td>...</td>\n",
       "      <td>0.000000</td>\n",
       "      <td>0.000000</td>\n",
       "      <td>0.000000</td>\n",
       "      <td>0.000000</td>\n",
       "      <td>0.000000</td>\n",
       "      <td>0.000000</td>\n",
       "      <td>1.000000</td>\n",
       "      <td>0.00000</td>\n",
       "      <td>0.000000</td>\n",
       "      <td>0.000000</td>\n",
       "    </tr>\n",
       "    <tr>\n",
       "      <th>50%</th>\n",
       "      <td>0.000000</td>\n",
       "      <td>18.000000</td>\n",
       "      <td>2319.500000</td>\n",
       "      <td>3.000000</td>\n",
       "      <td>3.000000</td>\n",
       "      <td>33.000000</td>\n",
       "      <td>1.000000</td>\n",
       "      <td>1.000000</td>\n",
       "      <td>0.000000</td>\n",
       "      <td>0.000000</td>\n",
       "      <td>...</td>\n",
       "      <td>1.000000</td>\n",
       "      <td>0.000000</td>\n",
       "      <td>0.000000</td>\n",
       "      <td>1.000000</td>\n",
       "      <td>0.000000</td>\n",
       "      <td>0.000000</td>\n",
       "      <td>1.000000</td>\n",
       "      <td>0.00000</td>\n",
       "      <td>0.000000</td>\n",
       "      <td>0.000000</td>\n",
       "    </tr>\n",
       "    <tr>\n",
       "      <th>75%</th>\n",
       "      <td>1.000000</td>\n",
       "      <td>24.000000</td>\n",
       "      <td>3972.250000</td>\n",
       "      <td>4.000000</td>\n",
       "      <td>4.000000</td>\n",
       "      <td>42.000000</td>\n",
       "      <td>2.000000</td>\n",
       "      <td>1.000000</td>\n",
       "      <td>1.000000</td>\n",
       "      <td>1.000000</td>\n",
       "      <td>...</td>\n",
       "      <td>1.000000</td>\n",
       "      <td>0.000000</td>\n",
       "      <td>0.000000</td>\n",
       "      <td>1.000000</td>\n",
       "      <td>0.000000</td>\n",
       "      <td>1.000000</td>\n",
       "      <td>1.000000</td>\n",
       "      <td>1.00000</td>\n",
       "      <td>0.000000</td>\n",
       "      <td>0.000000</td>\n",
       "    </tr>\n",
       "    <tr>\n",
       "      <th>max</th>\n",
       "      <td>1.000000</td>\n",
       "      <td>72.000000</td>\n",
       "      <td>18424.000000</td>\n",
       "      <td>4.000000</td>\n",
       "      <td>4.000000</td>\n",
       "      <td>75.000000</td>\n",
       "      <td>4.000000</td>\n",
       "      <td>2.000000</td>\n",
       "      <td>1.000000</td>\n",
       "      <td>1.000000</td>\n",
       "      <td>...</td>\n",
       "      <td>1.000000</td>\n",
       "      <td>1.000000</td>\n",
       "      <td>1.000000</td>\n",
       "      <td>1.000000</td>\n",
       "      <td>1.000000</td>\n",
       "      <td>1.000000</td>\n",
       "      <td>1.000000</td>\n",
       "      <td>1.00000</td>\n",
       "      <td>1.000000</td>\n",
       "      <td>1.000000</td>\n",
       "    </tr>\n",
       "  </tbody>\n",
       "</table>\n",
       "<p>8 rows × 45 columns</p>\n",
       "</div>"
      ],
      "text/plain": [
       "            Crédit  durée du prêt en mois  Montant crédit  \\\n",
       "count  1000.000000            1000.000000     1000.000000   \n",
       "mean      0.300000              20.903000     3271.258000   \n",
       "std       0.458487              12.058814     2822.736876   \n",
       "min       0.000000               4.000000      250.000000   \n",
       "25%       0.000000              12.000000     1365.500000   \n",
       "50%       0.000000              18.000000     2319.500000   \n",
       "75%       1.000000              24.000000     3972.250000   \n",
       "max       1.000000              72.000000    18424.000000   \n",
       "\n",
       "       Versements en % du revenu  Nb d'années de la résidence          age  \\\n",
       "count                1000.000000                  1000.000000  1000.000000   \n",
       "mean                    2.973000                     2.845000    35.546000   \n",
       "std                     1.118715                     1.103718    11.375469   \n",
       "min                     1.000000                     1.000000    19.000000   \n",
       "25%                     2.000000                     2.000000    27.000000   \n",
       "50%                     3.000000                     3.000000    33.000000   \n",
       "75%                     4.000000                     4.000000    42.000000   \n",
       "max                     4.000000                     4.000000    75.000000   \n",
       "\n",
       "       Crédits à cette banque  Personnes à charge  \\\n",
       "count             1000.000000         1000.000000   \n",
       "mean                 1.407000            1.155000   \n",
       "std                  0.577654            0.362086   \n",
       "min                  1.000000            1.000000   \n",
       "25%                  1.000000            1.000000   \n",
       "50%                  1.000000            1.000000   \n",
       "75%                  2.000000            1.000000   \n",
       "max                  4.000000            2.000000   \n",
       "\n",
       "       Statut Compte épargne_0 <= ... < 2000 $  Statut Compte épargne_< 0 $  \\\n",
       "count                              1000.000000                  1000.000000   \n",
       "mean                                  0.269000                     0.274000   \n",
       "std                                   0.443662                     0.446232   \n",
       "min                                   0.000000                     0.000000   \n",
       "25%                                   0.000000                     0.000000   \n",
       "50%                                   0.000000                     0.000000   \n",
       "75%                                   1.000000                     1.000000   \n",
       "max                                   1.000000                     1.000000   \n",
       "\n",
       "                                  ...                               \\\n",
       "count                             ...                                \n",
       "mean                              ...                                \n",
       "std                               ...                                \n",
       "min                               ...                                \n",
       "25%                               ...                                \n",
       "50%                               ...                                \n",
       "75%                               ...                                \n",
       "max                               ...                                \n",
       "\n",
       "       Résidence_own  Résidence_rent  \\\n",
       "count    1000.000000     1000.000000   \n",
       "mean        0.713000        0.179000   \n",
       "std         0.452588        0.383544   \n",
       "min         0.000000        0.000000   \n",
       "25%         0.000000        0.000000   \n",
       "50%         1.000000        0.000000   \n",
       "75%         1.000000        0.000000   \n",
       "max         1.000000        1.000000   \n",
       "\n",
       "       Emploi_management/ self-employed/ highly qualified employee/ officer  \\\n",
       "count                                        1000.000000                      \n",
       "mean                                            0.148000                      \n",
       "std                                             0.355278                      \n",
       "min                                             0.000000                      \n",
       "25%                                             0.000000                      \n",
       "50%                                             0.000000                      \n",
       "75%                                             0.000000                      \n",
       "max                                             1.000000                      \n",
       "\n",
       "       Emploi_skilled employee / official  \\\n",
       "count                         1000.000000   \n",
       "mean                             0.630000   \n",
       "std                              0.483046   \n",
       "min                              0.000000   \n",
       "25%                              0.000000   \n",
       "50%                              1.000000   \n",
       "75%                              1.000000   \n",
       "max                              1.000000   \n",
       "\n",
       "       Emploi_unemployed/ unskilled - non-resident  \\\n",
       "count                                  1000.000000   \n",
       "mean                                      0.022000   \n",
       "std                                       0.146757   \n",
       "min                                       0.000000   \n",
       "25%                                       0.000000   \n",
       "50%                                       0.000000   \n",
       "75%                                       0.000000   \n",
       "max                                       1.000000   \n",
       "\n",
       "       telephone_yes, registered under the customers name   \\\n",
       "count                                        1000.000000     \n",
       "mean                                            0.404000     \n",
       "std                                             0.490943     \n",
       "min                                             0.000000     \n",
       "25%                                             0.000000     \n",
       "50%                                             0.000000     \n",
       "75%                                             1.000000     \n",
       "max                                             1.000000     \n",
       "\n",
       "       Travailleur étranger_yes  \\\n",
       "count               1000.000000   \n",
       "mean                   0.963000   \n",
       "std                    0.188856   \n",
       "min                    0.000000   \n",
       "25%                    1.000000   \n",
       "50%                    1.000000   \n",
       "75%                    1.000000   \n",
       "max                    1.000000   \n",
       "\n",
       "       Raison de la demande_domestic appliances/furniture/equipment  \\\n",
       "count                                         1000.00000              \n",
       "mean                                             0.29200              \n",
       "std                                              0.45491              \n",
       "min                                              0.00000              \n",
       "25%                                              0.00000              \n",
       "50%                                              0.00000              \n",
       "75%                                              1.00000              \n",
       "max                                              1.00000              \n",
       "\n",
       "       Raison de la demande_car(used)/repairs  \\\n",
       "count                             1000.000000   \n",
       "mean                                 0.115000   \n",
       "std                                  0.319182   \n",
       "min                                  0.000000   \n",
       "25%                                  0.000000   \n",
       "50%                                  0.000000   \n",
       "75%                                  0.000000   \n",
       "max                                  1.000000   \n",
       "\n",
       "       Raison de la demande_education/retraining/business/vacation  \n",
       "count                                        1000.000000            \n",
       "mean                                            0.178000            \n",
       "std                                             0.382704            \n",
       "min                                             0.000000            \n",
       "25%                                             0.000000            \n",
       "50%                                             0.000000            \n",
       "75%                                             0.000000            \n",
       "max                                             1.000000            \n",
       "\n",
       "[8 rows x 45 columns]"
      ]
     },
     "execution_count": 53,
     "metadata": {},
     "output_type": "execute_result"
    }
   ],
   "source": [
    "# On peut ici visualiser les statistiques de bases de chacunes des colonnes:\n",
    "statistics=database.describe()\n",
    "statistics"
   ]
  },
  {
   "cell_type": "code",
   "execution_count": 54,
   "metadata": {},
   "outputs": [
    {
     "data": {
      "image/png": "[encoded data removed]",
      "text/plain": [
       "<Figure size 432x288 with 1 Axes>"
      ]
     },
     "metadata": {
      "needs_background": "light"
     },
     "output_type": "display_data"
    }
   ],
   "source": [
    "dummy.mean().plot(kind='bar')\n",
    "plt.grid(True)\n",
    "plt.title(\"Moyenne des variables de catégories\")\n",
    "plt.show()"
   ]
  },
  {
   "cell_type": "markdown",
   "metadata": {},
   "source": [
    "### De cette figure nous pouvons observer que 96.3% des demandes de crédit sont effectuées par des travailleurs étrangers."
   ]
  },
  {
   "cell_type": "markdown",
   "metadata": {},
   "source": [
    "--- \n",
    "## 2. Séparation de l'échantillon 70% entraînement - 30% test"
   ]
  },
  {
   "cell_type": "code",
   "execution_count": 1,
   "metadata": {},
   "outputs": [
    {
     "ename": "NameError",
     "evalue": "name 'np' is not defined",
     "output_type": "error",
     "traceback": [
      "\u001b[0;31m---------------------------------------------------------------------------\u001b[0m",
      "\u001b[0;31mNameError\u001b[0m                                 Traceback (most recent call last)",
      "\u001b[0;32m<ipython-input-1-8448683e4dad>\u001b[0m in \u001b[0;36m<module>\u001b[0;34m\u001b[0m\n\u001b[0;32m----> 1\u001b[0;31m \u001b[0mX\u001b[0m\u001b[0;34m=\u001b[0m\u001b[0mnp\u001b[0m\u001b[0;34m.\u001b[0m\u001b[0marray\u001b[0m\u001b[0;34m(\u001b[0m\u001b[0mdatabase\u001b[0m\u001b[0;34m.\u001b[0m\u001b[0mdrop\u001b[0m\u001b[0;34m(\u001b[0m\u001b[0mcolumns\u001b[0m\u001b[0;34m=\u001b[0m\u001b[0;34m'Crédit'\u001b[0m\u001b[0;34m)\u001b[0m\u001b[0;34m)\u001b[0m\u001b[0;34m\u001b[0m\u001b[0;34m\u001b[0m\u001b[0m\n\u001b[0m\u001b[1;32m      2\u001b[0m \u001b[0mY\u001b[0m\u001b[0;34m=\u001b[0m\u001b[0mnp\u001b[0m\u001b[0;34m.\u001b[0m\u001b[0marray\u001b[0m\u001b[0;34m(\u001b[0m\u001b[0mdatabase\u001b[0m\u001b[0;34m[\u001b[0m\u001b[0;34m'Crédit'\u001b[0m\u001b[0;34m]\u001b[0m\u001b[0;34m)\u001b[0m\u001b[0;34m\u001b[0m\u001b[0;34m\u001b[0m\u001b[0m\n\u001b[1;32m      3\u001b[0m \u001b[0mfeature_list\u001b[0m \u001b[0;34m=\u001b[0m \u001b[0mlist\u001b[0m\u001b[0;34m(\u001b[0m\u001b[0mdatabase\u001b[0m\u001b[0;34m.\u001b[0m\u001b[0mcolumns\u001b[0m\u001b[0;34m)\u001b[0m\u001b[0;34m\u001b[0m\u001b[0;34m\u001b[0m\u001b[0m\n\u001b[1;32m      4\u001b[0m \u001b[0mfeature_list\u001b[0m\u001b[0;34m.\u001b[0m\u001b[0mpop\u001b[0m\u001b[0;34m(\u001b[0m\u001b[0;36m0\u001b[0m\u001b[0;34m)\u001b[0m\u001b[0;34m\u001b[0m\u001b[0;34m\u001b[0m\u001b[0m\n\u001b[1;32m      5\u001b[0m \u001b[0;31m# Using Skicit-learn to split data into training and testing sets\u001b[0m\u001b[0;34m\u001b[0m\u001b[0;34m\u001b[0m\u001b[0;34m\u001b[0m\u001b[0m\n",
      "\u001b[0;31mNameError\u001b[0m: name 'np' is not defined"
     ]
    }
   ],
   "source": [
    "X=np.array(database.drop(columns='Crédit'))\n",
    "Y=np.array(database['Crédit'])\n",
    "feature_list = list(database.columns)\n",
    "feature_list.pop(0)\n",
    "# Using Skicit-learn to split data into training and testing sets\n",
    "from sklearn.model_selection import train_test_split\n",
    "# Split the data into training and testing sets\n",
    "trainX, testX, trainY, testY = train_test_split(X, Y, test_size = 0.30, random_state = 42)"
   ]
  },
  {
   "cell_type": "markdown",
   "metadata": {},
   "source": [
    "---\n",
    "## 3. Modèle Logit"
   ]
  },
  {
   "cell_type": "code",
   "execution_count": 56,
   "metadata": {},
   "outputs": [
    {
     "name": "stdout",
     "output_type": "stream",
     "text": [
      "Train score= 0.7814285714285715\n",
      "Test score= 0.7633333333333333\n",
      "AIC= 79.47464024591737\n"
     ]
    }
   ],
   "source": [
    "from sklearn.linear_model import LogisticRegression\n",
    "logisticRegr = LogisticRegression()\n",
    "logisticRegr.fit(trainX, trainY)\n",
    "predictions = logisticRegr.predict(testX)\n",
    "# Use score method to get accuracy of model\n",
    "trainscore=logisticRegr.score(trainX, trainY)\n",
    "print('Train score=',trainscore)\n",
    "score = logisticRegr.score(testX, testY)\n",
    "print('Test score=',score)\n",
    "resid = testY - predictions\n",
    "sse = sum(resid**2)\n",
    "k=trainX.shape[1] \n",
    "AIC= 2*k - 2*np.log(sse)\n",
    "print('AIC=',AIC)"
   ]
  },
  {
   "cell_type": "markdown",
   "metadata": {},
   "source": [
    "### Nous décidons de se débarasser d'abord des poids négatifs:"
   ]
  },
  {
   "cell_type": "code",
   "execution_count": 57,
   "metadata": {},
   "outputs": [
    {
     "name": "stdout",
     "output_type": "stream",
     "text": [
      "Le paramètre: durée du prêt en mois a un poids de: 0.018883733166105067\n",
      "Le paramètre: Montant crédit a un poids de: 9.757305691329222e-05\n",
      "Le paramètre: Versements en % du revenu a un poids de: 0.2646453143762074\n",
      "Le paramètre: Nb d'années de la résidence a un poids de: -0.004881708603760236\n",
      "Le paramètre: age a un poids de: -0.035679813432234926\n",
      "Le paramètre: Crédits à cette banque a un poids de: 0.17811699214311194\n",
      "Le paramètre: Personnes à charge a un poids de: 0.05588450904358157\n",
      "Le paramètre: Statut Compte épargne_0 <= ... < 2000 $ a un poids de: 0.9685373365491334\n",
      "Le paramètre: Statut Compte épargne_< 0 $ a un poids de: 1.2223490916254542\n",
      "Le paramètre: Statut Compte épargne_>= 2000 $ / salary assignments for at least 1 year a un poids de: 0.3765906966368167\n",
      "Le paramètre: Historique de crédit_all credits at this bank paid back duly a un poids de: 0.22329454873653914\n",
      "Le paramètre: Historique de crédit_critical account/ other credits existing (not at this bank) a un poids de: -1.1242334560734928\n",
      "Le paramètre: Historique de crédit_delay in paying off in the past a un poids de: -0.7113494867516942\n",
      "Le paramètre: Historique de crédit_existing credits paid back duly till now a un poids de: -0.32536698218321825\n",
      "Le paramètre: Raison de la demande_car (new) a un poids de: 0.5259556459375018\n",
      "Le paramètre: Raison de la demande_radio/television a un poids de: -0.43588834986900127\n",
      "Le paramètre: Épargnes_.. >= 10000 $  a un poids de: -0.36475548806738317\n",
      "Le paramètre: Épargnes_... < 1000 $ a un poids de: 0.5072286686016455\n",
      "Le paramètre: Épargnes_1000 <= ... < 5000 $ a un poids de: 0.22537900420787327\n",
      "Le paramètre: Épargnes_5000 <= ... < 10000 $  a un poids de: -0.18374973366051356\n",
      "Le paramètre: Durée de l'emploi actuel_.. >= 7 years a un poids de: -0.29752941504964525\n",
      "Le paramètre: Durée de l'emploi actuel_... < 1 year  a un poids de: -0.07834003599352347\n",
      "Le paramètre: Durée de l'emploi actuel_1 <= ... < 4 years a un poids de: -0.1404631700452886\n",
      "Le paramètre: Durée de l'emploi actuel_4 <= ... < 7 years a un poids de: -0.4383092154984922\n",
      "Le paramètre: Genre et statut marital_female : divorced/separated/married a un poids de: 0.002133145474683268\n",
      "Le paramètre: Genre et statut marital_male : divorced/separated a un poids de: 0.13017538494378827\n",
      "Le paramètre: Genre et statut marital_male : single a un poids de: -0.4024868299372505\n",
      "Le paramètre: Autres débiteurs_co-applicant a un poids de: -0.0527835804549517\n",
      "Le paramètre: Autres débiteurs_guarantor a un poids de: -0.6197012701444392\n",
      "Le paramètre: Type de propriété_if not A121 : building society savings agreement/ life insurance a un poids de: -0.2617355702402217\n",
      "Le paramètre: Type de propriété_if not A121/A122 : car or other, not in attribute 6 a un poids de: -0.3444070440687409\n",
      "Le paramètre: Type de propriété_real estate a un poids de: -0.6974071016298418\n",
      "Le paramètre: Autres plan de versements échelonnés_bank a un poids de: 0.39440103423927775\n",
      "Le paramètre: Autres plan de versements échelonnés_stores a un poids de: 0.3925526980023565\n",
      "Le paramètre: Résidence_own a un poids de: -0.561050256461731\n",
      "Le paramètre: Résidence_rent a un poids de: -0.19576331819372092\n",
      "Le paramètre: Emploi_management/ self-employed/ highly qualified employee/ officer a un poids de: 0.01122904875969464\n",
      "Le paramètre: Emploi_skilled employee / official a un poids de: -0.020710691779692352\n",
      "Le paramètre: Emploi_unemployed/ unskilled - non-resident a un poids de: -0.2036184828710024\n",
      "Le paramètre: telephone_yes, registered under the customers name  a un poids de: -0.28948953988417\n",
      "Le paramètre: Travailleur étranger_yes a un poids de: 0.3454179703842549\n",
      "Le paramètre: Raison de la demande_domestic appliances/furniture/equipment a un poids de: -0.4396175867375596\n",
      "Le paramètre: Raison de la demande_car(used)/repairs a un poids de: -0.7566318219626151\n",
      "Le paramètre: Raison de la demande_education/retraining/business/vacation a un poids de: 0.19118757050602048\n"
     ]
    }
   ],
   "source": [
    "coefficient=logisticRegr.coef_\n",
    "#On créer une nouvelle database qui sera construite sans les poids négatifs de la première régression\n",
    "database2=database\n",
    "for i in range(0,coefficient.shape[1]):\n",
    "    print(\"Le paramètre:\",feature_list[i],\"a un poids de:\",coefficient[0,i])\n",
    "    if coefficient[0,i]<0:\n",
    "        database2=database2.drop(columns=feature_list[i])"
   ]
  },
  {
   "cell_type": "code",
   "execution_count": 58,
   "metadata": {},
   "outputs": [],
   "source": [
    "X=np.array(database2.drop(columns='Crédit'))\n",
    "Y=np.array(database2['Crédit'])"
   ]
  },
  {
   "cell_type": "code",
   "execution_count": 59,
   "metadata": {},
   "outputs": [],
   "source": [
    "# Split the data into training and testing sets\n",
    "trainX1, testX1, trainY1, testY1 = train_test_split(X, Y, test_size = 0.30, random_state = 42)"
   ]
  },
  {
   "cell_type": "code",
   "execution_count": 60,
   "metadata": {},
   "outputs": [
    {
     "name": "stdout",
     "output_type": "stream",
     "text": [
      "Train score= 0.76\n",
      "Test score= 0.7733333333333333\n",
      "AIC= 29.560984589647788\n"
     ]
    }
   ],
   "source": [
    "logisticRegr1 = LogisticRegression()\n",
    "logisticRegr1.fit(trainX1, trainY1)\n",
    "predictions1 = logisticRegr1.predict(testX1)\n",
    "# Use score method to get accuracy of model\n",
    "trainscore=logisticRegr1.score(trainX1, trainY1)\n",
    "print('Train score=',trainscore)\n",
    "score = logisticRegr1.score(testX1, testY1)\n",
    "print('Test score=',score)\n",
    "resid = testY1 - predictions1\n",
    "sse = sum(resid**2)\n",
    "k=trainX1.shape[1] \n",
    "AIC= 2*k - 2*np.log(sse)\n",
    "print('AIC=',AIC)\n"
   ]
  },
  {
   "cell_type": "markdown",
   "metadata": {},
   "source": [
    "### En enlevant les variables avec un poids négatif nous obtenons une augmentation de 1% sur le test score mais une baisse dramatique du AIC. Nous pouvons maintenant enlever les variables ayant un poids plus grand que 1 ou plus petit que 0.05"
   ]
  },
  {
   "cell_type": "code",
   "execution_count": 61,
   "metadata": {},
   "outputs": [],
   "source": [
    "database3=database\n",
    "for i in range(0,coefficient.shape[1]):\n",
    "    if coefficient[0,i]<=0  or coefficient[0,i]<0.01 or coefficient[0,i]>1:\n",
    "        database3=database3.drop(columns=feature_list[i])"
   ]
  },
  {
   "cell_type": "code",
   "execution_count": 62,
   "metadata": {},
   "outputs": [
    {
     "name": "stdout",
     "output_type": "stream",
     "text": [
      "Train score= 0.73\n",
      "Test score= 0.7566666666666667\n",
      "AIC= 23.419081117703218\n"
     ]
    }
   ],
   "source": [
    "X=np.array(database3.drop(columns='Crédit'))\n",
    "Y=np.array(database3['Crédit'])\n",
    "# Using Skicit-learn to split data into training and testing sets\n",
    "from sklearn.model_selection import train_test_split\n",
    "# Split the data into training and testing sets\n",
    "trainX, testX, trainY, testY = train_test_split(X, Y, test_size = 0.30, random_state = 42)\n",
    "logisticRegr = LogisticRegression()\n",
    "logisticRegr.fit(trainX, trainY)\n",
    "predictions = logisticRegr.predict(testX)\n",
    "# Use score method to get accuracy of model\n",
    "trainscore=logisticRegr.score(trainX, trainY)\n",
    "print('Train score=',trainscore)\n",
    "score = logisticRegr.score(testX, testY)\n",
    "print('Test score=',score)\n",
    "resid = testY - predictions\n",
    "sse = sum(resid**2)\n",
    "k=trainX.shape[1] \n",
    "AIC= 2*k - 2*np.log(sse)\n",
    "print('AIC=',AIC)"
   ]
  },
  {
   "cell_type": "markdown",
   "metadata": {},
   "source": [
    "### On voit que nous avons obtenu une baisse de performance de 1.5% en enlevant les poids<0.01 et >1. Cette baisse fait du sens puisqu'on enlève la variable Statut Compte épargne_< 0. Il semble raisonnable de dire qu'avoir un compte chèque négatif est un grand indicateur de mauvais crédit."
   ]
  },
  {
   "cell_type": "markdown",
   "metadata": {},
   "source": [
    "--- \n",
    "## Recursive Feature Selection:\n",
    "On utilise maintenant le package: sklearn.feature_selection.RFE de SkLearn"
   ]
  },
  {
   "cell_type": "code",
   "execution_count": 63,
   "metadata": {},
   "outputs": [],
   "source": [
    "from sklearn.feature_selection import RFE\n",
    "logisticRegr = LogisticRegression()\n",
    "selector = RFE(logisticRegr, 20, step=1)\n",
    "\n",
    "X=np.array(database.drop(columns='Crédit'))\n",
    "Y=np.array(database['Crédit'])\n",
    "selector = selector.fit(X, Y)\n",
    "importance=selector.support_ "
   ]
  },
  {
   "cell_type": "code",
   "execution_count": 64,
   "metadata": {},
   "outputs": [
    {
     "name": "stdout",
     "output_type": "stream",
     "text": [
      "Le paramètre: durée du prêt en mois n'est pas selectionné\n",
      "Le paramètre: Montant crédit n'est pas selectionné\n",
      "Le paramètre: Versements en % du revenu n'est pas selectionné\n",
      "Le paramètre: Nb d'années de la résidence n'est pas selectionné\n",
      "Le paramètre: age n'est pas selectionné\n",
      "Le paramètre: Crédits à cette banque n'est pas selectionné\n",
      "Le paramètre: Personnes à charge n'est pas selectionné\n",
      "Le paramètre: Statut Compte épargne_>= 2000 $ / salary assignments for at least 1 year n'est pas selectionné\n",
      "Le paramètre: Historique de crédit_all credits at this bank paid back duly n'est pas selectionné\n",
      "Le paramètre: Raison de la demande_car (new) n'est pas selectionné\n",
      "Le paramètre: Épargnes_5000 <= ... < 10000 $  n'est pas selectionné\n",
      "Le paramètre: Durée de l'emploi actuel_.. >= 7 years n'est pas selectionné\n",
      "Le paramètre: Durée de l'emploi actuel_... < 1 year  n'est pas selectionné\n",
      "Le paramètre: Durée de l'emploi actuel_1 <= ... < 4 years n'est pas selectionné\n",
      "Le paramètre: Genre et statut marital_female : divorced/separated/married n'est pas selectionné\n",
      "Le paramètre: Genre et statut marital_male : divorced/separated n'est pas selectionné\n",
      "Le paramètre: Genre et statut marital_male : single n'est pas selectionné\n",
      "Le paramètre: Type de propriété_if not A121/A122 : car or other, not in attribute 6 n'est pas selectionné\n",
      "Le paramètre: Résidence_own n'est pas selectionné\n",
      "Le paramètre: Emploi_management/ self-employed/ highly qualified employee/ officer n'est pas selectionné\n",
      "Le paramètre: Emploi_skilled employee / official n'est pas selectionné\n",
      "Le paramètre: Emploi_unemployed/ unskilled - non-resident n'est pas selectionné\n",
      "Le paramètre: telephone_yes, registered under the customers name  n'est pas selectionné\n",
      "Le paramètre: Raison de la demande_education/retraining/business/vacation n'est pas selectionné\n"
     ]
    }
   ],
   "source": [
    "database4=database\n",
    "## On veut visualiser les variables qui ne sont pas sélectionnées\n",
    "for i in range(0,len(importance)):\n",
    "    if importance[i]==False :\n",
    "        print(\"Le paramètre:\",feature_list[i], \"n'est pas selectionné\")\n",
    "        database4=database4.drop(columns=feature_list[i])"
   ]
  },
  {
   "cell_type": "code",
   "execution_count": 65,
   "metadata": {},
   "outputs": [
    {
     "name": "stdout",
     "output_type": "stream",
     "text": [
      "Train score= 0.7628571428571429\n",
      "Test score= 0.76\n",
      "AIC= 31.446667761967888\n"
     ]
    }
   ],
   "source": [
    "X=np.array(database4.drop(columns='Crédit'))\n",
    "Y=np.array(database4['Crédit'])\n",
    "# Using Skicit-learn to split data into training and testing sets\n",
    "from sklearn.model_selection import train_test_split\n",
    "# Split the data into training and testing sets\n",
    "trainX, testX, trainY, testY = train_test_split(X, Y, test_size = 0.30, random_state = 42)\n",
    "logisticRegr = LogisticRegression()\n",
    "logisticRegr.fit(trainX, trainY)\n",
    "predictions = logisticRegr.predict(testX)\n",
    "# Use score method to get accuracy of model\n",
    "trainscore=logisticRegr.score(trainX, trainY)\n",
    "print('Train score=',trainscore)\n",
    "score = logisticRegr.score(testX, testY)\n",
    "print('Test score=',score)\n",
    "resid = testY - predictions\n",
    "sse = sum(resid**2)\n",
    "k=trainX.shape[1] \n",
    "AIC= 2*k - 2*np.log(sse)\n",
    "print('AIC=',AIC)"
   ]
  },
  {
   "cell_type": "markdown",
   "metadata": {},
   "source": [
    "### On peut donc voir qu'en prenant 20 valeurs obtenues par le \"Recursive Feature Elimination\" nous obtenons un \"Test Score\" de 76.0%. Notre meilleur modèle est donc celui obtenu en enlevant les poids négatif de la première régression logistique."
   ]
  },
  {
   "cell_type": "code",
   "execution_count": 66,
   "metadata": {},
   "outputs": [
    {
     "name": "stdout",
     "output_type": "stream",
     "text": [
      "[[195  14]\n",
      " [ 54  37]]\n"
     ]
    }
   ],
   "source": [
    "#Confustion matrix\n",
    "from sklearn.metrics import confusion_matrix\n",
    "confusion_matrix = confusion_matrix(testY1, predictions1)\n",
    "print(confusion_matrix)"
   ]
  },
  {
   "cell_type": "markdown",
   "metadata": {},
   "source": [
    "195+37=232 Bonnes prédictions et \n",
    "54+14=68 Mauvaises prédictions"
   ]
  },
  {
   "cell_type": "code",
   "execution_count": 67,
   "metadata": {},
   "outputs": [
    {
     "data": {
      "image/png": "[encoded data removed]",
      "text/plain": [
       "<Figure size 432x288 with 1 Axes>"
      ]
     },
     "metadata": {
      "needs_background": "light"
     },
     "output_type": "display_data"
    }
   ],
   "source": [
    "from sklearn.metrics import roc_auc_score\n",
    "from sklearn.metrics import roc_curve\n",
    "logisticRegr.fit(trainX1, trainY1)\n",
    "logit_roc_auc = roc_auc_score(testY1, logisticRegr.predict(testX1))\n",
    "fpr, tpr, thresholds = roc_curve(testY1, logisticRegr.predict_proba(testX1)[:,1])\n",
    "plt.figure()\n",
    "plt.plot(fpr, tpr, label='Logistic Regression (area = %0.2f)' % logit_roc_auc)\n",
    "plt.plot([0, 1], [0, 1],'r--')\n",
    "plt.xlim([0.0, 1.0])\n",
    "plt.ylim([0.0, 1.05])\n",
    "plt.xlabel('False Positive Rate')\n",
    "plt.ylabel('True Positive Rate')\n",
    "plt.title('Receiver operating characteristic')\n",
    "plt.legend(loc=\"lower right\")\n",
    "plt.savefig('Log_ROC')\n",
    "plt.show()"
   ]
  },
  {
   "cell_type": "markdown",
   "metadata": {},
   "source": [
    "On voit que notre classifieur est assez loin de la ligne pointillé qui représente une performance purement aléatoire ce qui est bien. L'objectif est d'être le plus à gauche de la ligne possible."
   ]
  },
  {
   "cell_type": "code",
   "execution_count": 68,
   "metadata": {},
   "outputs": [
    {
     "name": "stdout",
     "output_type": "stream",
     "text": [
      "Le palmarès des variables du modèle Logit final est: \n",
      "\n"
     ]
    },
    {
     "data": {
      "text/html": [
       "<div>\n",
       "<style scoped>\n",
       "    .dataframe tbody tr th:only-of-type {\n",
       "        vertical-align: middle;\n",
       "    }\n",
       "\n",
       "    .dataframe tbody tr th {\n",
       "        vertical-align: top;\n",
       "    }\n",
       "\n",
       "    .dataframe thead th {\n",
       "        text-align: right;\n",
       "    }\n",
       "</style>\n",
       "<table border=\"1\" class=\"dataframe\">\n",
       "  <thead>\n",
       "    <tr style=\"text-align: right;\">\n",
       "      <th></th>\n",
       "      <th>coef</th>\n",
       "      <th>variable</th>\n",
       "    </tr>\n",
       "  </thead>\n",
       "  <tbody>\n",
       "    <tr>\n",
       "      <th>6</th>\n",
       "      <td>1.473009</td>\n",
       "      <td>Statut Compte épargne_&lt; 0 $</td>\n",
       "    </tr>\n",
       "    <tr>\n",
       "      <th>5</th>\n",
       "      <td>1.059798</td>\n",
       "      <td>Statut Compte épargne_0 &lt;= ... &lt; 2000 $</td>\n",
       "    </tr>\n",
       "    <tr>\n",
       "      <th>9</th>\n",
       "      <td>0.820151</td>\n",
       "      <td>Raison de la demande_car (new)</td>\n",
       "    </tr>\n",
       "    <tr>\n",
       "      <th>18</th>\n",
       "      <td>0.584647</td>\n",
       "      <td>Raison de la demande_education/retraining/busi...</td>\n",
       "    </tr>\n",
       "    <tr>\n",
       "      <th>10</th>\n",
       "      <td>0.555330</td>\n",
       "      <td>Épargnes_... &lt; 1000 $</td>\n",
       "    </tr>\n",
       "    <tr>\n",
       "      <th>8</th>\n",
       "      <td>0.513696</td>\n",
       "      <td>Historique de crédit_all credits at this bank ...</td>\n",
       "    </tr>\n",
       "    <tr>\n",
       "      <th>14</th>\n",
       "      <td>0.480075</td>\n",
       "      <td>Autres plan de versements échelonnés_bank</td>\n",
       "    </tr>\n",
       "    <tr>\n",
       "      <th>11</th>\n",
       "      <td>0.479865</td>\n",
       "      <td>Épargnes_1000 &lt;= ... &lt; 5000 $</td>\n",
       "    </tr>\n",
       "    <tr>\n",
       "      <th>12</th>\n",
       "      <td>0.413754</td>\n",
       "      <td>Genre et statut marital_female : divorced/sepa...</td>\n",
       "    </tr>\n",
       "    <tr>\n",
       "      <th>7</th>\n",
       "      <td>0.403175</td>\n",
       "      <td>Statut Compte épargne_&gt;= 2000 $ / salary assig...</td>\n",
       "    </tr>\n",
       "    <tr>\n",
       "      <th>15</th>\n",
       "      <td>0.299138</td>\n",
       "      <td>Autres plan de versements échelonnés_stores</td>\n",
       "    </tr>\n",
       "    <tr>\n",
       "      <th>17</th>\n",
       "      <td>0.202708</td>\n",
       "      <td>Travailleur étranger_yes</td>\n",
       "    </tr>\n",
       "    <tr>\n",
       "      <th>13</th>\n",
       "      <td>0.179437</td>\n",
       "      <td>Genre et statut marital_male : divorced/separated</td>\n",
       "    </tr>\n",
       "    <tr>\n",
       "      <th>2</th>\n",
       "      <td>0.170901</td>\n",
       "      <td>Versements en % du revenu</td>\n",
       "    </tr>\n",
       "    <tr>\n",
       "      <th>0</th>\n",
       "      <td>0.019075</td>\n",
       "      <td>durée du prêt en mois</td>\n",
       "    </tr>\n",
       "    <tr>\n",
       "      <th>1</th>\n",
       "      <td>0.000089</td>\n",
       "      <td>Montant crédit</td>\n",
       "    </tr>\n",
       "    <tr>\n",
       "      <th>16</th>\n",
       "      <td>-0.105545</td>\n",
       "      <td>Emploi_management/ self-employed/ highly quali...</td>\n",
       "    </tr>\n",
       "    <tr>\n",
       "      <th>4</th>\n",
       "      <td>-0.235148</td>\n",
       "      <td>Personnes à charge</td>\n",
       "    </tr>\n",
       "    <tr>\n",
       "      <th>3</th>\n",
       "      <td>-0.256593</td>\n",
       "      <td>Crédits à cette banque</td>\n",
       "    </tr>\n",
       "  </tbody>\n",
       "</table>\n",
       "</div>"
      ],
      "text/plain": [
       "        coef                                           variable\n",
       "6   1.473009                        Statut Compte épargne_< 0 $\n",
       "5   1.059798            Statut Compte épargne_0 <= ... < 2000 $\n",
       "9   0.820151                     Raison de la demande_car (new)\n",
       "18  0.584647  Raison de la demande_education/retraining/busi...\n",
       "10  0.555330                              Épargnes_... < 1000 $\n",
       "8   0.513696  Historique de crédit_all credits at this bank ...\n",
       "14  0.480075          Autres plan de versements échelonnés_bank\n",
       "11  0.479865                      Épargnes_1000 <= ... < 5000 $\n",
       "12  0.413754  Genre et statut marital_female : divorced/sepa...\n",
       "7   0.403175  Statut Compte épargne_>= 2000 $ / salary assig...\n",
       "15  0.299138        Autres plan de versements échelonnés_stores\n",
       "17  0.202708                           Travailleur étranger_yes\n",
       "13  0.179437  Genre et statut marital_male : divorced/separated\n",
       "2   0.170901                          Versements en % du revenu\n",
       "0   0.019075                              durée du prêt en mois\n",
       "1   0.000089                                     Montant crédit\n",
       "16 -0.105545  Emploi_management/ self-employed/ highly quali...\n",
       "4  -0.235148                                 Personnes à charge\n",
       "3  -0.256593                             Crédits à cette banque"
      ]
     },
     "execution_count": 68,
     "metadata": {},
     "output_type": "execute_result"
    }
   ],
   "source": [
    "print(\"Le palmarès des variables du modèle Logit final est: \\n\")\n",
    "coefficient=logisticRegr1.coef_\n",
    "feature_list2=list(database2)\n",
    "feature_list2.pop(0)\n",
    "coefficient_reg=pd.DataFrame( np.transpose(coefficient))\n",
    "featurelistframe=pd.DataFrame(np.transpose(feature_list2))\n",
    "coefficient_reg=pd.concat([coefficient_reg,featurelistframe],axis=1)\n",
    "coefficient_reg.columns = ['coef', 'variable']\n",
    "coefficient_reg.sort_values(by='coef', ascending=0)\n"
   ]
  },
  {
   "cell_type": "markdown",
   "metadata": {},
   "source": [
    "---\n",
    "## Arbre de décision\n",
    "Nous utilisons maintenant le DecisionTreeClassifier du package SkLearn.\n",
    "Nous utiliserons premièrement toutes les variables du dataset."
   ]
  },
  {
   "cell_type": "code",
   "execution_count": 69,
   "metadata": {},
   "outputs": [
    {
     "name": "stdout",
     "output_type": "stream",
     "text": [
      "Accuracy is  67.33333333333333\n"
     ]
    }
   ],
   "source": [
    "from sklearn.tree import DecisionTreeClassifier\n",
    "from sklearn.metrics import accuracy_score\n",
    "X=np.array(database.drop(columns='Crédit'))\n",
    "Y=np.array(database['Crédit'])\n",
    "# Using Skicit-learn to split data into training and testing sets\n",
    "from sklearn.model_selection import train_test_split\n",
    "# Split the data into training and testing sets\n",
    "trainX, testX, trainY, testY = train_test_split(X, Y, test_size = 0.30, random_state = 42)\n",
    "\n",
    "clf_gini = DecisionTreeClassifier(criterion = \"gini\", random_state = 100)                             \n",
    "clf_gini.fit(trainX, trainY)\n",
    "predictionstree=clf_gini.predict(testX)\n",
    "print(\"Accuracy is \", accuracy_score(testY,predictionstree)*100)"
   ]
  },
  {
   "cell_type": "code",
   "execution_count": 70,
   "metadata": {},
   "outputs": [
    {
     "name": "stdout",
     "output_type": "stream",
     "text": [
      "[[163  46]\n",
      " [ 52  39]]\n"
     ]
    }
   ],
   "source": [
    "#Confustion matrix\n",
    "from sklearn.metrics import confusion_matrix\n",
    "confusion_matrix = confusion_matrix(testY, predictionstree)\n",
    "print(confusion_matrix)"
   ]
  },
  {
   "cell_type": "code",
   "execution_count": 71,
   "metadata": {},
   "outputs": [
    {
     "data": {
      "image/png": "[encoded data removed]",
      "text/plain": [
       "<Figure size 432x288 with 1 Axes>"
      ]
     },
     "metadata": {
      "needs_background": "light"
     },
     "output_type": "display_data"
    }
   ],
   "source": [
    "logit_roc_auc = roc_auc_score(testY, clf_gini.predict(testX))\n",
    "fpr, tpr, thresholds = roc_curve(testY, clf_gini.predict_proba(testX)[:,1])\n",
    "plt.figure()\n",
    "plt.plot(fpr, tpr, label='Decision Tree (area = %0.2f)' % logit_roc_auc)\n",
    "plt.plot([0, 1], [0, 1],'r--')\n",
    "plt.xlim([0.0, 1.0])\n",
    "plt.ylim([0.0, 1.05])\n",
    "plt.xlabel('False Positive Rate')\n",
    "plt.ylabel('True Positive Rate')\n",
    "plt.title('ROC pour le Decision Tree Classifier sur lechantillon test')\n",
    "plt.legend(loc=\"lower right\")\n",
    "plt.savefig('Log_ROC')\n",
    "plt.show()"
   ]
  },
  {
   "cell_type": "markdown",
   "metadata": {},
   "source": [
    "On voit que la courbe ROC sur l'échantillon test de l'arbre de décision est nettement moins bonne que celle du modèle Logit."
   ]
  },
  {
   "cell_type": "code",
   "execution_count": 72,
   "metadata": {},
   "outputs": [
    {
     "data": {
      "image/png": "[encoded data removed]",
      "text/plain": [
       "<Figure size 432x288 with 1 Axes>"
      ]
     },
     "metadata": {
      "needs_background": "light"
     },
     "output_type": "display_data"
    }
   ],
   "source": [
    "logit_roc_auc = roc_auc_score(trainY, clf_gini.predict(trainX))\n",
    "fpr, tpr, thresholds = roc_curve(trainY, clf_gini.predict_proba(trainX)[:,1])\n",
    "plt.figure()\n",
    "plt.plot(fpr, tpr, label='Decision Tree (area = %0.2f)' % logit_roc_auc)\n",
    "plt.plot([0, 1], [0, 1],'r--')\n",
    "plt.xlim([0.0, 1.0])\n",
    "plt.ylim([0.0, 1.05])\n",
    "plt.xlabel('False Positive Rate')\n",
    "plt.ylabel('True Positive Rate')\n",
    "plt.title('ROC pour le Decision Tree Classifier sur lechantillon dentrainement')\n",
    "plt.legend(loc=\"lower right\")\n",
    "plt.savefig('Log_ROC')\n",
    "plt.show()"
   ]
  },
  {
   "cell_type": "markdown",
   "metadata": {},
   "source": [
    "On peut voir que la courbe ROC est parfaite pour l'échantillon d'entraînement. On s'attend à ce résultat puisque l'algorithme s'entrâine sur plusieurs itérations afin de minimiser l'erreur."
   ]
  },
  {
   "cell_type": "markdown",
   "metadata": {},
   "source": [
    "### On répète maintenant l'exercice avec les variables sélectionnés par le modèle Logit:"
   ]
  },
  {
   "cell_type": "code",
   "execution_count": 73,
   "metadata": {},
   "outputs": [
    {
     "name": "stdout",
     "output_type": "stream",
     "text": [
      "Accuracy is  64.66666666666666\n"
     ]
    }
   ],
   "source": [
    "X=np.array(database2.drop(columns='Crédit'))\n",
    "Y=np.array(database2['Crédit'])\n",
    "from sklearn.model_selection import train_test_split\n",
    "trainX, testX, trainY, testY = train_test_split(X, Y, test_size = 0.30, random_state = 42)\n",
    "clf_gini = DecisionTreeClassifier(criterion = \"gini\", random_state = 100)                             \n",
    "clf_gini.fit(trainX, trainY)\n",
    "predictionstree=clf_gini.predict(testX)\n",
    "print(\"Accuracy is \", accuracy_score(testY,predictionstree)*100)\n"
   ]
  },
  {
   "cell_type": "markdown",
   "metadata": {},
   "source": [
    "### On voit que la précision est plus de 10% moins bonne que celle du modèle Logit. Ceci veut probablement dire que l'indice de pureté n'est pas optimale pour les variables sélectionnées par le modèle Logit."
   ]
  },
  {
   "cell_type": "markdown",
   "metadata": {},
   "source": [
    "---\n",
    "## 5. Random Forest"
   ]
  },
  {
   "cell_type": "code",
   "execution_count": 74,
   "metadata": {},
   "outputs": [
    {
     "name": "stdout",
     "output_type": "stream",
     "text": [
      "Score du Random Forest: 0.7566666666666667\n"
     ]
    }
   ],
   "source": [
    ">>> from sklearn.ensemble import RandomForestClassifier\n",
    "X=np.array(database.drop(columns='Crédit'))\n",
    "Y=np.array(database['Crédit'])\n",
    "# Using Skicit-learn to split data into training and testing sets\n",
    "from sklearn.model_selection import train_test_split\n",
    "# Split the data into training and testing sets\n",
    "trainX, testX, trainY, testY = train_test_split(X, Y, test_size = 0.30, random_state = 42)\n",
    "\n",
    "clf = RandomForestClassifier(n_estimators=100,random_state=0)\n",
    "clf.fit(trainX,trainY)\n",
    "predictions_RF=clf.predict(testX)\n",
    "score=clf.score(testX,testY)\n",
    "print(\"Score du Random Forest:\",score)"
   ]
  },
  {
   "cell_type": "code",
   "execution_count": 75,
   "metadata": {},
   "outputs": [
    {
     "name": "stdout",
     "output_type": "stream",
     "text": [
      "La matrice de confusion pour le modèle Random Forest est: \n",
      "\n",
      "[[200   9]\n",
      " [ 64  27]]\n"
     ]
    }
   ],
   "source": [
    "#Confustion matrix\n",
    "from sklearn.metrics import confusion_matrix\n",
    "confusion_matrix = confusion_matrix(testY, predictions_RF)\n",
    "print(\"La matrice de confusion pour le modèle Random Forest est: \\n\")\n",
    "print(confusion_matrix)"
   ]
  },
  {
   "cell_type": "code",
   "execution_count": 76,
   "metadata": {},
   "outputs": [
    {
     "data": {
      "image/png": "[encoded data removed]",
      "text/plain": [
       "<Figure size 432x288 with 1 Axes>"
      ]
     },
     "metadata": {
      "needs_background": "light"
     },
     "output_type": "display_data"
    }
   ],
   "source": [
    "logit_roc_auc = roc_auc_score(testY, clf.predict(testX))\n",
    "fpr, tpr, thresholds = roc_curve(testY, clf.predict_proba(testX)[:,1])\n",
    "plt.figure()\n",
    "plt.plot(fpr, tpr, label='Random Forest (area = %0.2f)' % logit_roc_auc)\n",
    "plt.plot([0, 1], [0, 1],'r--')\n",
    "plt.xlim([0.0, 1.0])\n",
    "plt.ylim([0.0, 1.05])\n",
    "plt.xlabel('False Positive Rate')\n",
    "plt.ylabel('True Positive Rate')\n",
    "plt.title('ROC pour le Random Forest sur lechantillon test')\n",
    "plt.legend(loc=\"lower right\")\n",
    "plt.savefig('Log_ROC')\n",
    "plt.show()"
   ]
  },
  {
   "cell_type": "code",
   "execution_count": 77,
   "metadata": {},
   "outputs": [
    {
     "data": {
      "image/png": "[encoded data removed]",
      "text/plain": [
       "<Figure size 432x288 with 1 Axes>"
      ]
     },
     "metadata": {
      "needs_background": "light"
     },
     "output_type": "display_data"
    }
   ],
   "source": [
    "logit_roc_auc = roc_auc_score(trainY, clf.predict(trainX))\n",
    "fpr, tpr, thresholds = roc_curve(trainY, clf.predict_proba(trainX)[:,1])\n",
    "plt.figure()\n",
    "plt.plot(fpr, tpr, label='Random Forest (area = %0.2f)' % logit_roc_auc)\n",
    "plt.plot([0, 1], [0, 1],'r--')\n",
    "plt.xlim([0.0, 1.0])\n",
    "plt.ylim([0.0, 1.05])\n",
    "plt.xlabel('False Positive Rate')\n",
    "plt.ylabel('True Positive Rate')\n",
    "plt.title('ROC pour le Random Forest sur lechantillon dentrainement')\n",
    "plt.legend(loc=\"lower right\")\n",
    "plt.savefig('Log_ROC')\n",
    "plt.show()"
   ]
  },
  {
   "cell_type": "markdown",
   "metadata": {},
   "source": [
    "### On peut voir que le modèle Random Forest est légèrement meilleur que l'arbre de décsion sur l'échantillon test. L'importance des variables est présentée ci-dessous:"
   ]
  },
  {
   "cell_type": "code",
   "execution_count": 78,
   "metadata": {},
   "outputs": [
    {
     "name": "stdout",
     "output_type": "stream",
     "text": [
      "L'importance de chacunes des variables: \n",
      "\n",
      "Variable: Montant crédit       Importance: 0.12\n",
      "Variable: durée du prêt en mois Importance: 0.09\n",
      "Variable: age                  Importance: 0.09\n",
      "Variable: Statut Compte épargne_< 0 $ Importance: 0.05\n",
      "Variable: Versements en % du revenu Importance: 0.04\n",
      "Variable: Nb d'années de la résidence Importance: 0.04\n",
      "Variable: Statut Compte épargne_0 <= ... < 2000 $ Importance: 0.03\n",
      "Variable: Historique de crédit_critical account/ other credits existing (not at this bank) Importance: 0.03\n",
      "Variable: Raison de la demande_car (new) Importance: 0.03\n",
      "Variable: Crédits à cette banque Importance: 0.02\n",
      "Variable: Historique de crédit_existing credits paid back duly till now Importance: 0.02\n",
      "Variable: Épargnes_... < 1000 $ Importance: 0.02\n",
      "Variable: Durée de l'emploi actuel_.. >= 7 years Importance: 0.02\n",
      "Variable: Durée de l'emploi actuel_... < 1 year  Importance: 0.02\n",
      "Variable: Durée de l'emploi actuel_1 <= ... < 4 years Importance: 0.02\n",
      "Variable: Genre et statut marital_female : divorced/separated/married Importance: 0.02\n",
      "Variable: Genre et statut marital_male : single Importance: 0.02\n",
      "Variable: Type de propriété_if not A121 : building society savings agreement/ life insurance Importance: 0.02\n",
      "Variable: Type de propriété_if not A121/A122 : car or other, not in attribute 6 Importance: 0.02\n",
      "Variable: Type de propriété_real estate Importance: 0.02\n",
      "Variable: Autres plan de versements échelonnés_bank Importance: 0.02\n",
      "Variable: Résidence_own        Importance: 0.02\n",
      "Variable: Emploi_skilled employee / official Importance: 0.02\n",
      "Variable: telephone_yes, registered under the customers name  Importance: 0.02\n",
      "Variable: Raison de la demande_domestic appliances/furniture/equipment Importance: 0.02\n",
      "Variable: Raison de la demande_education/retraining/business/vacation Importance: 0.02\n",
      "Variable: Personnes à charge   Importance: 0.01\n",
      "Variable: Statut Compte épargne_>= 2000 $ / salary assignments for at least 1 year Importance: 0.01\n",
      "Variable: Historique de crédit_all credits at this bank paid back duly Importance: 0.01\n",
      "Variable: Historique de crédit_delay in paying off in the past Importance: 0.01\n",
      "Variable: Raison de la demande_radio/television Importance: 0.01\n",
      "Variable: Épargnes_.. >= 10000 $  Importance: 0.01\n",
      "Variable: Épargnes_1000 <= ... < 5000 $ Importance: 0.01\n",
      "Variable: Épargnes_5000 <= ... < 10000 $  Importance: 0.01\n",
      "Variable: Durée de l'emploi actuel_4 <= ... < 7 years Importance: 0.01\n",
      "Variable: Genre et statut marital_male : divorced/separated Importance: 0.01\n",
      "Variable: Autres débiteurs_co-applicant Importance: 0.01\n",
      "Variable: Autres débiteurs_guarantor Importance: 0.01\n",
      "Variable: Autres plan de versements échelonnés_stores Importance: 0.01\n",
      "Variable: Résidence_rent       Importance: 0.01\n",
      "Variable: Emploi_management/ self-employed/ highly qualified employee/ officer Importance: 0.01\n",
      "Variable: Raison de la demande_car(used)/repairs Importance: 0.01\n",
      "Variable: Emploi_unemployed/ unskilled - non-resident Importance: 0.0\n",
      "Variable: Travailleur étranger_yes Importance: 0.0\n"
     ]
    }
   ],
   "source": [
    "importances = list(clf.feature_importances_)\n",
    "# List of tuples with variable and importance\n",
    "feature_importances = [(feature, round(importance, 2)) for feature, importance in zip(feature_list, importances)]\n",
    "# Sort the feature importances by most important first\n",
    "feature_importances = sorted(feature_importances, key = lambda x: x[1], reverse = True)\n",
    "print(\"L'importance de chacunes des variables: \\n\")\n",
    "# Print out the feature and importances \n",
    "[print('Variable: {:20} Importance: {}'.format(*pair)) for pair in feature_importances];"
   ]
  },
  {
   "cell_type": "code",
   "execution_count": 79,
   "metadata": {},
   "outputs": [
    {
     "data": {
      "image/png": "[encoded data removed]",
      "text/plain": [
       "<Figure size 432x288 with 1 Axes>"
      ]
     },
     "metadata": {
      "needs_background": "light"
     },
     "output_type": "display_data"
    }
   ],
   "source": [
    "# Import matplotlib for plotting and use magic command for Jupyter Notebooks\n",
    "%matplotlib inline\n",
    "# Set the style\n",
    "#plt.style.use('fivethirtyeight')\n",
    "# list of x locations for plotting\n",
    "x_values = list(range(len(importances)))\n",
    "# Make a bar chart\n",
    "plt.bar(x_values, importances, orientation = 'vertical')\n",
    "# Tick labels for x axis\n",
    "plt.xticks(x_values, feature_list, rotation='vertical')\n",
    "plt.grid(True)\n",
    "plt.box(True)\n",
    "plt.rcParams[\"figure.facecolor\"] = \"w\"\n",
    "# Axis labels and title\n",
    "plt.ylabel('Importance'); plt.xlabel('Variable'); plt.title('Importance des variables');"
   ]
  },
  {
   "cell_type": "markdown",
   "metadata": {},
   "source": [
    "## 5 Variables les plus importantes du modèle Logit\n",
    "\n",
    "|                          Variables                          |   Poids  |\n",
    "|:-----------------------------------------------------------:|:--------:|\n",
    "|                 Statut Compte épargne_< 0                   | 1.473009 |\n",
    "|          0 <=  Statut Compte epargne_    < 2000             | 1.059798 |\n",
    "|                Raison de la demande_car (new)               | 0.820151 |\n",
    "| Raison de la demande_education/retraining/business/vacation | 0.584647 |\n",
    "|                    Épargnes_... < 1000 $                    | 0.555330 |"
   ]
  },
  {
   "cell_type": "markdown",
   "metadata": {},
   "source": [
    "## 5 Variables les plus importantes du modèle Random Forest\n",
    "\n",
    "|         Variables         | Coefficient d'importance |\n",
    "|:-------------------------:|:------------------------:|\n",
    "|       Montant Crédit      |           0.12           |\n",
    "|            Âge            |           0.09           |\n",
    "|    Durée du prêt (mois)   |           0.09           |\n",
    "| Statut Compte épargne_< 0 |           0.05           |\n",
    "|  Versement en % du revenu |           0.04           |"
   ]
  },
  {
   "cell_type": "markdown",
   "metadata": {},
   "source": [
    "---\n",
    "## 6. Séléction des variables explicatives\n",
    "### On peut voir que le modèle Logit ne donne pas beaucoup d'importance aux variables continues alors que le Random Forest ne présente que des variables continues dans son top 5 de variables. Nous décidons d'utiliser les 9 variables présentes dans les top 5 du modèle Random Forest et Logit:\n",
    "1. Statut Compte éparge <0\n",
    "2. 0 <= Statut Compte epargne_ < 2000\n",
    "3. Raison de la demande_car (new)\n",
    "4. Raison de la demande_education/retraining/business/vacation\n",
    "5. Épargnes_... < 1000\n",
    "6. Montant Crédit\n",
    "7. Âge\n",
    "8. Durée du prêt (mois)\n",
    "9. Versement en % du revenu"
   ]
  },
  {
   "cell_type": "code",
   "execution_count": 80,
   "metadata": {},
   "outputs": [],
   "source": [
    "data=['Crédit','Statut Compte épargne_< 0 $','Statut Compte épargne_0 <= ... < 2000 $', 'Raison de la demande_car (new)',\n",
    " 'Raison de la demande_education/retraining/business/vacation', 'Épargnes_... < 1000 $', 'Montant crédit', 'age',\n",
    "              'durée du prêt en mois', 'Versements en % du revenu']\n",
    "\n",
    "database_new=database[data]\n",
    "X=np.array(database_new.drop(columns='Crédit'))\n",
    "Y=np.array(database_new['Crédit'])\n",
    "trainX, testX, trainY, testY = train_test_split(X, Y, test_size = 0.30, random_state = 42)"
   ]
  },
  {
   "cell_type": "markdown",
   "metadata": {},
   "source": [
    "---\n",
    "## 7 a):  SVM linéaire"
   ]
  },
  {
   "cell_type": "code",
   "execution_count": 81,
   "metadata": {},
   "outputs": [
    {
     "name": "stdout",
     "output_type": "stream",
     "text": [
      "0.7533333333333333\n"
     ]
    }
   ],
   "source": [
    "from sklearn.svm import LinearSVC\n",
    "from sklearn import svm\n",
    "SVM = svm.SVC(kernel='linear') # Linear Kernel\n",
    "SVM.fit(trainX, trainY)\n",
    "SVM.predict(testX)\n",
    "score=SVM.score(testX,testY)\n",
    "print(score)"
   ]
  },
  {
   "cell_type": "markdown",
   "metadata": {},
   "source": [
    "## 7 b):  SVM radial"
   ]
  },
  {
   "cell_type": "code",
   "execution_count": 82,
   "metadata": {},
   "outputs": [
    {
     "name": "stdout",
     "output_type": "stream",
     "text": [
      "0.6966666666666667\n"
     ]
    }
   ],
   "source": [
    "SVM_radial = svm.SVC(kernel='rbf') # Linear Kernel\n",
    "SVM_radial.fit(trainX, trainY)\n",
    "SVM_radial.predict(testX)\n",
    "score=SVM_radial.score(testX,testY)\n",
    "print(score)"
   ]
  },
  {
   "cell_type": "markdown",
   "metadata": {},
   "source": [
    "## 7 c):  Modèle de Neurones (perceptron multi-couches)"
   ]
  },
  {
   "cell_type": "code",
   "execution_count": 83,
   "metadata": {},
   "outputs": [
    {
     "name": "stdout",
     "output_type": "stream",
     "text": [
      "Le score du modèle de neurones est: 0.74\n"
     ]
    }
   ],
   "source": [
    "# On utilise un perceptron multi-couches:\n",
    "\n",
    "from sklearn.neural_network import MLPClassifier\n",
    "mlp = MLPClassifier(hidden_layer_sizes=(5,5,5,5,5,5),max_iter=500,random_state=21)\n",
    "mlp.fit(trainX,trainY)\n",
    "predY=mlp.predict(testX)\n",
    "score=accuracy_score(testY, predY)\n",
    "print(\"Le score du modèle de neurones est:\",score)"
   ]
  },
  {
   "cell_type": "markdown",
   "metadata": {},
   "source": [
    "## 7 d):  Deep Learning "
   ]
  },
  {
   "cell_type": "code",
   "execution_count": 84,
   "metadata": {},
   "outputs": [],
   "source": [
    "from keras import Sequential\n",
    "from keras.layers import Dense"
   ]
  },
  {
   "cell_type": "code",
   "execution_count": 85,
   "metadata": {},
   "outputs": [],
   "source": [
    "X=np.array(database.drop(columns='Crédit'))\n",
    "Y=np.array(database['Crédit'])\n",
    "trainX, testX, trainY, testY = train_test_split(X, Y, test_size = 0.30, random_state = 42)\n",
    "classifier = Sequential()\n",
    "#First Hidden Layer\n",
    "classifier.add(Dense(4, activation='relu', kernel_initializer='random_normal', input_dim=44))\n",
    "#Second  Hidden Layer\n",
    "classifier.add(Dense(4, activation='relu', kernel_initializer='random_normal'))\n",
    "#Second  Hidden Layer\n",
    "#classifier.add(Dense(4, activation='relu', kernel_initializer='random_normal'))\n",
    "#Second  Hidden Layer\n",
    "#classifier.add(Dense(4, activation='relu', kernel_initializer='random_normal'))\n",
    "#Second  Hidden Layer\n",
    "#classifier.add(Dense(4, activation='relu', kernel_initializer='random_normal'))\n",
    "#Output Layer\n",
    "classifier.add(Dense(1, activation='sigmoid', kernel_initializer='random_normal'))\n",
    "#Compiling the neural network\n",
    "classifier.compile(optimizer ='adam',loss='binary_crossentropy', metrics =['accuracy'])"
   ]
  },
  {
   "cell_type": "code",
   "execution_count": 86,
   "metadata": {},
   "outputs": [
    {
     "data": {
      "text/plain": [
       "<keras.callbacks.History at 0x11d40c860>"
      ]
     },
     "execution_count": 86,
     "metadata": {},
     "output_type": "execute_result"
    }
   ],
   "source": [
    "#Fitting the data to the training dataset\n",
    "classifier.fit(trainX,trainY, batch_size=10, epochs=100,verbose=0)"
   ]
  },
  {
   "cell_type": "code",
   "execution_count": 87,
   "metadata": {},
   "outputs": [
    {
     "name": "stdout",
     "output_type": "stream",
     "text": [
      "[[192  17]\n",
      " [ 69  22]]\n"
     ]
    }
   ],
   "source": [
    "from sklearn.metrics import confusion_matrix\n",
    "y_pred=classifier.predict(testX)\n",
    "y_pred =(y_pred>0.5)\n",
    "cm = confusion_matrix(testY, y_pred)\n",
    "print(cm)"
   ]
  },
  {
   "cell_type": "markdown",
   "metadata": {},
   "source": [
    "Nous avons donc 214 bonnes prédictions sur 300, donnant une précision de 71.13%"
   ]
  },
  {
   "cell_type": "markdown",
   "metadata": {},
   "source": [
    "---\n",
    "##  Comparaison finale des classificateurs"
   ]
  },
  {
   "cell_type": "markdown",
   "metadata": {},
   "source": [
    "|       Classifiers:       | Précision: |\n",
    "|:------------------------:|:----------:|\n",
    "|           Logit          |   77.33%   |\n",
    "|     Arbre de décision    |   67.33%   |\n",
    "|       Random Forest      |   75.66%   |\n",
    "|       SVM Linéaire       |   75.33%   |\n",
    "|        SVM Radial        |   69.66%   |\n",
    "| Perceptron Multi-couches |   74.00%   |\n",
    "|      Modèle profond      |   71.13%   |"
   ]
  },
  {
   "cell_type": "markdown",
   "metadata": {},
   "source": [
    "Cette comparaison nous permet de sélectionner le modèle Logit comme étant le meilleur \"classifier\", avec une précision de 77.33% sur l'échantillon test. Il est à noter que cette précision est obtenue après avoir négliger les variables ayant obtenues un poids négatifs du modèle Logit effectué avec tout les variables de la banque de données."
   ]
  },
  {
   "cell_type": "code",
   "execution_count": null,
   "metadata": {},
   "outputs": [],
   "source": []
  }
 ],
 "metadata": {
  "kernelspec": {
   "display_name": "Python 3",
   "language": "python",
   "name": "python3"
  },
  "language_info": {
   "codemirror_mode": {
    "name": "ipython",
    "version": 3
   },
   "file_extension": ".py",
   "mimetype": "text/x-python",
   "name": "python",
   "nbconvert_exporter": "python",
   "pygments_lexer": "ipython3",
   "version": "3.7.4"
  }
 },
 "nbformat": 4,
 "nbformat_minor": 2
}
