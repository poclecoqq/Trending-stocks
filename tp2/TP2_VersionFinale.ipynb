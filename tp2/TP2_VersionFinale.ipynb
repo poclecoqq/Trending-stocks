{
 "cells": [
  {
   "cell_type": "markdown",
   "metadata": {},
   "source": [
    "# TP2\n",
    "### Étudiant\n",
    "    1. Félix Moreau 1846157\n",
    "    2. Axel Massucci Templier\n",
    "    3. Hermann Noubissie Noussa\n",
    "    4. Pier-Olivier Côté\n"
   ]
  },
  {
   "cell_type": "code",
   "execution_count": 1,
   "metadata": {},
   "outputs": [],
   "source": [
    "import yfinance as yf \n",
    "from pandas_datareader import data, wb\n",
    "from sklearn.tree import DecisionTreeClassifier\n",
    "from sklearn.metrics import accuracy_score, roc_auc_score, confusion_matrix, roc_curve\n",
    "from sklearn.linear_model import LogisticRegression\n",
    "from sklearn.metrics import mean_squared_error\n",
    "from sklearn.feature_selection import RFE\n",
    "import math as mt\n",
    "import statsmodels.formula.api as smf\n",
    "from sklearn.model_selection import train_test_split\n",
    "#from Data_TP2_V2 import BBANDS, STOK, MACD, RSI, MFI\n",
    "from sklearn.ensemble import RandomForestClassifier\n",
    "import numpy as np\n",
    "import datetime\n",
    "import matplotlib.pyplot as plt\n",
    "import pandas as pd\n",
    "import talib\n",
    "import pylab\n",
    "from sklearn import preprocessing"
   ]
  },
  {
   "cell_type": "code",
   "execution_count": 2,
   "metadata": {},
   "outputs": [
    {
     "data": {
      "text/plain": [
       "\"\\nBLack_ETF=['IVV','IWF','IJH','IJR','IWM','IWD','ITOT','IVW','IWB','IWR','DVY',\\n           'IVE','IWP','IWS','IWV','IUSG','IWO','IWN','IBB','IJK','IUSV',\\n           'OEF','IJS','IJJ','IYW','IHI','IJT','ITA','IGV','IYH','SOXX','EWC',\\n           'IGM','IYF','JKE','SUSA','IDU','IYY','IYG','JKD','IYC','IYJ','JKG',\\n           'IWC','IYK','JKF','JKH','IYT','JKI','IYZ','IGE','IYE','JKL','IYM',\\n           'JKJ','JKK','IGN']\\n           \\n\\n\""
      ]
     },
     "execution_count": 2,
     "metadata": {},
     "output_type": "execute_result"
    }
   ],
   "source": [
    "start_sp = datetime.datetime(2018,3,31)\n",
    "end_sp = datetime.datetime(2020, 12,31)\n",
    "\n",
    "# Use Vanguard ETF\n",
    "# SP500 Index + 11 Industry\n",
    "\n",
    "BLack_ETF=['IVV','IWF','IJH','IJR','IWM','IVW']\n",
    "'''\n",
    "BLack_ETF=['IVV','IWF','IJH','IJR','IWM','IWD','ITOT','IVW','IWB','IWR','DVY',\n",
    "           'IVE','IWP','IWS','IWV','IUSG','IWO','IWN','IBB','IJK','IUSV',\n",
    "           'OEF','IJS','IJJ','IYW','IHI','IJT','ITA','IGV','IYH','SOXX','EWC',\n",
    "           'IGM','IYF','JKE','SUSA','IDU','IYY','IYG','JKD','IYC','IYJ','JKG',\n",
    "           'IWC','IYK','JKF','JKH','IYT','JKI','IYZ','IGE','IYE','JKL','IYM',\n",
    "           'JKJ','JKK','IGN']\n",
    "           \n",
    "\n",
    "'''\n",
    "# To access data for SP500\n",
    "#SP500_dat=Data['IVW']\n",
    "\n",
    "# To access the adjusted close price, use\n",
    "#Data['IVW']['Adj Close']\n",
    "\n",
    "# Graph data\n",
    "#Data['IVW']['Adj Close'].plot(grid=True)\n",
    "\n",
    "# To get Information about a ticker\n",
    "#SP500_detail = yf.Ticker(\"IVW\")\n",
    "\n",
    "# Show stock info\n",
    "#SP500_detail.info"
   ]
  },
  {
   "cell_type": "code",
   "execution_count": 3,
   "metadata": {},
   "outputs": [],
   "source": [
    "def get_Data_bin(ticker):\n",
    "    Data = yf.download(ticker, start=start_sp, end=end_sp,group_by=\"ticker\")\n",
    "    rendement = pd.DataFrame(Data['Adj Close'].T.pct_change())\n",
    "    rendement_bin = pd.DataFrame(np.where(rendement['Adj Close'].shift(-1) > rendement['Adj Close'], 1, 0),\n",
    "                                index = rendement.index)\n",
    "    return rendement_bin, Data"
   ]
  },
  {
   "cell_type": "code",
   "execution_count": 4,
   "metadata": {},
   "outputs": [],
   "source": [
    "def data_preprocessing(ticker, Data):\n",
    "    dataset = pd.DataFrame(index = Data.index)\n",
    "    dataset['H-L'] = Data['High'] - Data['Low']\n",
    "    dataset['O-C'] = Data['Close'] - Data['Open']\n",
    "    \n",
    "    dataset['ma_5'] = Data['Close'].rolling(window=5).mean()\n",
    "    dataset['ma_10'] = Data['Close'].rolling(window=10).mean()\n",
    "    \n",
    "    dataset['EWMA_12'] = Data['Close'].ewm(span=12).mean()\n",
    "\n",
    "    dataset['std_5'] = Data['Close'].rolling(window=5).std()\n",
    "    dataset['std_10'] = Data['Close'].rolling(window=10).std()\n",
    "    \n",
    "    dataset['Williams %R'] = talib.WILLR(Data['High'].values,\n",
    "                                         Data['Low'].values, Data['Close'].values, 7)\n",
    "    #RSI\n",
    "    dataset['RSI'] = talib.RSI(Data['Close'], timeperiod = 14)\n",
    "    #conditions  = [dataset['RSI'] >= 70, (dataset['RSI'] < 70) & (dataset['RSI']> 30), dataset['RSI'] <= 30 ]\n",
    "    #choices     = [ -1, 0, 1 ]\n",
    "    #dataset['RSI'] = np.select(conditions, choices, default=np.nan)\n",
    "\n",
    "    #MFI\n",
    "    dataset['MFI'] = talib.MFI(Data['High'], Data['Low'], Data['Close'], Data['Volume'], timeperiod=14)\n",
    "    #conditions  = [dataset['MFI'] >= 70, (dataset['MFI'] < 70) & (dataset['MFI']> 30), dataset['MFI'] <= 30 ]\n",
    "    #choices     = [ -1, 0, 1 ]\n",
    "    #dataset['MFI'] = np.select(conditions, choices, default=np.nan)\n",
    "    \n",
    "    #BBANDS\n",
    "    #dataset['BBANDS_UP'], centre, dataset['BBANDS_DOWN'] = talib.BBANDS(\n",
    "    #    Data['Close'],timeperiod=5, nbdevup=2, nbdevdn=2, matype=0)\n",
    "                                                                                       \n",
    "    #STOCHASTIC  \n",
    "    dataset['STO_k'], dataset['STO_d'] = talib.STOCH(Data['High'], Data['Low'], Data['Close'],\n",
    "                         fastk_period=5, slowk_period=3, slowk_matype=0, slowd_period=3, slowd_matype=0)\n",
    "    #k = dataset['STO_k']\n",
    "    #d = dataset['STO_d']\n",
    "    #conditions  = [(k>=80)&(d>=80),(k<80)&(d<80)&(k>=20)&(d>=20),(k<20)&(d<20)]\n",
    "    #dataset['STO'] = np.select(conditions, choices, default=np.nan)\n",
    "    \n",
    "    #MACD\n",
    "    macd, dataset['MACD'], macdhist = talib.MACD(Data['Close'], fastperiod=12, slowperiod=26, signalperiod=9)\n",
    "    #conditions  = [dataset['MACD'] < 0,dataset['MACD']==0 , dataset['RSI'] > 0 ]\n",
    "    #choices     = [ -1, 0, 1 ]\n",
    "    #dataset['MACD'] = np.select(conditions, choices, default=np.nan)\n",
    "    \n",
    "    #ADX\n",
    "    dataset['ADX'] = talib.ADX(Data['High'], Data['Low'], Data['Close'], timeperiod=14)\n",
    "    \n",
    "    #MA\n",
    "    dataset['MA'] = talib.MA(Data['Close'], timeperiod=30, matype=0)\n",
    "    \n",
    "    #SMA\n",
    "    dataset['SMA'] = talib.SMA(Data['Close'], timeperiod=30)\n",
    "    \n",
    "    #SAR\n",
    "    dataset['SAR'] = talib.SAR(np.array(Data['High']), np.array(Data['Low']), 0.2, 0.2)\n",
    "    \n",
    "    return dataset"
   ]
  },
  {
   "cell_type": "code",
   "execution_count": 62,
   "metadata": {},
   "outputs": [
    {
     "name": "stdout",
     "output_type": "stream",
     "text": [
      "[*********************100%***********************]  1 of 1 completed\n",
      "[*********************100%***********************]  1 of 1 completed\n",
      "[*********************100%***********************]  1 of 1 completed\n",
      "[*********************100%***********************]  1 of 1 completed\n",
      "[*********************100%***********************]  1 of 1 completed\n",
      "[*********************100%***********************]  1 of 1 completed\n"
     ]
    }
   ],
   "source": [
    "X=pd.DataFrame()\n",
    "Y=pd.DataFrame()\n",
    "for etf in BLack_ETF:\n",
    "    Y_bin, Data = get_Data_bin(etf)\n",
    "    dataset_ini = data_preprocessing(etf, Data)\n",
    "    X = pd.concat([X,dataset_ini])\n",
    "    Y = pd.concat([Y,Y_bin])\n",
    "X['Y'] = Y\n",
    "X = X.dropna()\n",
    "Y = X['Y']\n",
    "X1 = X.drop(columns = ['Y'])\n",
    "X = pd.DataFrame(preprocessing.scale(X1), columns=X1.columns)\n"
   ]
  },
  {
   "cell_type": "code",
   "execution_count": 63,
   "metadata": {},
   "outputs": [],
   "source": [
    "df = pd.DataFrame([data.DataReader(etf, 'yahoo', start_sp, end_sp)['Adj Close'] for etf in BLack_ETF]).T\n",
    "df.columns = BLack_ETF\n",
    "rendement = df.pct_change()"
   ]
  },
  {
   "cell_type": "code",
   "execution_count": 64,
   "metadata": {},
   "outputs": [
    {
     "data": {
      "text/plain": [
       "<matplotlib.axes._subplots.AxesSubplot at 0x1a1ac8bad0>"
      ]
     },
     "execution_count": 64,
     "metadata": {},
     "output_type": "execute_result"
    },
    {
     "data": {
      "image/png": "[encoded data removed]",
      "text/plain": [
       "<Figure size 432x288 with 1 Axes>"
      ]
     },
     "metadata": {
      "needs_background": "light"
     },
     "output_type": "display_data"
    }
   ],
   "source": [
    "somme = rendement.sum()*100\n",
    "somme.plot(kind='bar', grid=True, title = 'Rendement tot depuis l\"année regarder')"
   ]
  },
  {
   "cell_type": "code",
   "execution_count": 65,
   "metadata": {},
   "outputs": [
    {
     "data": {
      "text/plain": [
       "<matplotlib.axes._subplots.AxesSubplot at 0x1a19e17110>"
      ]
     },
     "execution_count": 65,
     "metadata": {},
     "output_type": "execute_result"
    },
    {
     "data": {
      "image/png": "[encoded data removed]",
      "text/plain": [
       "<Figure size 432x288 with 1 Axes>"
      ]
     },
     "metadata": {
      "needs_background": "light"
     },
     "output_type": "display_data"
    }
   ],
   "source": [
    "allo=rendement.std()\n",
    "allo.plot(kind='bar', grid=True, title = 'Rendement tot depuis l\"année regarder')"
   ]
  },
  {
   "cell_type": "markdown",
   "metadata": {},
   "source": [
    "# 1) Modele Logit"
   ]
  },
  {
   "cell_type": "code",
   "execution_count": 66,
   "metadata": {},
   "outputs": [],
   "source": [
    "def calculate_aic(n, mse, num_params):\n",
    "    aic = n * mt.log(mse) + 2 * num_params\n",
    "    return aic"
   ]
  },
  {
   "cell_type": "code",
   "execution_count": 67,
   "metadata": {},
   "outputs": [],
   "source": [
    "def calculModelLogit(X,Y):\n",
    "    trainX, testX, trainY, testY = train_test_split(X, Y, test_size = 0.30, random_state = 0)\n",
    "    ModeleLogit = LogisticRegression()\n",
    "    TrainFit = ModeleLogit.fit(trainX, trainY)\n",
    "    TrainScores = ModeleLogit.score(trainX, trainY)\n",
    "    print('Train score=',TrainScores)\n",
    "    \n",
    "    TestsScore = ModeleLogit.score(testX, testY)\n",
    "    print('Test score=',TestsScore)\n",
    "    \n",
    "    predictions = ModeleLogit.predict(testX)\n",
    "    proba = ModeleLogit.predict_proba(testX)[:,1]\n",
    "    \n",
    "    mse = mean_squared_error(testY, predictions)\n",
    "    aic = calculate_aic(len(testY),mse,len(X.T))\n",
    "    print('AIC score :',aic)\n",
    "    return predictions, TrainScores, TestsScore, aic, ModeleLogit.coef_, testY, ModeleLogit, proba"
   ]
  },
  {
   "cell_type": "code",
   "execution_count": 68,
   "metadata": {},
   "outputs": [],
   "source": [
    "def getROC(yTest, prediction, proba):\n",
    "    fpr, tpr, thres = roc_curve(yTest, proba)\n",
    "    ac = roc_auc_score(yTest, prediction)\n",
    "    plt.figure()\n",
    "    lw = 2\n",
    "    plt.plot(fpr, tpr, color='darkorange', lw=lw, label='ROC curve (area = %0.2f)' % ac)\n",
    "    plt.plot([0, 1], [0, 1], color='navy', lw=lw, linestyle='--')\n",
    "    plt.xlim([0.0, 1.0])\n",
    "    plt.ylim([0.0, 1.05])\n",
    "    plt.xlabel('False Positive Rate')\n",
    "    plt.ylabel('True Positive Rate')\n",
    "    plt.title('Receiver operating characteristic example')\n",
    "    plt.legend(loc=\"lower right\")\n",
    "    plt.show()"
   ]
  },
  {
   "cell_type": "code",
   "execution_count": 69,
   "metadata": {},
   "outputs": [],
   "source": [
    "def getMC(yTest, prediction):\n",
    "    matrice = confusion_matrix(yTest, prediction)\n",
    "    print(matrice) "
   ]
  },
  {
   "cell_type": "code",
   "execution_count": 70,
   "metadata": {},
   "outputs": [],
   "source": [
    "def verificationCoef(coef, data):\n",
    "    dataAmeliorer = data\n",
    "    for i in range(0,len(coef)):\n",
    "        if coef[i] < -0.5:\n",
    "            sigle = data.columns[i]\n",
    "#print(sigle)\n",
    "            if sigle in dataAmeliorer.columns:\n",
    "                dataAmeliorer = dataAmeliorer.drop(sigle, axis=\"columns\")\n",
    "    return dataAmeliorer"
   ]
  },
  {
   "cell_type": "code",
   "execution_count": 71,
   "metadata": {},
   "outputs": [
    {
     "name": "stdout",
     "output_type": "stream",
     "text": [
      "Train score= 0.7169905331340309\n",
      "Test score= 0.6957026713124274\n",
      "AIC score : -990.3747505739718\n"
     ]
    }
   ],
   "source": [
    "predictions, TrainScores, TestsScorelogit, aic, coefficientModel, testY, model, proba = calculModelLogit(X, Y)"
   ]
  },
  {
   "cell_type": "code",
   "execution_count": 72,
   "metadata": {},
   "outputs": [
    {
     "data": {
      "image/png": "[encoded data removed]",
      "text/plain": [
       "<Figure size 432x288 with 1 Axes>"
      ]
     },
     "metadata": {
      "needs_background": "light"
     },
     "output_type": "display_data"
    }
   ],
   "source": [
    "getROC(testY, predictions, proba)"
   ]
  },
  {
   "cell_type": "code",
   "execution_count": 73,
   "metadata": {},
   "outputs": [
    {
     "name": "stdout",
     "output_type": "stream",
     "text": [
      "[[347 100]\n",
      " [162 252]]\n"
     ]
    }
   ],
   "source": [
    "getMC(testY, predictions)"
   ]
  },
  {
   "cell_type": "code",
   "execution_count": 74,
   "metadata": {},
   "outputs": [
    {
     "data": {
      "text/html": [
       "<div>\n",
       "<style scoped>\n",
       "    .dataframe tbody tr th:only-of-type {\n",
       "        vertical-align: middle;\n",
       "    }\n",
       "\n",
       "    .dataframe tbody tr th {\n",
       "        vertical-align: top;\n",
       "    }\n",
       "\n",
       "    .dataframe thead th {\n",
       "        text-align: right;\n",
       "    }\n",
       "</style>\n",
       "<table border=\"1\" class=\"dataframe\">\n",
       "  <thead>\n",
       "    <tr style=\"text-align: right;\">\n",
       "      <th></th>\n",
       "      <th>0</th>\n",
       "    </tr>\n",
       "  </thead>\n",
       "  <tbody>\n",
       "    <tr>\n",
       "      <th>STO_k</th>\n",
       "      <td>0.760784</td>\n",
       "    </tr>\n",
       "    <tr>\n",
       "      <th>STO_d</th>\n",
       "      <td>0.272157</td>\n",
       "    </tr>\n",
       "    <tr>\n",
       "      <th>ma_10</th>\n",
       "      <td>0.224901</td>\n",
       "    </tr>\n",
       "    <tr>\n",
       "      <th>H-L</th>\n",
       "      <td>0.134737</td>\n",
       "    </tr>\n",
       "    <tr>\n",
       "      <th>EWMA_12</th>\n",
       "      <td>0.096789</td>\n",
       "    </tr>\n",
       "    <tr>\n",
       "      <th>ma_5</th>\n",
       "      <td>0.083079</td>\n",
       "    </tr>\n",
       "    <tr>\n",
       "      <th>MFI</th>\n",
       "      <td>0.055880</td>\n",
       "    </tr>\n",
       "    <tr>\n",
       "      <th>SMA</th>\n",
       "      <td>-0.011560</td>\n",
       "    </tr>\n",
       "    <tr>\n",
       "      <th>MA</th>\n",
       "      <td>-0.011560</td>\n",
       "    </tr>\n",
       "    <tr>\n",
       "      <th>MACD</th>\n",
       "      <td>-0.046692</td>\n",
       "    </tr>\n",
       "    <tr>\n",
       "      <th>ADX</th>\n",
       "      <td>-0.052358</td>\n",
       "    </tr>\n",
       "    <tr>\n",
       "      <th>RSI</th>\n",
       "      <td>-0.092181</td>\n",
       "    </tr>\n",
       "    <tr>\n",
       "      <th>std_10</th>\n",
       "      <td>-0.096033</td>\n",
       "    </tr>\n",
       "    <tr>\n",
       "      <th>std_5</th>\n",
       "      <td>-0.154474</td>\n",
       "    </tr>\n",
       "    <tr>\n",
       "      <th>SAR</th>\n",
       "      <td>-0.316853</td>\n",
       "    </tr>\n",
       "    <tr>\n",
       "      <th>O-C</th>\n",
       "      <td>-0.635169</td>\n",
       "    </tr>\n",
       "    <tr>\n",
       "      <th>Williams %R</th>\n",
       "      <td>-1.487271</td>\n",
       "    </tr>\n",
       "  </tbody>\n",
       "</table>\n",
       "</div>"
      ],
      "text/plain": [
       "                    0\n",
       "STO_k        0.760784\n",
       "STO_d        0.272157\n",
       "ma_10        0.224901\n",
       "H-L          0.134737\n",
       "EWMA_12      0.096789\n",
       "ma_5         0.083079\n",
       "MFI          0.055880\n",
       "SMA         -0.011560\n",
       "MA          -0.011560\n",
       "MACD        -0.046692\n",
       "ADX         -0.052358\n",
       "RSI         -0.092181\n",
       "std_10      -0.096033\n",
       "std_5       -0.154474\n",
       "SAR         -0.316853\n",
       "O-C         -0.635169\n",
       "Williams %R -1.487271"
      ]
     },
     "execution_count": 74,
     "metadata": {},
     "output_type": "execute_result"
    }
   ],
   "source": [
    "variableImportante2 = pd.DataFrame(coefficientModel, columns=X1.columns).T\n",
    "var2 = variableImportante2.sort_values(by=0,ascending = False)\n",
    "var2"
   ]
  },
  {
   "cell_type": "markdown",
   "metadata": {},
   "source": [
    "## Changer les paramètres afin d'avoir une meilleure classification"
   ]
  },
  {
   "cell_type": "code",
   "execution_count": 75,
   "metadata": {},
   "outputs": [
    {
     "name": "stdout",
     "output_type": "stream",
     "text": [
      "[False  True False  True False False False  True False False  True  True\n",
      " False False  True  True  True]\n",
      "[ 5  1  4  1  3  2  9  1  8 10  1  1  6  7  1  1  1]\n",
      "Le paramètre: H-L n'est pas selectionné\n",
      "Le paramètre: ma_5 n'est pas selectionné\n",
      "Le paramètre: EWMA_12 n'est pas selectionné\n",
      "Le paramètre: std_5 n'est pas selectionné\n",
      "Le paramètre: std_10 n'est pas selectionné\n",
      "Le paramètre: RSI n'est pas selectionné\n",
      "Le paramètre: MFI n'est pas selectionné\n",
      "Le paramètre: MACD n'est pas selectionné\n",
      "Le paramètre: ADX n'est pas selectionné\n"
     ]
    }
   ],
   "source": [
    "#https://towardsdatascience.com/building-a-logistic-regression-in-python-step-by-step-becd4d56c9c8\n",
    "feature_list = list(X1.columns)\n",
    "rfe = RFE(model,8)\n",
    "rfe = rfe.fit(X_scaled, Y)\n",
    "print(rfe.support_)\n",
    "print(rfe.ranking_)\n",
    "rapport = rfe.support_\n",
    "\n",
    "nouvelleBD = X\n",
    "## On veut visualiser les variables qui ne sont pas sélectionnées\n",
    "for i in range(0,len(rapport)):\n",
    "    if rapport[i]==False :\n",
    "        sigle = X\n",
    "        print(\"Le paramètre:\",feature_list[i], \"n'est pas selectionné\")\n",
    "        nouvelleBD = nouvelleBD.drop(columns = feature_list[i])"
   ]
  },
  {
   "cell_type": "code",
   "execution_count": 76,
   "metadata": {},
   "outputs": [
    {
     "name": "stdout",
     "output_type": "stream",
     "text": [
      "Train score= 0.7219730941704036\n",
      "Test score= 0.6910569105691057\n",
      "AIC score : -995.3290464512332\n"
     ]
    }
   ],
   "source": [
    "predictions, TrainScores, TestsScorelogit, aic, coefficientModel, testY, model, proba = calculModelLogit(nouvelleBD, Y)"
   ]
  },
  {
   "cell_type": "code",
   "execution_count": 77,
   "metadata": {},
   "outputs": [
    {
     "data": {
      "image/png": "[encoded data removed]",
      "text/plain": [
       "<Figure size 432x288 with 1 Axes>"
      ]
     },
     "metadata": {
      "needs_background": "light"
     },
     "output_type": "display_data"
    }
   ],
   "source": [
    "getROC(testY, predictions, proba)"
   ]
  },
  {
   "cell_type": "code",
   "execution_count": 78,
   "metadata": {},
   "outputs": [
    {
     "name": "stdout",
     "output_type": "stream",
     "text": [
      "[[344 103]\n",
      " [163 251]]\n"
     ]
    }
   ],
   "source": [
    "getMC(testY, predictions)"
   ]
  },
  {
   "cell_type": "code",
   "execution_count": 79,
   "metadata": {},
   "outputs": [
    {
     "data": {
      "text/plain": [
       "array([[-0.6464427 ,  0.41378571, -1.48728786,  0.7295356 ,  0.28026998,\n",
       "        -0.15368844, -0.15368844, -0.07761971]])"
      ]
     },
     "execution_count": 79,
     "metadata": {},
     "output_type": "execute_result"
    }
   ],
   "source": [
    "coefficientModel"
   ]
  },
  {
   "cell_type": "markdown",
   "metadata": {},
   "source": [
    "#### Le AIC, en utilisant la méthode récursive à diminuer, par contre, l'accuracy a augmenter de0,2%. Le % du test est de 68,8% ce qui est bien pour un modèle et le nombr de bon résultats est égale à 344 +252= 596."
   ]
  },
  {
   "cell_type": "markdown",
   "metadata": {},
   "source": [
    "# 2) Arbre de decision"
   ]
  },
  {
   "cell_type": "code",
   "execution_count": 80,
   "metadata": {},
   "outputs": [],
   "source": [
    "def calculModelArbreDecision(X,Y):\n",
    "    trainX, testX, trainY, testY = train_test_split(X, Y, test_size = 0.30, random_state = 0)\n",
    "    ModeleArbre = DecisionTreeClassifier()\n",
    "    \n",
    "    TrainFit = ModeleArbre.fit(trainX, trainY)\n",
    "    \n",
    "    TrainScores = ModeleArbre.score(trainX, trainY)\n",
    "    print('Train score=',TrainScores)\n",
    "    \n",
    "    TestsScore = ModeleArbre.score(testX, testY)\n",
    "    print('Test score=',TestsScore)\n",
    "    \n",
    "    predictions = ModeleArbre.predict(testX)\n",
    "    \n",
    "    proba = ModeleArbre.predict_proba(testX)[:,1]\n",
    "    \n",
    "    mse = mean_squared_error(testY, predictions)\n",
    "    aic = calculate_aic(len(testY),mse,len(X.T))\n",
    "    print('AIC score :',aic)\n",
    "    return predictions, TrainScores, TestsScore, aic, testY, testX, proba"
   ]
  },
  {
   "cell_type": "code",
   "execution_count": 81,
   "metadata": {},
   "outputs": [
    {
     "name": "stdout",
     "output_type": "stream",
     "text": [
      "Train score= 1.0\n",
      "Test score= 0.6643437862950058\n",
      "AIC score : -905.9259898474721\n"
     ]
    }
   ],
   "source": [
    "predictions, TrainScores, TestsScoretree, aic, testY, testX, prob = calculModelArbreDecision(X, Y)"
   ]
  },
  {
   "cell_type": "code",
   "execution_count": 82,
   "metadata": {},
   "outputs": [
    {
     "data": {
      "image/png": "[encoded data removed]",
      "text/plain": [
       "<Figure size 432x288 with 1 Axes>"
      ]
     },
     "metadata": {
      "needs_background": "light"
     },
     "output_type": "display_data"
    }
   ],
   "source": [
    "getROC(testY, predictions, prob)"
   ]
  },
  {
   "cell_type": "code",
   "execution_count": 83,
   "metadata": {},
   "outputs": [
    {
     "name": "stdout",
     "output_type": "stream",
     "text": [
      "[[298 149]\n",
      " [140 274]]\n"
     ]
    }
   ],
   "source": [
    "getMC(testY, predictions)"
   ]
  },
  {
   "cell_type": "code",
   "execution_count": 84,
   "metadata": {},
   "outputs": [
    {
     "name": "stdout",
     "output_type": "stream",
     "text": [
      "Train score= 1.0\n",
      "Test score= 0.6190476190476191\n",
      "AIC score : -814.9346514935286\n"
     ]
    }
   ],
   "source": [
    "nouvellePredictions, nouveauTrainScores, nouveauTestsScore, nouveauAIC, nouveautestY, nouveautestX, prob = calculModelArbreDecision(nouvelleBD, Y)"
   ]
  },
  {
   "cell_type": "code",
   "execution_count": 85,
   "metadata": {},
   "outputs": [
    {
     "data": {
      "image/png": "[encoded data removed]",
      "text/plain": [
       "<Figure size 432x288 with 1 Axes>"
      ]
     },
     "metadata": {
      "needs_background": "light"
     },
     "output_type": "display_data"
    }
   ],
   "source": [
    "getROC(nouveautestY, nouvellePredictions, prob)"
   ]
  },
  {
   "cell_type": "code",
   "execution_count": 86,
   "metadata": {},
   "outputs": [
    {
     "name": "stdout",
     "output_type": "stream",
     "text": [
      "[[274 173]\n",
      " [155 259]]\n"
     ]
    }
   ],
   "source": [
    "getMC(nouveautestY, nouvellePredictions)"
   ]
  },
  {
   "cell_type": "markdown",
   "metadata": {},
   "source": [
    "### Diminution de la précision de 2% lorsqu'on utilise les paramètres sélectionnés par l'arbre de décision"
   ]
  },
  {
   "cell_type": "markdown",
   "metadata": {},
   "source": [
    "# Random Forest"
   ]
  },
  {
   "cell_type": "code",
   "execution_count": 101,
   "metadata": {},
   "outputs": [],
   "source": [
    "def calculModelRandomForest(X,Y):\n",
    "    trainX, testX, trainY, testY = train_test_split(X, Y, test_size = 0.30, random_state = 42)\n",
    "    ModeleRF = RandomForestClassifier()\n",
    "    \n",
    "    TrainFit = ModeleRF.fit(trainX, trainY)\n",
    "    \n",
    "    TrainScores = ModeleRF.score(trainX, trainY)\n",
    "    print('Train score=',TrainScores)\n",
    "    \n",
    "    TestsScore = ModeleRF.score(testX, testY)\n",
    "    print('Test score=',TestsScore)\n",
    "    \n",
    "    predictions = ModeleRF.predict(testX)\n",
    "    \n",
    "    proba = ModeleRF.predict_proba(testX)[:,1]\n",
    "    \n",
    "    mse = mean_squared_error(testY, predictions)\n",
    "    aic = calculate_aic(len(testY),mse,len(X.T))\n",
    "    print('AIC score :',aic)\n",
    "    variableImportante = ModeleRF.feature_importances_\n",
    "    return predictions, TrainScores, TestsScore, aic, testY, variableImportante, proba"
   ]
  },
  {
   "cell_type": "code",
   "execution_count": 102,
   "metadata": {},
   "outputs": [
    {
     "name": "stdout",
     "output_type": "stream",
     "text": [
      "Train score= 1.0\n",
      "Test score= 0.625\n",
      "AIC score : -107.23941243368859\n"
     ]
    }
   ],
   "source": [
    "predictions, TrainScores, TestsScoreforest, AIC, testY, variableImportante, prob = calculModelRandomForest(X, Y)"
   ]
  },
  {
   "cell_type": "code",
   "execution_count": 103,
   "metadata": {},
   "outputs": [
    {
     "data": {
      "image/png": "[encoded data removed]",
      "text/plain": [
       "<Figure size 432x288 with 1 Axes>"
      ]
     },
     "metadata": {
      "needs_background": "light"
     },
     "output_type": "display_data"
    }
   ],
   "source": [
    "getROC(testY, predictions, prob)"
   ]
  },
  {
   "cell_type": "code",
   "execution_count": 104,
   "metadata": {},
   "outputs": [
    {
     "name": "stdout",
     "output_type": "stream",
     "text": [
      "[[51 29]\n",
      " [25 39]]\n"
     ]
    }
   ],
   "source": [
    "getMC(testY, predictions)"
   ]
  },
  {
   "cell_type": "code",
   "execution_count": 105,
   "metadata": {},
   "outputs": [
    {
     "data": {
      "text/plain": [
       "<matplotlib.axes._subplots.AxesSubplot at 0x1a1b797b90>"
      ]
     },
     "execution_count": 105,
     "metadata": {},
     "output_type": "execute_result"
    },
    {
     "data": {
      "image/png": "[encoded data removed]",
      "text/plain": [
       "<Figure size 432x288 with 1 Axes>"
      ]
     },
     "metadata": {
      "needs_background": "light"
     },
     "output_type": "display_data"
    }
   ],
   "source": [
    "variableImportante1 = pd.DataFrame(variableImportante, index=X.columns)\n",
    "variableImportante1.sort_values(by=0,ascending = False).plot(kind='bar')"
   ]
  },
  {
   "cell_type": "markdown",
   "metadata": {},
   "source": [
    "#### Les variables importantes du Random Forest sont :\n",
    "#### - O-C\n",
    "#### - Williams %R\n",
    "#### - Stochastique_k\n",
    "#### - RSI\n",
    "#### - Stochastique_d\n",
    "#### Les variables importantes du Logit sont :\n",
    "#### - ma_10\t\n",
    "#### - MACD\t\n",
    "#### - ma_5\t\n",
    "#### - EWMA_12\t\n",
    "#### - H-L\t\n",
    "##### La différence est que le modèle logit utilise des valeurs que ne varie pas beaucoup et qui sont assez stable comparativement à random forest qui choisi des variables qui bougent beaucoup"
   ]
  },
  {
   "cell_type": "markdown",
   "metadata": {},
   "source": [
    "# Répétez l’exercices pour des méthodes plus flexibles mais opaques."
   ]
  },
  {
   "cell_type": "code",
   "execution_count": 106,
   "metadata": {},
   "outputs": [],
   "source": [
    "from sklearn.svm import SVC \n",
    "def calculModelSVM(X,Y,typ):\n",
    "    trainX, testX, trainY, testY = train_test_split(X, Y, test_size = 0.30, random_state = 42)\n",
    "    ModeleSVM = SVC(kernel=typ)\n",
    "    \n",
    "    TrainFit = ModeleSVM.fit(trainX, trainY)\n",
    "    \n",
    "    TrainScores = ModeleSVM.score(trainX, trainY)\n",
    "    print('Train score=',TrainScores)\n",
    "    \n",
    "    TestsScore = ModeleSVM.score(testX, testY)\n",
    "    print('Test score=',TestsScore)\n",
    "    \n",
    "    #proba = ModeleSVM.predict_proba(testX)[:,1]\n",
    "    \n",
    "    mse = mean_squared_error(testY, predictions)\n",
    "    aic = calculate_aic(len(testY),mse,len(X.T))\n",
    "    print('AIC score :',aic)\n",
    "    return predictions, TrainScores, TestsScore, aic, testY, proba"
   ]
  },
  {
   "cell_type": "code",
   "execution_count": 107,
   "metadata": {},
   "outputs": [
    {
     "name": "stdout",
     "output_type": "stream",
     "text": [
      "Train score= 0.7065868263473054\n",
      "Test score= 0.7013888888888888\n",
      "AIC score : -107.23941243368859\n"
     ]
    }
   ],
   "source": [
    "predictions, TrainScores, TestsScorelin, aic, testY, prob = calculModelSVM(X,Y,'linear')"
   ]
  },
  {
   "cell_type": "code",
   "execution_count": 108,
   "metadata": {},
   "outputs": [
    {
     "data": {
      "image/png": "[encoded data removed]",
      "text/plain": [
       "<Figure size 432x288 with 1 Axes>"
      ]
     },
     "metadata": {
      "needs_background": "light"
     },
     "output_type": "display_data"
    }
   ],
   "source": [
    "getROC(nouveautestY, nouvellePredictions, prob)"
   ]
  },
  {
   "cell_type": "code",
   "execution_count": 109,
   "metadata": {},
   "outputs": [
    {
     "name": "stdout",
     "output_type": "stream",
     "text": [
      "[[51 29]\n",
      " [25 39]]\n"
     ]
    }
   ],
   "source": [
    "getMC(testY, predictions)"
   ]
  },
  {
   "cell_type": "code",
   "execution_count": 110,
   "metadata": {},
   "outputs": [
    {
     "name": "stdout",
     "output_type": "stream",
     "text": [
      "Train score= 0.6167664670658682\n",
      "Test score= 0.6597222222222222\n",
      "AIC score : -107.23941243368859\n"
     ]
    }
   ],
   "source": [
    "predictions, TrainScores, TestsScoreradial, aic, testY, prob = calculModelSVM(X,Y,'rbf')"
   ]
  },
  {
   "cell_type": "code",
   "execution_count": 111,
   "metadata": {},
   "outputs": [
    {
     "data": {
      "image/png": "[encoded data removed]",
      "text/plain": [
       "<Figure size 432x288 with 1 Axes>"
      ]
     },
     "metadata": {
      "needs_background": "light"
     },
     "output_type": "display_data"
    }
   ],
   "source": [
    "getROC(nouveautestY, nouvellePredictions, prob)"
   ]
  },
  {
   "cell_type": "code",
   "execution_count": 112,
   "metadata": {},
   "outputs": [
    {
     "name": "stdout",
     "output_type": "stream",
     "text": [
      "[[51 29]\n",
      " [25 39]]\n"
     ]
    }
   ],
   "source": [
    "getMC(testY, predictions)"
   ]
  },
  {
   "cell_type": "markdown",
   "metadata": {},
   "source": [
    "# Comparer une dernière fois, l’ensemble des modèles, sélectionnez-en un et expliquez votre choix."
   ]
  },
  {
   "cell_type": "code",
   "execution_count": 113,
   "metadata": {},
   "outputs": [
    {
     "data": {
      "text/html": [
       "<div>\n",
       "<style scoped>\n",
       "    .dataframe tbody tr th:only-of-type {\n",
       "        vertical-align: middle;\n",
       "    }\n",
       "\n",
       "    .dataframe tbody tr th {\n",
       "        vertical-align: top;\n",
       "    }\n",
       "\n",
       "    .dataframe thead th {\n",
       "        text-align: right;\n",
       "    }\n",
       "</style>\n",
       "<table border=\"1\" class=\"dataframe\">\n",
       "  <thead>\n",
       "    <tr style=\"text-align: right;\">\n",
       "      <th></th>\n",
       "      <th>%Tests</th>\n",
       "    </tr>\n",
       "  </thead>\n",
       "  <tbody>\n",
       "    <tr>\n",
       "      <th>Logit</th>\n",
       "      <td>69.105691</td>\n",
       "    </tr>\n",
       "    <tr>\n",
       "      <th>Forest</th>\n",
       "      <td>62.500000</td>\n",
       "    </tr>\n",
       "    <tr>\n",
       "      <th>Tree</th>\n",
       "      <td>66.434379</td>\n",
       "    </tr>\n",
       "    <tr>\n",
       "      <th>Radial</th>\n",
       "      <td>65.972222</td>\n",
       "    </tr>\n",
       "    <tr>\n",
       "      <th>Linéaire</th>\n",
       "      <td>70.138889</td>\n",
       "    </tr>\n",
       "  </tbody>\n",
       "</table>\n",
       "</div>"
      ],
      "text/plain": [
       "             %Tests\n",
       "Logit     69.105691\n",
       "Forest    62.500000\n",
       "Tree      66.434379\n",
       "Radial    65.972222\n",
       "Linéaire  70.138889"
      ]
     },
     "execution_count": 113,
     "metadata": {},
     "output_type": "execute_result"
    }
   ],
   "source": [
    "accuracy = pd.DataFrame([TestsScorelogit,TestsScoreforest,TestsScoretree, TestsScoreradial,TestsScorelin],\n",
    "                       index = ['Logit','Forest','Tree','Radial','Linéaire'], columns = ['%Tests'])*100\n",
    "accuracy"
   ]
  },
  {
   "cell_type": "markdown",
   "metadata": {},
   "source": [
    "#### Le modèle le plus précis est celui du random forest avec 72 %. Il fait tout les possibilités possibles ce qui rend son modele précis dans ce cas."
   ]
  },
  {
   "cell_type": "markdown",
   "metadata": {},
   "source": [
    "# Répétez l’exercice mais cette fois-ci pour chaque ETF pris individuellement."
   ]
  },
  {
   "cell_type": "code",
   "execution_count": 122,
   "metadata": {},
   "outputs": [
    {
     "name": "stdout",
     "output_type": "stream",
     "text": [
      "[*********************100%***********************]  1 of 1 completed\n",
      "(478, 17)\n",
      "(478,)\n",
      "Train score= 1.0\n",
      "Test score= 0.6388888888888888\n",
      "AIC score : -112.67401966321853\n",
      "[*********************100%***********************]  1 of 1 completed\n",
      "(478, 17)\n",
      "(478,)\n",
      "Train score= 1.0\n",
      "Test score= 0.6805555555555556\n",
      "AIC score : -130.32875404451443\n",
      "[*********************100%***********************]  1 of 1 completed\n",
      "(478, 17)\n",
      "(478,)\n",
      "Train score= 1.0\n",
      "Test score= 0.6319444444444444\n",
      "AIC score : -109.93107958743855\n",
      "[*********************100%***********************]  1 of 1 completed\n",
      "(478, 17)\n",
      "(478,)\n",
      "Train score= 1.0\n",
      "Test score= 0.6597222222222222\n",
      "AIC score : -121.23099221101387\n",
      "[*********************100%***********************]  1 of 1 completed\n",
      "(478, 17)\n",
      "(478,)\n",
      "Train score= 1.0\n",
      "Test score= 0.5972222222222222\n",
      "AIC score : -96.9493216202597\n",
      "[*********************100%***********************]  1 of 1 completed\n",
      "(478, 17)\n",
      "(478,)\n",
      "Train score= 1.0\n",
      "Test score= 0.6527777777777778\n",
      "AIC score : -118.32180235729106\n"
     ]
    },
    {
     "data": {
      "text/html": [
       "<div>\n",
       "<style scoped>\n",
       "    .dataframe tbody tr th:only-of-type {\n",
       "        vertical-align: middle;\n",
       "    }\n",
       "\n",
       "    .dataframe tbody tr th {\n",
       "        vertical-align: top;\n",
       "    }\n",
       "\n",
       "    .dataframe thead th {\n",
       "        text-align: right;\n",
       "    }\n",
       "</style>\n",
       "<table border=\"1\" class=\"dataframe\">\n",
       "  <thead>\n",
       "    <tr style=\"text-align: right;\">\n",
       "      <th></th>\n",
       "      <th>test</th>\n",
       "      <th>allo</th>\n",
       "    </tr>\n",
       "  </thead>\n",
       "  <tbody>\n",
       "    <tr>\n",
       "      <th>IVV</th>\n",
       "      <td>0.638889</td>\n",
       "      <td>-112.674020</td>\n",
       "    </tr>\n",
       "    <tr>\n",
       "      <th>IWF</th>\n",
       "      <td>0.680556</td>\n",
       "      <td>-130.328754</td>\n",
       "    </tr>\n",
       "    <tr>\n",
       "      <th>IJH</th>\n",
       "      <td>0.631944</td>\n",
       "      <td>-109.931080</td>\n",
       "    </tr>\n",
       "    <tr>\n",
       "      <th>IJR</th>\n",
       "      <td>0.659722</td>\n",
       "      <td>-121.230992</td>\n",
       "    </tr>\n",
       "    <tr>\n",
       "      <th>IWM</th>\n",
       "      <td>0.597222</td>\n",
       "      <td>-96.949322</td>\n",
       "    </tr>\n",
       "    <tr>\n",
       "      <th>IVW</th>\n",
       "      <td>0.652778</td>\n",
       "      <td>-118.321802</td>\n",
       "    </tr>\n",
       "  </tbody>\n",
       "</table>\n",
       "</div>"
      ],
      "text/plain": [
       "         test        allo\n",
       "IVV  0.638889 -112.674020\n",
       "IWF  0.680556 -130.328754\n",
       "IJH  0.631944 -109.931080\n",
       "IJR  0.659722 -121.230992\n",
       "IWM  0.597222  -96.949322\n",
       "IVW  0.652778 -118.321802"
      ]
     },
     "execution_count": 122,
     "metadata": {},
     "output_type": "execute_result"
    }
   ],
   "source": [
    "modele_unique = pd.DataFrame(index = BLack_ETF)\n",
    "testscore=[]\n",
    "AIC = []\n",
    "for etf in BLack_ETF:\n",
    "    Y,Data = get_Data_bin(etf)\n",
    "    X = data_preprocessing(etf,Data)\n",
    "    X['Y']=Y\n",
    "    X = X.dropna()\n",
    "    Y = X['Y']\n",
    "    X = X.drop(columns = ['Y'])\n",
    "    print(X.shape)\n",
    "    print(Y.shape)\n",
    "    predictions, TrainScores, TestsScoreforest, aic, testY, variableImportante, prob = calculModelRandomForest(X, Y)\n",
    "    testscore.append(TestsScoreforest)\n",
    "    AIC.append(aic)\n",
    "modele_unique['test']=testscore\n",
    "modele_unique['allo']=AIC\n",
    "modele_unique"
   ]
  },
  {
   "cell_type": "markdown",
   "metadata": {},
   "source": [
    "Source :\n",
    "\n",
    "https://github.com/mrjbq7/ta-lib\n",
    "\n",
    "https://medium.com/@rbhatia46/using-svm-on-top-of-technical-indicators-to-predict-reliance-stock-prices-abb494d9f45f"
   ]
  }
 ],
 "metadata": {
  "kernelspec": {
   "display_name": "Python 3",
   "language": "python",
   "name": "python3"
  },
  "language_info": {
   "codemirror_mode": {
    "name": "ipython",
    "version": 3
   },
   "file_extension": ".py",
   "mimetype": "text/x-python",
   "name": "python",
   "nbconvert_exporter": "python",
   "pygments_lexer": "ipython3",
   "version": "3.7.4"
  }
 },
 "nbformat": 4,
 "nbformat_minor": 2
}
