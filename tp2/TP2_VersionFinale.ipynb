{
 "cells": [
  {
   "cell_type": "markdown",
   "metadata": {},
   "source": [
    "# TP2\n",
    "### Étudiant\n",
    "    1. Félix Moreau 1846157\n",
    "    2. Axel Massucci Templier 1837967\n",
    "    3. Hermann Noubissie Noussa 1901259\n",
    "    4. Pierre-Olivier Côté 1848609\n"
   ]
  },
  {
   "cell_type": "code",
   "execution_count": 2,
   "metadata": {},
   "outputs": [],
   "source": [
    "import yfinance as yf \n",
    "from pandas_datareader import data, wb\n",
    "from sklearn.tree import DecisionTreeClassifier\n",
    "from sklearn.metrics import accuracy_score, roc_auc_score, confusion_matrix, roc_curve\n",
    "from sklearn.linear_model import LogisticRegression\n",
    "from sklearn.metrics import mean_squared_error\n",
    "from sklearn.feature_selection import RFE\n",
    "import math as mt\n",
    "import statsmodels.formula.api as smf\n",
    "from sklearn.model_selection import train_test_split\n",
    "import warnings\n",
    "warnings.filterwarnings('ignore')\n",
    "from sklearn.ensemble import RandomForestClassifier\n",
    "import numpy as np\n",
    "import datetime\n",
    "import matplotlib.pyplot as plt\n",
    "import pandas as pd\n",
    "import talib\n",
    "import pylab\n",
    "from sklearn import preprocessing"
   ]
  },
  {
   "cell_type": "code",
   "execution_count": 3,
   "metadata": {},
   "outputs": [],
   "source": [
    "start_sp = datetime.datetime(2012,3,31)\n",
    "end_sp = datetime.datetime(2020, 12,31)\n",
    "\n",
    "# Use Vanguard ETF\n",
    "# SP500 Index + 11 Industry\n",
    "#BLack_ETF=['IVV','IWF','IJH','IJR','IWM','IVW']\n",
    "BLack_ETF=['IVV','IWF','IJH','IJR','IWM','IWD','ITOT','IVW','IWB','IWR','DVY',\n",
    "           'IVE','IWP','IWS','IWV','IUSG','IWO','IWN','IBB','IJK','IUSV',\n",
    "           'OEF','IJS','IJJ','IYW','IHI','IJT','ITA','IGV','IYH','SOXX','EWC',\n",
    "           'IGM','IYF','JKE','SUSA','IDU','IYY','IYG','JKD','IYC','IYJ','JKG',\n",
    "           'IWC','IYK','JKF','JKH','IYT','JKI','IYZ','IGE','IYE','JKL','IYM',\n",
    "           'JKJ','JKK','IGN']"
   ]
  },
  {
   "cell_type": "code",
   "execution_count": 4,
   "metadata": {},
   "outputs": [],
   "source": [
    "def get_Data_bin(ticker):\n",
    "    Data = yf.download(ticker, start=start_sp, end=end_sp,group_by=\"ticker\")\n",
    "    rendement = pd.DataFrame(Data['Adj Close'].T.pct_change())\n",
    "    rendement_bin = pd.DataFrame(np.where(rendement['Adj Close'].shift(-1) > rendement['Adj Close'], 1, 0),\n",
    "                                index = rendement.index)\n",
    "    return rendement_bin, Data"
   ]
  },
  {
   "cell_type": "code",
   "execution_count": 5,
   "metadata": {},
   "outputs": [],
   "source": [
    "def data_preprocessing(ticker, Data):\n",
    "    dataset = pd.DataFrame(index = Data.index)\n",
    "    dataset['H-L'] = Data['High'] - Data['Low']\n",
    "    dataset['O-C'] = Data['Close'] - Data['Open']\n",
    "    \n",
    "    dataset['ma_5'] = Data['Close'].rolling(window=5).mean()\n",
    "    dataset['ma_10'] = Data['Close'].rolling(window=10).mean()\n",
    "    \n",
    "    dataset['EWMA_12'] = Data['Close'].ewm(span=12).mean()\n",
    "\n",
    "    dataset['std_5'] = Data['Close'].rolling(window=5).std()\n",
    "    dataset['std_10'] = Data['Close'].rolling(window=10).std()\n",
    "    \n",
    "    dataset['Williams %R'] = talib.WILLR(Data['High'].values,\n",
    "                                         Data['Low'].values, Data['Close'].values, 7)\n",
    "    #RSI\n",
    "    dataset['RSI'] = talib.RSI(Data['Close'], timeperiod = 14)\n",
    "    #conditions  = [dataset['RSI'] >= 70, (dataset['RSI'] < 70) & (dataset['RSI']> 30), dataset['RSI'] <= 30 ]\n",
    "    #choices     = [ -1, 0, 1 ]\n",
    "    #dataset['RSI'] = np.select(conditions, choices, default=np.nan)\n",
    "\n",
    "    #MFI\n",
    "    dataset['MFI'] = talib.MFI(Data['High'], Data['Low'], Data['Close'], Data['Volume'], timeperiod=14)\n",
    "    #conditions  = [dataset['MFI'] >= 70, (dataset['MFI'] < 70) & (dataset['MFI']> 30), dataset['MFI'] <= 30 ]\n",
    "    #choices     = [ -1, 0, 1 ]\n",
    "    #dataset['MFI'] = np.select(conditions, choices, default=np.nan)\n",
    "    \n",
    "    #BBANDS\n",
    "    #dataset['BBANDS_UP'], centre, dataset['BBANDS_DOWN'] = talib.BBANDS(\n",
    "    #    Data['Close'],timeperiod=5, nbdevup=2, nbdevdn=2, matype=0)\n",
    "                                                                                       \n",
    "    #STOCHASTIC  \n",
    "    dataset['STO_k'], dataset['STO_d'] = talib.STOCH(Data['High'], Data['Low'], Data['Close'],\n",
    "                         fastk_period=5, slowk_period=3, slowk_matype=0, slowd_period=3, slowd_matype=0)\n",
    "    #k = dataset['STO_k']\n",
    "    #d = dataset['STO_d']\n",
    "    #conditions  = [(k>=80)&(d>=80),(k<80)&(d<80)&(k>=20)&(d>=20),(k<20)&(d<20)]\n",
    "    #dataset['STO'] = np.select(conditions, choices, default=np.nan)\n",
    "    \n",
    "    #MACD\n",
    "    macd, dataset['MACD'], macdhist = talib.MACD(Data['Close'], fastperiod=12, slowperiod=26, signalperiod=9)\n",
    "    #conditions  = [dataset['MACD'] < 0,dataset['MACD']==0 , dataset['RSI'] > 0 ]\n",
    "    #choices     = [ -1, 0, 1 ]\n",
    "    #dataset['MACD'] = np.select(conditions, choices, default=np.nan)\n",
    "    \n",
    "    #ADX\n",
    "    dataset['ADX'] = talib.ADX(Data['High'], Data['Low'], Data['Close'], timeperiod=14)\n",
    "    \n",
    "    #MA\n",
    "    dataset['MA'] = talib.MA(Data['Close'], timeperiod=30, matype=0)\n",
    "    \n",
    "    #SMA\n",
    "    dataset['SMA'] = talib.SMA(Data['Close'], timeperiod=30)\n",
    "    \n",
    "    #SAR\n",
    "    dataset['SAR'] = talib.SAR(np.array(Data['High']), np.array(Data['Low']), 0.2, 0.2)\n",
    "    \n",
    "    return dataset"
   ]
  },
  {
   "cell_type": "markdown",
   "metadata": {},
   "source": [
    "#### Nous avons décidé de laisser en donné brute pour chaque signal afin que le modèle découvre lui-même a partir de quel nombre on doit vendre ou acheter!!"
   ]
  },
  {
   "cell_type": "code",
   "execution_count": 5,
   "metadata": {},
   "outputs": [
    {
     "name": "stdout",
     "output_type": "stream",
     "text": [
      "[*********************100%***********************]  1 of 1 completed\n",
      "[*********************100%***********************]  1 of 1 completed\n",
      "[*********************100%***********************]  1 of 1 completed\n",
      "[*********************100%***********************]  1 of 1 completed\n",
      "[*********************100%***********************]  1 of 1 completed\n",
      "[*********************100%***********************]  1 of 1 completed\n",
      "[*********************100%***********************]  1 of 1 completed\n",
      "[*********************100%***********************]  1 of 1 completed\n",
      "[*********************100%***********************]  1 of 1 completed\n",
      "[*********************100%***********************]  1 of 1 completed\n",
      "[*********************100%***********************]  1 of 1 completed\n",
      "[*********************100%***********************]  1 of 1 completed\n",
      "[*********************100%***********************]  1 of 1 completed\n",
      "[*********************100%***********************]  1 of 1 completed\n",
      "[*********************100%***********************]  1 of 1 completed\n",
      "[*********************100%***********************]  1 of 1 completed\n",
      "[*********************100%***********************]  1 of 1 completed\n",
      "[*********************100%***********************]  1 of 1 completed\n",
      "[*********************100%***********************]  1 of 1 completed\n",
      "[*********************100%***********************]  1 of 1 completed\n",
      "[*********************100%***********************]  1 of 1 completed\n",
      "[*********************100%***********************]  1 of 1 completed\n",
      "[*********************100%***********************]  1 of 1 completed\n",
      "[*********************100%***********************]  1 of 1 completed\n",
      "[*********************100%***********************]  1 of 1 completed\n",
      "[*********************100%***********************]  1 of 1 completed\n",
      "[*********************100%***********************]  1 of 1 completed\n",
      "[*********************100%***********************]  1 of 1 completed\n",
      "[*********************100%***********************]  1 of 1 completed\n",
      "[*********************100%***********************]  1 of 1 completed\n",
      "[*********************100%***********************]  1 of 1 completed\n",
      "[*********************100%***********************]  1 of 1 completed\n",
      "[*********************100%***********************]  1 of 1 completed\n",
      "[*********************100%***********************]  1 of 1 completed\n",
      "[*********************100%***********************]  1 of 1 completed\n",
      "[*********************100%***********************]  1 of 1 completed\n",
      "[*********************100%***********************]  1 of 1 completed\n",
      "[*********************100%***********************]  1 of 1 completed\n",
      "[*********************100%***********************]  1 of 1 completed\n",
      "[*********************100%***********************]  1 of 1 completed\n",
      "[*********************100%***********************]  1 of 1 completed\n",
      "[*********************100%***********************]  1 of 1 completed\n",
      "[*********************100%***********************]  1 of 1 completed\n",
      "[*********************100%***********************]  1 of 1 completed\n",
      "[*********************100%***********************]  1 of 1 completed\n",
      "[*********************100%***********************]  1 of 1 completed\n",
      "[*********************100%***********************]  1 of 1 completed\n",
      "[*********************100%***********************]  1 of 1 completed\n",
      "[*********************100%***********************]  1 of 1 completed\n",
      "[*********************100%***********************]  1 of 1 completed\n",
      "[*********************100%***********************]  1 of 1 completed\n",
      "[*********************100%***********************]  1 of 1 completed\n",
      "[*********************100%***********************]  1 of 1 completed\n",
      "[*********************100%***********************]  1 of 1 completed\n",
      "[*********************100%***********************]  1 of 1 completed\n",
      "[*********************100%***********************]  1 of 1 completed\n",
      "[*********************100%***********************]  1 of 1 completed\n"
     ]
    }
   ],
   "source": [
    "X=pd.DataFrame()\n",
    "Y=pd.DataFrame()\n",
    "for etf in BLack_ETF:\n",
    "    Y_bin, Data = get_Data_bin(etf)\n",
    "    dataset_ini = data_preprocessing(etf, Data)\n",
    "    X = pd.concat([X,dataset_ini])\n",
    "    Y = pd.concat([Y,Y_bin])\n",
    "X['Y'] = Y\n",
    "X = X.dropna()\n",
    "Y = X['Y']\n",
    "X1 = X.drop(columns = ['Y'])\n",
    "X = pd.DataFrame(preprocessing.scale(X1), columns=X1.columns)\n"
   ]
  },
  {
   "cell_type": "code",
   "execution_count": 6,
   "metadata": {},
   "outputs": [],
   "source": [
    "df = pd.DataFrame([data.DataReader(etf, 'yahoo', start_sp, end_sp)['Adj Close'] for etf in BLack_ETF]).T\n",
    "df.columns = BLack_ETF\n",
    "rendement = df.pct_change()"
   ]
  },
  {
   "cell_type": "code",
   "execution_count": 13,
   "metadata": {},
   "outputs": [
    {
     "data": {
      "text/plain": [
       "<matplotlib.axes._subplots.AxesSubplot at 0x1a231f6410>"
      ]
     },
     "execution_count": 13,
     "metadata": {},
     "output_type": "execute_result"
    },
    {
     "data": {
      "image/png": "[encoded data removed]",
      "text/plain": [
       "<Figure size 1296x720 with 1 Axes>"
      ]
     },
     "metadata": {
      "needs_background": "light"
     },
     "output_type": "display_data"
    }
   ],
   "source": [
    "somme = rendement.sum()*100\n",
    "somme.plot(kind='bar', grid=True, title = 'Rendement tot depuis l\"année regarder',figsize=(18, 10))"
   ]
  },
  {
   "cell_type": "code",
   "execution_count": 12,
   "metadata": {},
   "outputs": [
    {
     "data": {
      "text/plain": [
       "<matplotlib.axes._subplots.AxesSubplot at 0x1a213bf390>"
      ]
     },
     "execution_count": 12,
     "metadata": {},
     "output_type": "execute_result"
    },
    {
     "data": {
      "image/png": "[encoded data removed]",
      "text/plain": [
       "<Figure size 1296x720 with 1 Axes>"
      ]
     },
     "metadata": {
      "needs_background": "light"
     },
     "output_type": "display_data"
    }
   ],
   "source": [
    "allo=rendement.std()\n",
    "allo.plot(kind='bar', grid=True, title = 'Rendement tot depuis l\"année regarder',figsize=(18, 10))"
   ]
  },
  {
   "cell_type": "markdown",
   "metadata": {},
   "source": [
    "# 1) Modele Logit"
   ]
  },
  {
   "cell_type": "code",
   "execution_count": 9,
   "metadata": {},
   "outputs": [],
   "source": [
    "def calculate_aic(n, mse, num_params):\n",
    "    aic = n * mt.log(mse) + 2 * num_params\n",
    "    return aic"
   ]
  },
  {
   "cell_type": "code",
   "execution_count": 10,
   "metadata": {},
   "outputs": [],
   "source": [
    "def calculModelLogit(X,Y):\n",
    "    trainX, testX, trainY, testY = train_test_split(X, Y, test_size = 0.30, random_state = 0)\n",
    "    ModeleLogit = LogisticRegression()\n",
    "    TrainFit = ModeleLogit.fit(trainX, trainY)\n",
    "    TrainScores = ModeleLogit.score(trainX, trainY)\n",
    "    print('Train score=',TrainScores)\n",
    "    \n",
    "    TestsScore = ModeleLogit.score(testX, testY)\n",
    "    print('Test score=',TestsScore)\n",
    "    \n",
    "    predictions = ModeleLogit.predict(testX)\n",
    "    proba = ModeleLogit.predict_proba(testX)[:,1]\n",
    "    \n",
    "    mse = mean_squared_error(testY, predictions)\n",
    "    aic = calculate_aic(len(testY),mse,len(X.T))\n",
    "    print('AIC score :',aic)\n",
    "    return predictions, TrainScores, TestsScore, aic, ModeleLogit.coef_, testY, ModeleLogit, proba, trainY, trainX"
   ]
  },
  {
   "cell_type": "code",
   "execution_count": 11,
   "metadata": {},
   "outputs": [],
   "source": [
    "def getROC(yTest, prediction, proba):\n",
    "    fpr, tpr, thres = roc_curve(yTest, proba)\n",
    "    ac = roc_auc_score(yTest, prediction)\n",
    "    plt.figure()\n",
    "    lw = 2\n",
    "    plt.plot(fpr, tpr, color='darkorange', lw=lw, label='ROC curve (area = %0.2f)' % ac)\n",
    "    plt.plot([0, 1], [0, 1], color='navy', lw=lw, linestyle='--')\n",
    "    plt.xlim([0.0, 1.0])\n",
    "    plt.ylim([0.0, 1.05])\n",
    "    plt.xlabel('False Positive Rate')\n",
    "    plt.ylabel('True Positive Rate')\n",
    "    plt.title('Receiver operating characteristic example')\n",
    "    plt.legend(loc=\"lower right\")\n",
    "    plt.show()"
   ]
  },
  {
   "cell_type": "code",
   "execution_count": 12,
   "metadata": {},
   "outputs": [],
   "source": [
    "def getMC(yTest, prediction):\n",
    "    matrice = confusion_matrix(yTest, prediction)\n",
    "    print(matrice) "
   ]
  },
  {
   "cell_type": "code",
   "execution_count": 13,
   "metadata": {},
   "outputs": [],
   "source": [
    "def verificationCoef(coef, data):\n",
    "    dataAmeliorer = data\n",
    "    for i in range(0,len(coef)):\n",
    "        if coef[i] < -0.5:\n",
    "            sigle = data.columns[i]\n",
    "#print(sigle)\n",
    "            if sigle in dataAmeliorer.columns:\n",
    "                dataAmeliorer = dataAmeliorer.drop(sigle, axis=\"columns\")\n",
    "    return dataAmeliorer"
   ]
  },
  {
   "cell_type": "code",
   "execution_count": 14,
   "metadata": {},
   "outputs": [
    {
     "name": "stdout",
     "output_type": "stream",
     "text": [
      "Train score= 0.7168115609002591\n",
      "Test score= 0.7209877278684618\n",
      "AIC score : -42820.641616648725\n"
     ]
    }
   ],
   "source": [
    "predictions, TrainScores, TestsScorelogit, aic, coefficientModel, testY, model, proba, trainY, trainX = calculModelLogit(X, Y)"
   ]
  },
  {
   "cell_type": "markdown",
   "metadata": {},
   "source": [
    "Pour l'echantillon d'entrainement"
   ]
  },
  {
   "cell_type": "code",
   "execution_count": 15,
   "metadata": {},
   "outputs": [
    {
     "data": {
      "image/png": "[encoded data removed]",
      "text/plain": [
       "<Figure size 432x288 with 1 Axes>"
      ]
     },
     "metadata": {
      "needs_background": "light"
     },
     "output_type": "display_data"
    }
   ],
   "source": [
    "getROC(trainY, model.predict(trainX), model.predict_proba(trainX)[:,1])"
   ]
  },
  {
   "cell_type": "code",
   "execution_count": 16,
   "metadata": {},
   "outputs": [
    {
     "name": "stdout",
     "output_type": "stream",
     "text": [
      "[[30950  9432]\n",
      " [12751 25200]]\n"
     ]
    }
   ],
   "source": [
    "getMC(trainY, model.predict(trainX))"
   ]
  },
  {
   "cell_type": "markdown",
   "metadata": {},
   "source": [
    "Pour l'echantillon test"
   ]
  },
  {
   "cell_type": "code",
   "execution_count": 17,
   "metadata": {},
   "outputs": [
    {
     "data": {
      "image/png": "[encoded data removed]",
      "text/plain": [
       "<Figure size 432x288 with 1 Axes>"
      ]
     },
     "metadata": {
      "needs_background": "light"
     },
     "output_type": "display_data"
    }
   ],
   "source": [
    "getROC(testY, predictions, proba)"
   ]
  },
  {
   "cell_type": "code",
   "execution_count": 18,
   "metadata": {},
   "outputs": [
    {
     "name": "stdout",
     "output_type": "stream",
     "text": [
      "[[13241  3968]\n",
      " [ 5399 10964]]\n"
     ]
    }
   ],
   "source": [
    "getMC(testY, predictions)"
   ]
  },
  {
   "cell_type": "code",
   "execution_count": 19,
   "metadata": {},
   "outputs": [
    {
     "data": {
      "text/html": [
       "<div>\n",
       "<style scoped>\n",
       "    .dataframe tbody tr th:only-of-type {\n",
       "        vertical-align: middle;\n",
       "    }\n",
       "\n",
       "    .dataframe tbody tr th {\n",
       "        vertical-align: top;\n",
       "    }\n",
       "\n",
       "    .dataframe thead th {\n",
       "        text-align: right;\n",
       "    }\n",
       "</style>\n",
       "<table border=\"1\" class=\"dataframe\">\n",
       "  <thead>\n",
       "    <tr style=\"text-align: right;\">\n",
       "      <th></th>\n",
       "      <th>0</th>\n",
       "    </tr>\n",
       "  </thead>\n",
       "  <tbody>\n",
       "    <tr>\n",
       "      <th>ma_5</th>\n",
       "      <td>2.464477</td>\n",
       "    </tr>\n",
       "    <tr>\n",
       "      <th>STO_k</th>\n",
       "      <td>0.970829</td>\n",
       "    </tr>\n",
       "    <tr>\n",
       "      <th>EWMA_12</th>\n",
       "      <td>0.580303</td>\n",
       "    </tr>\n",
       "    <tr>\n",
       "      <th>STO_d</th>\n",
       "      <td>0.165222</td>\n",
       "    </tr>\n",
       "    <tr>\n",
       "      <th>H-L</th>\n",
       "      <td>0.141650</td>\n",
       "    </tr>\n",
       "    <tr>\n",
       "      <th>std_10</th>\n",
       "      <td>0.057532</td>\n",
       "    </tr>\n",
       "    <tr>\n",
       "      <th>ADX</th>\n",
       "      <td>0.010245</td>\n",
       "    </tr>\n",
       "    <tr>\n",
       "      <th>MFI</th>\n",
       "      <td>-0.012383</td>\n",
       "    </tr>\n",
       "    <tr>\n",
       "      <th>MACD</th>\n",
       "      <td>-0.045371</td>\n",
       "    </tr>\n",
       "    <tr>\n",
       "      <th>ma_10</th>\n",
       "      <td>-0.094168</td>\n",
       "    </tr>\n",
       "    <tr>\n",
       "      <th>RSI</th>\n",
       "      <td>-0.207193</td>\n",
       "    </tr>\n",
       "    <tr>\n",
       "      <th>std_5</th>\n",
       "      <td>-0.214488</td>\n",
       "    </tr>\n",
       "    <tr>\n",
       "      <th>SAR</th>\n",
       "      <td>-0.472812</td>\n",
       "    </tr>\n",
       "    <tr>\n",
       "      <th>O-C</th>\n",
       "      <td>-0.600013</td>\n",
       "    </tr>\n",
       "    <tr>\n",
       "      <th>MA</th>\n",
       "      <td>-1.226759</td>\n",
       "    </tr>\n",
       "    <tr>\n",
       "      <th>SMA</th>\n",
       "      <td>-1.226759</td>\n",
       "    </tr>\n",
       "    <tr>\n",
       "      <th>Williams %R</th>\n",
       "      <td>-1.572465</td>\n",
       "    </tr>\n",
       "  </tbody>\n",
       "</table>\n",
       "</div>"
      ],
      "text/plain": [
       "                    0\n",
       "ma_5         2.464477\n",
       "STO_k        0.970829\n",
       "EWMA_12      0.580303\n",
       "STO_d        0.165222\n",
       "H-L          0.141650\n",
       "std_10       0.057532\n",
       "ADX          0.010245\n",
       "MFI         -0.012383\n",
       "MACD        -0.045371\n",
       "ma_10       -0.094168\n",
       "RSI         -0.207193\n",
       "std_5       -0.214488\n",
       "SAR         -0.472812\n",
       "O-C         -0.600013\n",
       "MA          -1.226759\n",
       "SMA         -1.226759\n",
       "Williams %R -1.572465"
      ]
     },
     "execution_count": 19,
     "metadata": {},
     "output_type": "execute_result"
    }
   ],
   "source": [
    "variableImportante2 = pd.DataFrame(coefficientModel, columns=X1.columns).T\n",
    "var2 = variableImportante2.sort_values(by=0,ascending = False)\n",
    "var2"
   ]
  },
  {
   "cell_type": "markdown",
   "metadata": {},
   "source": [
    "## Changer les paramètres afin d'avoir une meilleure classification"
   ]
  },
  {
   "cell_type": "code",
   "execution_count": 20,
   "metadata": {},
   "outputs": [
    {
     "name": "stdout",
     "output_type": "stream",
     "text": [
      "[False  True  True  True  True False False  True False False  True False\n",
      " False False  True  True False]\n",
      "[ 6  1  1  1  1  5  7  1  2 10  1  4  8  9  1  1  3]\n",
      "Le paramètre: H-L n'est pas selectionné\n",
      "Le paramètre: std_5 n'est pas selectionné\n",
      "Le paramètre: std_10 n'est pas selectionné\n",
      "Le paramètre: RSI n'est pas selectionné\n",
      "Le paramètre: MFI n'est pas selectionné\n",
      "Le paramètre: STO_d n'est pas selectionné\n",
      "Le paramètre: MACD n'est pas selectionné\n",
      "Le paramètre: ADX n'est pas selectionné\n",
      "Le paramètre: SAR n'est pas selectionné\n"
     ]
    }
   ],
   "source": [
    "#https://towardsdatascience.com/building-a-logistic-regression-in-python-step-by-step-becd4d56c9c8\n",
    "feature_list = list(X1.columns)\n",
    "rfe = RFE(model,8)\n",
    "rfe = rfe.fit(X, Y)\n",
    "print(rfe.support_)\n",
    "print(rfe.ranking_)\n",
    "rapport = rfe.support_\n",
    "\n",
    "nouvelleBD = X\n",
    "## On veut visualiser les variables qui ne sont pas sélectionnées\n",
    "for i in range(0,len(rapport)):\n",
    "    if rapport[i]==False :\n",
    "        sigle = X\n",
    "        print(\"Le paramètre:\",feature_list[i], \"n'est pas selectionné\")\n",
    "        nouvelleBD = nouvelleBD.drop(columns = feature_list[i])"
   ]
  },
  {
   "cell_type": "code",
   "execution_count": 21,
   "metadata": {},
   "outputs": [
    {
     "name": "stdout",
     "output_type": "stream",
     "text": [
      "Train score= 0.7153307035349087\n",
      "Test score= 0.7187835100679137\n",
      "AIC score : -42574.46245677361\n"
     ]
    }
   ],
   "source": [
    "predictions, TrainScores, TestsScorelogit, aic, coefficientModel, testY, model, proba, trainY, trainX = calculModelLogit(nouvelleBD, Y)"
   ]
  },
  {
   "cell_type": "markdown",
   "metadata": {},
   "source": [
    "Pour l'echantillon d'entrainement "
   ]
  },
  {
   "cell_type": "code",
   "execution_count": 22,
   "metadata": {},
   "outputs": [
    {
     "data": {
      "image/png": "[encoded data removed]",
      "text/plain": [
       "<Figure size 432x288 with 1 Axes>"
      ]
     },
     "metadata": {
      "needs_background": "light"
     },
     "output_type": "display_data"
    }
   ],
   "source": [
    "getROC(trainY, model.predict(trainX), model.predict_proba(trainX)[:,1])"
   ]
  },
  {
   "cell_type": "code",
   "execution_count": 23,
   "metadata": {},
   "outputs": [
    {
     "name": "stdout",
     "output_type": "stream",
     "text": [
      "[[30866  9516]\n",
      " [12783 25168]]\n"
     ]
    }
   ],
   "source": [
    "getMC(trainY, model.predict(trainX))"
   ]
  },
  {
   "cell_type": "markdown",
   "metadata": {},
   "source": [
    "Pour l'echantillon test"
   ]
  },
  {
   "cell_type": "code",
   "execution_count": 24,
   "metadata": {},
   "outputs": [
    {
     "data": {
      "image/png": "[encoded data removed]",
      "text/plain": [
       "<Figure size 432x288 with 1 Axes>"
      ]
     },
     "metadata": {
      "needs_background": "light"
     },
     "output_type": "display_data"
    }
   ],
   "source": [
    "getROC(testY, predictions, proba)"
   ]
  },
  {
   "cell_type": "code",
   "execution_count": 25,
   "metadata": {},
   "outputs": [
    {
     "name": "stdout",
     "output_type": "stream",
     "text": [
      "[[13178  4031]\n",
      " [ 5410 10953]]\n"
     ]
    }
   ],
   "source": [
    "getMC(testY, predictions)"
   ]
  },
  {
   "cell_type": "code",
   "execution_count": 26,
   "metadata": {},
   "outputs": [
    {
     "data": {
      "text/plain": [
       "array([[-0.60777394,  3.26244643, -2.67486042, -0.57024802, -1.68953805,\n",
       "         1.0891699 , -0.0068442 , -0.0068442 ]])"
      ]
     },
     "execution_count": 26,
     "metadata": {},
     "output_type": "execute_result"
    }
   ],
   "source": [
    "coefficientModel"
   ]
  },
  {
   "cell_type": "markdown",
   "metadata": {},
   "source": [
    "#### Le AIC, en utilisant la méthode récursive à diminuer, par contre, l'accuracy rester le même. Le % du test est de 70,5% ce qui est bien pour un modèle et le nombr de bon résultats est égale à 344 +252= 596."
   ]
  },
  {
   "cell_type": "markdown",
   "metadata": {},
   "source": [
    "# 2) Arbre de decision"
   ]
  },
  {
   "cell_type": "code",
   "execution_count": 27,
   "metadata": {},
   "outputs": [],
   "source": [
    "def calculModelArbreDecision(X,Y):\n",
    "    trainX, testX, trainY, testY = train_test_split(X, Y, test_size = 0.30, random_state = 0)\n",
    "    ModeleArbre = DecisionTreeClassifier()\n",
    "    \n",
    "    TrainFit = ModeleArbre.fit(trainX, trainY)\n",
    "    \n",
    "    TrainScores = ModeleArbre.score(trainX, trainY)\n",
    "    print('Train score=',TrainScores)\n",
    "    \n",
    "    TestsScore = ModeleArbre.score(testX, testY)\n",
    "    print('Test score=',TestsScore)\n",
    "    \n",
    "    predictions = ModeleArbre.predict(testX)\n",
    "    \n",
    "    proba = ModeleArbre.predict_proba(testX)[:,1]\n",
    "    \n",
    "    mse = mean_squared_error(testY, predictions)\n",
    "    aic = calculate_aic(len(testY),mse,len(X.T))\n",
    "    print('AIC score :',aic)\n",
    "    return predictions, TrainScores, TestsScore, aic, testY, testX, proba, trainY, trainX, ModeleArbre"
   ]
  },
  {
   "cell_type": "code",
   "execution_count": 28,
   "metadata": {},
   "outputs": [
    {
     "name": "stdout",
     "output_type": "stream",
     "text": [
      "Train score= 1.0\n",
      "Test score= 0.6684737281067556\n",
      "AIC score : -37031.106873166966\n"
     ]
    }
   ],
   "source": [
    "predictions, TrainScores, TestsScoretree, aic, testY, testX, prob, trainY, trainX, model = calculModelArbreDecision(X, Y)"
   ]
  },
  {
   "cell_type": "markdown",
   "metadata": {},
   "source": [
    "Pour l'echantillon d'entrainement"
   ]
  },
  {
   "cell_type": "code",
   "execution_count": 29,
   "metadata": {},
   "outputs": [
    {
     "data": {
      "image/png": "[encoded data removed]",
      "text/plain": [
       "<Figure size 432x288 with 1 Axes>"
      ]
     },
     "metadata": {
      "needs_background": "light"
     },
     "output_type": "display_data"
    }
   ],
   "source": [
    "getROC(trainY, model.predict(trainX), model.predict_proba(trainX)[:,1])"
   ]
  },
  {
   "cell_type": "code",
   "execution_count": 30,
   "metadata": {},
   "outputs": [
    {
     "name": "stdout",
     "output_type": "stream",
     "text": [
      "[[40382     0]\n",
      " [    0 37951]]\n"
     ]
    }
   ],
   "source": [
    "getMC(trainY, model.predict(trainX))"
   ]
  },
  {
   "cell_type": "markdown",
   "metadata": {},
   "source": [
    "Pour l'echantillon test"
   ]
  },
  {
   "cell_type": "code",
   "execution_count": 31,
   "metadata": {},
   "outputs": [
    {
     "data": {
      "image/png": "[encoded data removed]",
      "text/plain": [
       "<Figure size 432x288 with 1 Axes>"
      ]
     },
     "metadata": {
      "needs_background": "light"
     },
     "output_type": "display_data"
    }
   ],
   "source": [
    "getROC(testY, predictions, prob)"
   ]
  },
  {
   "cell_type": "code",
   "execution_count": 32,
   "metadata": {},
   "outputs": [
    {
     "name": "stdout",
     "output_type": "stream",
     "text": [
      "[[11639  5570]\n",
      " [ 5560 10803]]\n"
     ]
    }
   ],
   "source": [
    "getMC(testY, predictions)"
   ]
  },
  {
   "cell_type": "markdown",
   "metadata": {},
   "source": [
    "Avec les variables sélectionnées par le modèle Logit"
   ]
  },
  {
   "cell_type": "code",
   "execution_count": 33,
   "metadata": {},
   "outputs": [
    {
     "name": "stdout",
     "output_type": "stream",
     "text": [
      "Train score= 1.0\n",
      "Test score= 0.6388955081615632\n",
      "AIC score : -34180.03336340535\n"
     ]
    }
   ],
   "source": [
    "nouvellePredictions, nouveauTrainScores, nouveauTestsScore, nouveauAIC, nouveautestY, nouveautestX, prob, nouveauTrainY, nouveautrainX, nouveauModel = calculModelArbreDecision(nouvelleBD, Y)"
   ]
  },
  {
   "cell_type": "markdown",
   "metadata": {},
   "source": [
    "Pour l'echantillon d'entrainement"
   ]
  },
  {
   "cell_type": "code",
   "execution_count": 34,
   "metadata": {},
   "outputs": [
    {
     "data": {
      "image/png": "[encoded data removed]",
      "text/plain": [
       "<Figure size 432x288 with 1 Axes>"
      ]
     },
     "metadata": {
      "needs_background": "light"
     },
     "output_type": "display_data"
    }
   ],
   "source": [
    "getROC(nouveauTrainY, nouveauModel.predict(nouveautrainX), nouveauModel.predict_proba(nouveautrainX)[:,1])"
   ]
  },
  {
   "cell_type": "code",
   "execution_count": 35,
   "metadata": {},
   "outputs": [
    {
     "name": "stdout",
     "output_type": "stream",
     "text": [
      "[[40382     0]\n",
      " [    0 37951]]\n"
     ]
    }
   ],
   "source": [
    "getMC(nouveauTrainY, nouveauModel.predict(nouveautrainX))"
   ]
  },
  {
   "cell_type": "markdown",
   "metadata": {},
   "source": [
    "Pour l'echantillon test"
   ]
  },
  {
   "cell_type": "code",
   "execution_count": 36,
   "metadata": {},
   "outputs": [
    {
     "data": {
      "image/png": "[encoded data removed]",
      "text/plain": [
       "<Figure size 432x288 with 1 Axes>"
      ]
     },
     "metadata": {
      "needs_background": "light"
     },
     "output_type": "display_data"
    }
   ],
   "source": [
    "getROC(nouveautestY, nouvellePredictions, prob)"
   ]
  },
  {
   "cell_type": "code",
   "execution_count": 37,
   "metadata": {},
   "outputs": [
    {
     "name": "stdout",
     "output_type": "stream",
     "text": [
      "[[11184  6025]\n",
      " [ 6098 10265]]\n"
     ]
    }
   ],
   "source": [
    "getMC(nouveautestY, nouvellePredictions)"
   ]
  },
  {
   "cell_type": "markdown",
   "metadata": {},
   "source": [
    "### Diminution de la précision de 2% lorsqu'on utilise les paramètres sélectionnés par l'arbre de décision"
   ]
  },
  {
   "cell_type": "markdown",
   "metadata": {},
   "source": [
    "# Random Forest"
   ]
  },
  {
   "cell_type": "code",
   "execution_count": 38,
   "metadata": {},
   "outputs": [],
   "source": [
    "def calculModelRandomForest(X,Y):\n",
    "    trainX, testX, trainY, testY = train_test_split(X, Y, test_size = 0.30, random_state = 42)\n",
    "    ModeleRF = RandomForestClassifier()\n",
    "    \n",
    "    TrainFit = ModeleRF.fit(trainX, trainY)\n",
    "    \n",
    "    TrainScores = ModeleRF.score(trainX, trainY)\n",
    "    print('Train score=',TrainScores)\n",
    "    \n",
    "    TestsScore = ModeleRF.score(testX, testY)\n",
    "    print('Test score=',TestsScore)\n",
    "    \n",
    "    predictions = ModeleRF.predict(testX)\n",
    "    \n",
    "    proba = ModeleRF.predict_proba(testX)[:,1]\n",
    "    \n",
    "    mse = mean_squared_error(testY, predictions)\n",
    "    aic = calculate_aic(len(testY),mse,len(X.T))\n",
    "    print('AIC score :',aic)\n",
    "    variableImportante = ModeleRF.feature_importances_\n",
    "    return predictions, TrainScores, TestsScore, aic, testY, variableImportante, proba, trainY, trainX, ModeleRF"
   ]
  },
  {
   "cell_type": "code",
   "execution_count": 39,
   "metadata": {},
   "outputs": [
    {
     "name": "stdout",
     "output_type": "stream",
     "text": [
      "Train score= 1.0\n",
      "Test score= 0.7479447158346241\n",
      "AIC score : -46231.802628453064\n"
     ]
    }
   ],
   "source": [
    "predictions, TrainScores, TestsScoreforest, AIC, testY, variableImportante, prob, trainY, trainX, model = calculModelRandomForest(X, Y)"
   ]
  },
  {
   "cell_type": "markdown",
   "metadata": {},
   "source": [
    "Pour l'echantillon d'entrainement "
   ]
  },
  {
   "cell_type": "code",
   "execution_count": 40,
   "metadata": {},
   "outputs": [
    {
     "data": {
      "image/png": "[encoded data removed]",
      "text/plain": [
       "<Figure size 432x288 with 1 Axes>"
      ]
     },
     "metadata": {
      "needs_background": "light"
     },
     "output_type": "display_data"
    }
   ],
   "source": [
    "getROC(trainY, model.predict(trainX), model.predict_proba(trainX)[:,1])"
   ]
  },
  {
   "cell_type": "code",
   "execution_count": 41,
   "metadata": {},
   "outputs": [
    {
     "name": "stdout",
     "output_type": "stream",
     "text": [
      "[[40316     0]\n",
      " [    0 38017]]\n"
     ]
    }
   ],
   "source": [
    "getMC(trainY, model.predict(trainX))"
   ]
  },
  {
   "cell_type": "markdown",
   "metadata": {},
   "source": [
    "Pour l'echantillon test"
   ]
  },
  {
   "cell_type": "code",
   "execution_count": 42,
   "metadata": {},
   "outputs": [
    {
     "data": {
      "image/png": "[encoded data removed]",
      "text/plain": [
       "<Figure size 432x288 with 1 Axes>"
      ]
     },
     "metadata": {
      "needs_background": "light"
     },
     "output_type": "display_data"
    }
   ],
   "source": [
    "getROC(testY, predictions, prob)"
   ]
  },
  {
   "cell_type": "code",
   "execution_count": 43,
   "metadata": {},
   "outputs": [
    {
     "name": "stdout",
     "output_type": "stream",
     "text": [
      "[[13253  4022]\n",
      " [ 4440 11857]]\n"
     ]
    }
   ],
   "source": [
    "getMC(testY, predictions)"
   ]
  },
  {
   "cell_type": "code",
   "execution_count": 44,
   "metadata": {},
   "outputs": [
    {
     "data": {
      "text/plain": [
       "<matplotlib.axes._subplots.AxesSubplot at 0x1a252f4f50>"
      ]
     },
     "execution_count": 44,
     "metadata": {},
     "output_type": "execute_result"
    },
    {
     "data": {
      "image/png": "[encoded data removed]",
      "text/plain": [
       "<Figure size 432x288 with 1 Axes>"
      ]
     },
     "metadata": {
      "needs_background": "light"
     },
     "output_type": "display_data"
    }
   ],
   "source": [
    "variableImportante1 = pd.DataFrame(variableImportante, index=X.columns)\n",
    "variableImportante1.sort_values(by=0,ascending = False).plot(kind='bar')"
   ]
  },
  {
   "cell_type": "markdown",
   "metadata": {},
   "source": [
    "#### Les variables importantes du Random Forest sont :\n",
    "#### - O-C\n",
    "#### - Williams %R\n",
    "#### - Stochastique_k\n",
    "#### - RSI\n",
    "#### - Stochastique_d\n",
    "#### Les variables importantes du Logit sont :\n",
    "#### - ma_10\t\n",
    "#### - MACD\t\n",
    "#### - ma_5\t\n",
    "#### - EWMA_12\t\n",
    "#### - H-L\t\n",
    "##### La différence est que le modèle logit utilise des valeurs que ne varie pas beaucoup et qui sont assez stable comparativement à random forest qui choisi des variables qui bougent beaucoup"
   ]
  },
  {
   "cell_type": "markdown",
   "metadata": {},
   "source": [
    "# Répétez l’exercices pour des méthodes plus flexibles mais opaques."
   ]
  },
  {
   "cell_type": "code",
   "execution_count": 45,
   "metadata": {},
   "outputs": [],
   "source": [
    "from sklearn.svm import SVC \n",
    "def calculModelSVM(X,Y,typ):\n",
    "    trainX, testX, trainY, testY = train_test_split(X, Y, test_size = 0.30, random_state = 42)\n",
    "    ModeleSVM = SVC(kernel=typ)\n",
    "    \n",
    "    TrainFit = ModeleSVM.fit(trainX, trainY)\n",
    "    \n",
    "    TrainScores = ModeleSVM.score(trainX, trainY)\n",
    "    print('Train score=',TrainScores)\n",
    "    \n",
    "    TestsScore = ModeleSVM.score(testX, testY)\n",
    "    print('Test score=',TestsScore)\n",
    "    \n",
    "    #proba = ModeleSVM.predict_proba(testX)[:,1]\n",
    "    \n",
    "    mse = mean_squared_error(testY, predictions)\n",
    "    aic = calculate_aic(len(testY),mse,len(X.T))\n",
    "    print('AIC score :',aic)\n",
    "    return predictions, TrainScores, TestsScore, aic, testY, proba, trainY, trainX, ModeleSVM"
   ]
  },
  {
   "cell_type": "code",
   "execution_count": 46,
   "metadata": {},
   "outputs": [
    {
     "name": "stdout",
     "output_type": "stream",
     "text": [
      "Train score= 0.7150881493112736\n",
      "Test score= 0.7103240795901347\n",
      "AIC score : -46231.802628453064\n"
     ]
    }
   ],
   "source": [
    "predictions, TrainScores, TestsScorelin, aic, testY, prob, trainY, trainX, ModeleSVM = calculModelSVM(X,Y,'linear')"
   ]
  },
  {
   "cell_type": "markdown",
   "metadata": {},
   "source": [
    "Pour l'echantillon test"
   ]
  },
  {
   "cell_type": "code",
   "execution_count": 47,
   "metadata": {},
   "outputs": [
    {
     "data": {
      "image/png": "[encoded data removed]",
      "text/plain": [
       "<Figure size 432x288 with 1 Axes>"
      ]
     },
     "metadata": {
      "needs_background": "light"
     },
     "output_type": "display_data"
    }
   ],
   "source": [
    "getROC(testY, predictions, prob)"
   ]
  },
  {
   "cell_type": "code",
   "execution_count": 48,
   "metadata": {},
   "outputs": [
    {
     "name": "stdout",
     "output_type": "stream",
     "text": [
      "[[13253  4022]\n",
      " [ 4440 11857]]\n"
     ]
    }
   ],
   "source": [
    "getMC(testY, predictions)"
   ]
  },
  {
   "cell_type": "code",
   "execution_count": 49,
   "metadata": {},
   "outputs": [
    {
     "name": "stdout",
     "output_type": "stream",
     "text": [
      "Train score= 0.7372244137209094\n",
      "Test score= 0.7300131061598951\n",
      "AIC score : -46231.802628453064\n"
     ]
    }
   ],
   "source": [
    "predictions, TrainScores, TestsScoreradial, aic, testY, prob, trainY, trainX, model = calculModelSVM(X,Y,'rbf')"
   ]
  },
  {
   "cell_type": "markdown",
   "metadata": {},
   "source": [
    "Pour l'echantillon test"
   ]
  },
  {
   "cell_type": "code",
   "execution_count": 50,
   "metadata": {},
   "outputs": [
    {
     "data": {
      "image/png": "[encoded data removed]",
      "text/plain": [
       "<Figure size 432x288 with 1 Axes>"
      ]
     },
     "metadata": {
      "needs_background": "light"
     },
     "output_type": "display_data"
    }
   ],
   "source": [
    "getROC(testY, predictions, prob)"
   ]
  },
  {
   "cell_type": "code",
   "execution_count": 51,
   "metadata": {},
   "outputs": [
    {
     "name": "stdout",
     "output_type": "stream",
     "text": [
      "[[13253  4022]\n",
      " [ 4440 11857]]\n"
     ]
    }
   ],
   "source": [
    "getMC(testY, predictions)"
   ]
  },
  {
   "cell_type": "markdown",
   "metadata": {},
   "source": [
    "# Comparer une dernière fois, l’ensemble des modèles, sélectionnez-en un et expliquez votre choix."
   ]
  },
  {
   "cell_type": "code",
   "execution_count": 52,
   "metadata": {},
   "outputs": [
    {
     "data": {
      "text/html": [
       "<div>\n",
       "<style scoped>\n",
       "    .dataframe tbody tr th:only-of-type {\n",
       "        vertical-align: middle;\n",
       "    }\n",
       "\n",
       "    .dataframe tbody tr th {\n",
       "        vertical-align: top;\n",
       "    }\n",
       "\n",
       "    .dataframe thead th {\n",
       "        text-align: right;\n",
       "    }\n",
       "</style>\n",
       "<table border=\"1\" class=\"dataframe\">\n",
       "  <thead>\n",
       "    <tr style=\"text-align: right;\">\n",
       "      <th></th>\n",
       "      <th>%Tests</th>\n",
       "    </tr>\n",
       "  </thead>\n",
       "  <tbody>\n",
       "    <tr>\n",
       "      <th>Logit</th>\n",
       "      <td>71.878351</td>\n",
       "    </tr>\n",
       "    <tr>\n",
       "      <th>Forest</th>\n",
       "      <td>74.794472</td>\n",
       "    </tr>\n",
       "    <tr>\n",
       "      <th>Tree</th>\n",
       "      <td>66.847373</td>\n",
       "    </tr>\n",
       "    <tr>\n",
       "      <th>Radial</th>\n",
       "      <td>73.001311</td>\n",
       "    </tr>\n",
       "    <tr>\n",
       "      <th>Linéaire</th>\n",
       "      <td>71.032408</td>\n",
       "    </tr>\n",
       "  </tbody>\n",
       "</table>\n",
       "</div>"
      ],
      "text/plain": [
       "             %Tests\n",
       "Logit     71.878351\n",
       "Forest    74.794472\n",
       "Tree      66.847373\n",
       "Radial    73.001311\n",
       "Linéaire  71.032408"
      ]
     },
     "execution_count": 52,
     "metadata": {},
     "output_type": "execute_result"
    }
   ],
   "source": [
    "accuracy = pd.DataFrame([TestsScorelogit,TestsScoreforest,TestsScoretree, TestsScoreradial,TestsScorelin],\n",
    "                       index = ['Logit','Forest','Tree','Radial','Linéaire'], columns = ['%Tests'])*100\n",
    "accuracy"
   ]
  },
  {
   "cell_type": "markdown",
   "metadata": {},
   "source": [
    "#### Le modèle le plus précis est celui du random forest avec 72 %. Il fait tout les possibilités possibles ce qui rend son modele précis dans ce cas."
   ]
  },
  {
   "cell_type": "markdown",
   "metadata": {},
   "source": [
    "# Répétez l’exercice mais cette fois-ci pour chaque ETF pris individuellement."
   ]
  },
  {
   "cell_type": "code",
   "execution_count": 53,
   "metadata": {},
   "outputs": [
    {
     "name": "stdout",
     "output_type": "stream",
     "text": [
      "[*********************100%***********************]  1 of 1 completed\n",
      "Train score= 1.0\n",
      "Test score= 0.6879194630872483\n",
      "AIC score : -660.0384200378805\n",
      "[*********************100%***********************]  1 of 1 completed\n",
      "Train score= 1.0\n",
      "Test score= 0.7080536912751678\n",
      "AIC score : -699.7864792390891\n",
      "[*********************100%***********************]  1 of 1 completed\n",
      "Train score= 1.0\n",
      "Test score= 0.7164429530201343\n",
      "AIC score : -717.1638034767967\n",
      "[*********************100%***********************]  1 of 1 completed\n",
      "Train score= 1.0\n",
      "Test score= 0.7399328859060402\n",
      "AIC score : -768.7020678870775\n",
      "[*********************100%***********************]  1 of 1 completed\n",
      "Train score= 1.0\n",
      "Test score= 0.7164429530201343\n",
      "AIC score : -717.1638034767967\n",
      "[*********************100%***********************]  1 of 1 completed\n",
      "Train score= 1.0\n",
      "Test score= 0.6963087248322147\n",
      "AIC score : -676.2792069365164\n",
      "[*********************100%***********************]  1 of 1 completed\n",
      "Train score= 1.0\n",
      "Test score= 0.7114093959731543\n",
      "AIC score : -706.6767293901304\n",
      "[*********************100%***********************]  1 of 1 completed\n",
      "Train score= 1.0\n",
      "Test score= 0.6895973154362416\n",
      "AIC score : -663.2513658242668\n",
      "[*********************100%***********************]  1 of 1 completed\n",
      "Train score= 1.0\n",
      "Test score= 0.6812080536912751\n",
      "AIC score : -647.3570905632987\n",
      "[*********************100%***********************]  1 of 1 completed\n",
      "Train score= 1.0\n",
      "Test score= 0.6879194630872483\n",
      "AIC score : -660.0384200378805\n",
      "[*********************100%***********************]  1 of 1 completed\n",
      "Train score= 1.0\n",
      "Test score= 0.6845637583892618\n",
      "AIC score : -653.6640277242988\n",
      "[*********************100%***********************]  1 of 1 completed\n",
      "Train score= 1.0\n",
      "Test score= 0.6795302013422819\n",
      "AIC score : -644.2284744551571\n",
      "[*********************100%***********************]  1 of 1 completed\n",
      "Train score= 1.0\n",
      "Test score= 0.7197986577181208\n",
      "AIC score : -724.2591253705624\n",
      "[*********************100%***********************]  1 of 1 completed\n",
      "Train score= 1.0\n",
      "Test score= 0.7080536912751678\n",
      "AIC score : -699.7864792390891\n",
      "[*********************100%***********************]  1 of 1 completed\n",
      "Train score= 1.0\n",
      "Test score= 0.6912751677852349\n",
      "AIC score : -666.481726035993\n",
      "[*********************100%***********************]  1 of 1 completed\n",
      "Train score= 1.0\n",
      "Test score= 0.709731543624161\n",
      "AIC score : -703.2216472502722\n",
      "[*********************100%***********************]  1 of 1 completed\n",
      "Train score= 1.0\n",
      "Test score= 0.7164429530201343\n",
      "AIC score : -717.1638034767967\n",
      "[*********************100%***********************]  1 of 1 completed\n",
      "Train score= 1.0\n",
      "Test score= 0.7365771812080537\n",
      "AIC score : -761.0609375833569\n",
      "[*********************100%***********************]  1 of 1 completed\n",
      "Train score= 1.0\n",
      "Test score= 0.7298657718120806\n",
      "AIC score : -746.0664360402085\n",
      "[*********************100%***********************]  1 of 1 completed\n",
      "Train score= 1.0\n",
      "Test score= 0.7332214765100671\n",
      "AIC score : -753.5165330476905\n",
      "[*********************100%***********************]  1 of 1 completed\n",
      "Train score= 1.0\n",
      "Test score= 0.6912751677852349\n",
      "AIC score : -666.481726035993\n",
      "[*********************100%***********************]  1 of 1 completed\n",
      "Train score= 1.0\n",
      "Test score= 0.6828859060402684\n",
      "AIC score : -650.5022165954016\n",
      "[*********************100%***********************]  1 of 1 completed\n",
      "Train score= 1.0\n",
      "Test score= 0.7567114093959731\n",
      "AIC score : -808.4501270882861\n",
      "[*********************100%***********************]  1 of 1 completed\n",
      "Train score= 1.0\n",
      "Test score= 0.7164429530201343\n",
      "AIC score : -717.1638034767967\n",
      "[*********************100%***********************]  1 of 1 completed\n",
      "Train score= 1.0\n",
      "Test score= 0.738255033557047\n",
      "AIC score : -764.8692572502243\n",
      "[*********************100%***********************]  1 of 1 completed\n",
      "Train score= 1.0\n",
      "Test score= 0.7265100671140939\n",
      "AIC score : -738.7083178901181\n",
      "[*********************100%***********************]  1 of 1 completed\n",
      "Train score= 1.0\n",
      "Test score= 0.7332214765100671\n",
      "AIC score : -753.5165330476905\n",
      "[*********************100%***********************]  1 of 1 completed\n",
      "Train score= 1.0\n",
      "Test score= 0.6795302013422819\n",
      "AIC score : -644.2284744551571\n",
      "[*********************100%***********************]  1 of 1 completed\n",
      "Train score= 1.0\n",
      "Test score= 0.7181208053691275\n",
      "AIC score : -720.7009058466062\n",
      "[*********************100%***********************]  1 of 1 completed\n",
      "Train score= 1.0\n",
      "Test score= 0.7298657718120806\n",
      "AIC score : -746.0664360402085\n",
      "[*********************100%***********************]  1 of 1 completed\n",
      "Train score= 1.0\n",
      "Test score= 0.738255033557047\n",
      "AIC score : -764.8692572502243\n",
      "[*********************100%***********************]  1 of 1 completed\n",
      "Train score= 1.0\n",
      "Test score= 0.6694630872483222\n",
      "AIC score : -625.7940152431073\n",
      "[*********************100%***********************]  1 of 1 completed\n",
      "Train score= 1.0\n",
      "Test score= 0.7181208053691275\n",
      "AIC score : -720.7009058466062\n",
      "[*********************100%***********************]  1 of 1 completed\n",
      "Train score= 1.0\n",
      "Test score= 0.6845637583892618\n",
      "AIC score : -653.6640277242988\n",
      "[*********************100%***********************]  1 of 1 completed\n",
      "Train score= 1.0\n",
      "Test score= 0.7080536912751678\n",
      "AIC score : -699.7864792390891\n",
      "[*********************100%***********************]  1 of 1 completed\n",
      "Train score= 1.0\n",
      "Test score= 0.6946308724832215\n",
      "AIC score : -672.9954520731784\n",
      "[*********************100%***********************]  1 of 1 completed\n",
      "Train score= 1.0\n",
      "Test score= 0.7013422818791947\n",
      "AIC score : -686.2404415968656\n",
      "[*********************100%***********************]  1 of 1 completed\n",
      "Train score= 1.0\n",
      "Test score= 0.7114093959731543\n",
      "AIC score : -706.6767293901304\n",
      "[*********************100%***********************]  1 of 1 completed\n",
      "Train score= 1.0\n",
      "Test score= 0.7013422818791947\n",
      "AIC score : -686.2404415968656\n",
      "[*********************100%***********************]  1 of 1 completed\n",
      "Train score= 1.0\n",
      "Test score= 0.6929530201342282\n",
      "AIC score : -669.7296904774616\n",
      "[*********************100%***********************]  1 of 1 completed\n",
      "Train score= 1.0\n",
      "Test score= 0.7030201342281879\n",
      "AIC score : -689.5981969569464\n",
      "[*********************100%***********************]  1 of 1 completed\n",
      "Train score= 1.0\n",
      "Test score= 0.7181208053691275\n",
      "AIC score : -720.7009058466062\n",
      "[*********************100%***********************]  1 of 1 completed\n",
      "Train score= 1.0\n",
      "Test score= 0.6963087248322147\n",
      "AIC score : -676.2792069365164\n",
      "[*********************100%***********************]  1 of 1 completed\n",
      "Train score= 1.0\n",
      "Test score= 0.6996644295302014\n",
      "AIC score : -682.9014972898585\n",
      "[*********************100%***********************]  1 of 1 completed\n",
      "Train score= 1.0\n",
      "Test score= 0.697986577181208\n",
      "AIC score : -679.5811544403831\n",
      "[*********************100%***********************]  1 of 1 completed\n",
      "Train score= 1.0\n",
      "Test score= 0.6812080536912751\n",
      "AIC score : -647.3570905632987\n",
      "[*********************100%***********************]  1 of 1 completed\n",
      "Train score= 1.0\n",
      "Test score= 0.6996644295302014\n",
      "AIC score : -682.9014972898585\n",
      "[*********************100%***********************]  1 of 1 completed\n",
      "Train score= 1.0\n",
      "Test score= 0.7114093959731543\n",
      "AIC score : -706.6767293901304\n",
      "[*********************100%***********************]  1 of 1 completed\n",
      "Train score= 1.0\n",
      "Test score= 0.6778523489932886\n",
      "AIC score : -641.1161958423907\n",
      "[*********************100%***********************]  1 of 1 completed\n",
      "Train score= 1.0\n",
      "Test score= 0.7046979865771812\n",
      "AIC score : -692.9749765282099\n",
      "[*********************100%***********************]  1 of 1 completed\n",
      "Train score= 1.0\n",
      "Test score= 0.7164429530201343\n",
      "AIC score : -717.1638034767967\n",
      "[*********************100%***********************]  1 of 1 completed\n",
      "Train score= 1.0\n",
      "Test score= 0.6912751677852349\n",
      "AIC score : -666.481726035993\n",
      "[*********************100%***********************]  1 of 1 completed\n",
      "Train score= 1.0\n",
      "Test score= 0.6570048309178744\n",
      "AIC score : -187.4980556583791\n",
      "[*********************100%***********************]  1 of 1 completed\n",
      "Train score= 1.0\n",
      "Test score= 0.6946308724832215\n",
      "AIC score : -672.9954520731784\n",
      "[*********************100%***********************]  1 of 1 completed\n",
      "Train score= 1.0\n",
      "Test score= 0.7130872483221476\n",
      "AIC score : -710.1519578953632\n",
      "[*********************100%***********************]  1 of 1 completed\n",
      "Train score= 1.0\n",
      "Test score= 0.697986577181208\n",
      "AIC score : -679.5811544403831\n",
      "[*********************100%***********************]  1 of 1 completed\n",
      "Train score= 1.0\n",
      "Test score= 0.7315436241610739\n",
      "AIC score : -749.7798436915876\n"
     ]
    }
   ],
   "source": [
    "modele_unique = pd.DataFrame(index = BLack_ETF)\n",
    "testscore=[]\n",
    "AIC = []\n",
    "for etf in BLack_ETF:\n",
    "    Y,Data = get_Data_bin(etf)\n",
    "    X = data_preprocessing(etf,Data)\n",
    "    X['Y']=Y\n",
    "    X = X.dropna()\n",
    "    Y = X['Y']\n",
    "    X = X.drop(columns = ['Y'])\n",
    "    predictions, TrainScores, TestsScoreforest, aic, testY, variableImportante, prob, trainY, trainX, model = calculModelRandomForest(X, Y)\n",
    "    testscore.append(TestsScoreforest)\n",
    "    AIC.append(aic)\n",
    "modele_unique['test %']=testscore\n",
    "modele_unique['AIC']=AIC\n"
   ]
  },
  {
   "cell_type": "code",
   "execution_count": 54,
   "metadata": {},
   "outputs": [
    {
     "data": {
      "text/html": [
       "<div>\n",
       "<style scoped>\n",
       "    .dataframe tbody tr th:only-of-type {\n",
       "        vertical-align: middle;\n",
       "    }\n",
       "\n",
       "    .dataframe tbody tr th {\n",
       "        vertical-align: top;\n",
       "    }\n",
       "\n",
       "    .dataframe thead th {\n",
       "        text-align: right;\n",
       "    }\n",
       "</style>\n",
       "<table border=\"1\" class=\"dataframe\">\n",
       "  <thead>\n",
       "    <tr style=\"text-align: right;\">\n",
       "      <th></th>\n",
       "      <th>test %</th>\n",
       "      <th>AIC</th>\n",
       "    </tr>\n",
       "  </thead>\n",
       "  <tbody>\n",
       "    <tr>\n",
       "      <th>IVV</th>\n",
       "      <td>0.687919</td>\n",
       "      <td>-660.038420</td>\n",
       "    </tr>\n",
       "    <tr>\n",
       "      <th>IWF</th>\n",
       "      <td>0.708054</td>\n",
       "      <td>-699.786479</td>\n",
       "    </tr>\n",
       "    <tr>\n",
       "      <th>IJH</th>\n",
       "      <td>0.716443</td>\n",
       "      <td>-717.163803</td>\n",
       "    </tr>\n",
       "    <tr>\n",
       "      <th>IJR</th>\n",
       "      <td>0.739933</td>\n",
       "      <td>-768.702068</td>\n",
       "    </tr>\n",
       "    <tr>\n",
       "      <th>IWM</th>\n",
       "      <td>0.716443</td>\n",
       "      <td>-717.163803</td>\n",
       "    </tr>\n",
       "    <tr>\n",
       "      <th>IWD</th>\n",
       "      <td>0.696309</td>\n",
       "      <td>-676.279207</td>\n",
       "    </tr>\n",
       "    <tr>\n",
       "      <th>ITOT</th>\n",
       "      <td>0.711409</td>\n",
       "      <td>-706.676729</td>\n",
       "    </tr>\n",
       "    <tr>\n",
       "      <th>IVW</th>\n",
       "      <td>0.689597</td>\n",
       "      <td>-663.251366</td>\n",
       "    </tr>\n",
       "    <tr>\n",
       "      <th>IWB</th>\n",
       "      <td>0.681208</td>\n",
       "      <td>-647.357091</td>\n",
       "    </tr>\n",
       "    <tr>\n",
       "      <th>IWR</th>\n",
       "      <td>0.687919</td>\n",
       "      <td>-660.038420</td>\n",
       "    </tr>\n",
       "    <tr>\n",
       "      <th>DVY</th>\n",
       "      <td>0.684564</td>\n",
       "      <td>-653.664028</td>\n",
       "    </tr>\n",
       "    <tr>\n",
       "      <th>IVE</th>\n",
       "      <td>0.679530</td>\n",
       "      <td>-644.228474</td>\n",
       "    </tr>\n",
       "    <tr>\n",
       "      <th>IWP</th>\n",
       "      <td>0.719799</td>\n",
       "      <td>-724.259125</td>\n",
       "    </tr>\n",
       "    <tr>\n",
       "      <th>IWS</th>\n",
       "      <td>0.708054</td>\n",
       "      <td>-699.786479</td>\n",
       "    </tr>\n",
       "    <tr>\n",
       "      <th>IWV</th>\n",
       "      <td>0.691275</td>\n",
       "      <td>-666.481726</td>\n",
       "    </tr>\n",
       "    <tr>\n",
       "      <th>IUSG</th>\n",
       "      <td>0.709732</td>\n",
       "      <td>-703.221647</td>\n",
       "    </tr>\n",
       "    <tr>\n",
       "      <th>IWO</th>\n",
       "      <td>0.716443</td>\n",
       "      <td>-717.163803</td>\n",
       "    </tr>\n",
       "    <tr>\n",
       "      <th>IWN</th>\n",
       "      <td>0.736577</td>\n",
       "      <td>-761.060938</td>\n",
       "    </tr>\n",
       "    <tr>\n",
       "      <th>IBB</th>\n",
       "      <td>0.729866</td>\n",
       "      <td>-746.066436</td>\n",
       "    </tr>\n",
       "    <tr>\n",
       "      <th>IJK</th>\n",
       "      <td>0.733221</td>\n",
       "      <td>-753.516533</td>\n",
       "    </tr>\n",
       "    <tr>\n",
       "      <th>IUSV</th>\n",
       "      <td>0.691275</td>\n",
       "      <td>-666.481726</td>\n",
       "    </tr>\n",
       "    <tr>\n",
       "      <th>OEF</th>\n",
       "      <td>0.682886</td>\n",
       "      <td>-650.502217</td>\n",
       "    </tr>\n",
       "    <tr>\n",
       "      <th>IJS</th>\n",
       "      <td>0.756711</td>\n",
       "      <td>-808.450127</td>\n",
       "    </tr>\n",
       "    <tr>\n",
       "      <th>IJJ</th>\n",
       "      <td>0.716443</td>\n",
       "      <td>-717.163803</td>\n",
       "    </tr>\n",
       "    <tr>\n",
       "      <th>IYW</th>\n",
       "      <td>0.738255</td>\n",
       "      <td>-764.869257</td>\n",
       "    </tr>\n",
       "    <tr>\n",
       "      <th>IHI</th>\n",
       "      <td>0.726510</td>\n",
       "      <td>-738.708318</td>\n",
       "    </tr>\n",
       "    <tr>\n",
       "      <th>IJT</th>\n",
       "      <td>0.733221</td>\n",
       "      <td>-753.516533</td>\n",
       "    </tr>\n",
       "    <tr>\n",
       "      <th>ITA</th>\n",
       "      <td>0.679530</td>\n",
       "      <td>-644.228474</td>\n",
       "    </tr>\n",
       "    <tr>\n",
       "      <th>IGV</th>\n",
       "      <td>0.718121</td>\n",
       "      <td>-720.700906</td>\n",
       "    </tr>\n",
       "    <tr>\n",
       "      <th>IYH</th>\n",
       "      <td>0.729866</td>\n",
       "      <td>-746.066436</td>\n",
       "    </tr>\n",
       "    <tr>\n",
       "      <th>SOXX</th>\n",
       "      <td>0.738255</td>\n",
       "      <td>-764.869257</td>\n",
       "    </tr>\n",
       "    <tr>\n",
       "      <th>EWC</th>\n",
       "      <td>0.669463</td>\n",
       "      <td>-625.794015</td>\n",
       "    </tr>\n",
       "    <tr>\n",
       "      <th>IGM</th>\n",
       "      <td>0.718121</td>\n",
       "      <td>-720.700906</td>\n",
       "    </tr>\n",
       "    <tr>\n",
       "      <th>IYF</th>\n",
       "      <td>0.684564</td>\n",
       "      <td>-653.664028</td>\n",
       "    </tr>\n",
       "    <tr>\n",
       "      <th>JKE</th>\n",
       "      <td>0.708054</td>\n",
       "      <td>-699.786479</td>\n",
       "    </tr>\n",
       "    <tr>\n",
       "      <th>SUSA</th>\n",
       "      <td>0.694631</td>\n",
       "      <td>-672.995452</td>\n",
       "    </tr>\n",
       "    <tr>\n",
       "      <th>IDU</th>\n",
       "      <td>0.701342</td>\n",
       "      <td>-686.240442</td>\n",
       "    </tr>\n",
       "    <tr>\n",
       "      <th>IYY</th>\n",
       "      <td>0.711409</td>\n",
       "      <td>-706.676729</td>\n",
       "    </tr>\n",
       "    <tr>\n",
       "      <th>IYG</th>\n",
       "      <td>0.701342</td>\n",
       "      <td>-686.240442</td>\n",
       "    </tr>\n",
       "    <tr>\n",
       "      <th>JKD</th>\n",
       "      <td>0.692953</td>\n",
       "      <td>-669.729690</td>\n",
       "    </tr>\n",
       "    <tr>\n",
       "      <th>IYC</th>\n",
       "      <td>0.703020</td>\n",
       "      <td>-689.598197</td>\n",
       "    </tr>\n",
       "    <tr>\n",
       "      <th>IYJ</th>\n",
       "      <td>0.718121</td>\n",
       "      <td>-720.700906</td>\n",
       "    </tr>\n",
       "    <tr>\n",
       "      <th>JKG</th>\n",
       "      <td>0.696309</td>\n",
       "      <td>-676.279207</td>\n",
       "    </tr>\n",
       "    <tr>\n",
       "      <th>IWC</th>\n",
       "      <td>0.699664</td>\n",
       "      <td>-682.901497</td>\n",
       "    </tr>\n",
       "    <tr>\n",
       "      <th>IYK</th>\n",
       "      <td>0.697987</td>\n",
       "      <td>-679.581154</td>\n",
       "    </tr>\n",
       "    <tr>\n",
       "      <th>JKF</th>\n",
       "      <td>0.681208</td>\n",
       "      <td>-647.357091</td>\n",
       "    </tr>\n",
       "    <tr>\n",
       "      <th>JKH</th>\n",
       "      <td>0.699664</td>\n",
       "      <td>-682.901497</td>\n",
       "    </tr>\n",
       "    <tr>\n",
       "      <th>IYT</th>\n",
       "      <td>0.711409</td>\n",
       "      <td>-706.676729</td>\n",
       "    </tr>\n",
       "    <tr>\n",
       "      <th>JKI</th>\n",
       "      <td>0.677852</td>\n",
       "      <td>-641.116196</td>\n",
       "    </tr>\n",
       "    <tr>\n",
       "      <th>IYZ</th>\n",
       "      <td>0.704698</td>\n",
       "      <td>-692.974977</td>\n",
       "    </tr>\n",
       "    <tr>\n",
       "      <th>IGE</th>\n",
       "      <td>0.716443</td>\n",
       "      <td>-717.163803</td>\n",
       "    </tr>\n",
       "    <tr>\n",
       "      <th>IYE</th>\n",
       "      <td>0.691275</td>\n",
       "      <td>-666.481726</td>\n",
       "    </tr>\n",
       "    <tr>\n",
       "      <th>JKL</th>\n",
       "      <td>0.657005</td>\n",
       "      <td>-187.498056</td>\n",
       "    </tr>\n",
       "    <tr>\n",
       "      <th>IYM</th>\n",
       "      <td>0.694631</td>\n",
       "      <td>-672.995452</td>\n",
       "    </tr>\n",
       "    <tr>\n",
       "      <th>JKJ</th>\n",
       "      <td>0.713087</td>\n",
       "      <td>-710.151958</td>\n",
       "    </tr>\n",
       "    <tr>\n",
       "      <th>JKK</th>\n",
       "      <td>0.697987</td>\n",
       "      <td>-679.581154</td>\n",
       "    </tr>\n",
       "    <tr>\n",
       "      <th>IGN</th>\n",
       "      <td>0.731544</td>\n",
       "      <td>-749.779844</td>\n",
       "    </tr>\n",
       "  </tbody>\n",
       "</table>\n",
       "</div>"
      ],
      "text/plain": [
       "        test %         AIC\n",
       "IVV   0.687919 -660.038420\n",
       "IWF   0.708054 -699.786479\n",
       "IJH   0.716443 -717.163803\n",
       "IJR   0.739933 -768.702068\n",
       "IWM   0.716443 -717.163803\n",
       "IWD   0.696309 -676.279207\n",
       "ITOT  0.711409 -706.676729\n",
       "IVW   0.689597 -663.251366\n",
       "IWB   0.681208 -647.357091\n",
       "IWR   0.687919 -660.038420\n",
       "DVY   0.684564 -653.664028\n",
       "IVE   0.679530 -644.228474\n",
       "IWP   0.719799 -724.259125\n",
       "IWS   0.708054 -699.786479\n",
       "IWV   0.691275 -666.481726\n",
       "IUSG  0.709732 -703.221647\n",
       "IWO   0.716443 -717.163803\n",
       "IWN   0.736577 -761.060938\n",
       "IBB   0.729866 -746.066436\n",
       "IJK   0.733221 -753.516533\n",
       "IUSV  0.691275 -666.481726\n",
       "OEF   0.682886 -650.502217\n",
       "IJS   0.756711 -808.450127\n",
       "IJJ   0.716443 -717.163803\n",
       "IYW   0.738255 -764.869257\n",
       "IHI   0.726510 -738.708318\n",
       "IJT   0.733221 -753.516533\n",
       "ITA   0.679530 -644.228474\n",
       "IGV   0.718121 -720.700906\n",
       "IYH   0.729866 -746.066436\n",
       "SOXX  0.738255 -764.869257\n",
       "EWC   0.669463 -625.794015\n",
       "IGM   0.718121 -720.700906\n",
       "IYF   0.684564 -653.664028\n",
       "JKE   0.708054 -699.786479\n",
       "SUSA  0.694631 -672.995452\n",
       "IDU   0.701342 -686.240442\n",
       "IYY   0.711409 -706.676729\n",
       "IYG   0.701342 -686.240442\n",
       "JKD   0.692953 -669.729690\n",
       "IYC   0.703020 -689.598197\n",
       "IYJ   0.718121 -720.700906\n",
       "JKG   0.696309 -676.279207\n",
       "IWC   0.699664 -682.901497\n",
       "IYK   0.697987 -679.581154\n",
       "JKF   0.681208 -647.357091\n",
       "JKH   0.699664 -682.901497\n",
       "IYT   0.711409 -706.676729\n",
       "JKI   0.677852 -641.116196\n",
       "IYZ   0.704698 -692.974977\n",
       "IGE   0.716443 -717.163803\n",
       "IYE   0.691275 -666.481726\n",
       "JKL   0.657005 -187.498056\n",
       "IYM   0.694631 -672.995452\n",
       "JKJ   0.713087 -710.151958\n",
       "JKK   0.697987 -679.581154\n",
       "IGN   0.731544 -749.779844"
      ]
     },
     "execution_count": 54,
     "metadata": {},
     "output_type": "execute_result"
    }
   ],
   "source": [
    "modele_unique"
   ]
  },
  {
   "cell_type": "markdown",
   "metadata": {},
   "source": [
    "En utilisant un modele pour chaque ETF, il est évident que le modèle sera moins efficace pour généraliser sur les autres ETF, donc il faudrait créer un modèle a chaque fois qu'on veut savoir pour un stock."
   ]
  },
  {
   "cell_type": "markdown",
   "metadata": {},
   "source": [
    "Source :\n",
    "\n",
    "https://github.com/mrjbq7/ta-lib\n",
    "\n",
    "https://medium.com/@rbhatia46/using-svm-on-top-of-technical-indicators-to-predict-reliance-stock-prices-abb494d9f45f"
   ]
  }
 ],
 "metadata": {
  "kernelspec": {
   "display_name": "Python 3",
   "language": "python",
   "name": "python3"
  },
  "language_info": {
   "codemirror_mode": {
    "name": "ipython",
    "version": 3
   },
   "file_extension": ".py",
   "mimetype": "text/x-python",
   "name": "python",
   "nbconvert_exporter": "python",
   "pygments_lexer": "ipython3",
   "version": "3.7.4"
  }
 },
 "nbformat": 4,
 "nbformat_minor": 2
}
