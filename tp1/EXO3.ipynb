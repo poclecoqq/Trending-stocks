{
 "cells": [
  {
   "cell_type": "code",
   "execution_count": 1,
   "metadata": {},
   "outputs": [
    {
     "name": "stdout",
     "output_type": "stream",
     "text": [
      "[*********************100%***********************]  31 of 31 completed\n"
     ]
    }
   ],
   "source": [
    "# Download Data from Yahoo Finance\n",
    "import datetime\n",
    "import matplotlib.pyplot as plt\n",
    "import pandas as pd\n",
    "# Pour lire les données de Yahoo Finance, vous devez installer le toolbox yfinance\n",
    "import yfinance as yf \n",
    "import numpy as np\n",
    "start_sp = datetime.datetime(2004,12,31)\n",
    "end_sp = datetime.datetime(2019, 12,31)\n",
    "\n",
    "# Dow Jones index\n",
    "# 1st Dow Jones Index + 30 components\n",
    "dow30 = ['^DJI','AXP', 'AAPL', 'BA', 'CAT', 'CSCO', 'CVX', 'DD', 'XOM',\n",
    "         'GE', 'GS', 'HD', 'IBM', 'INTC', 'JNJ', 'KO', 'JPM',\n",
    "         'MCD', 'MMM', 'MRK', 'MSFT', 'NKE', 'PFE', 'PG',\n",
    "         'TRV', 'UNH', 'UTX', 'VZ', 'V', 'WMT', 'DIS']\n",
    "\n",
    "Dow_data = yf.download(dow30, start=start_sp, end=end_sp,group_by=\"ticker\")\n",
    "\n",
    "\n",
    "#adj_close = pdr.get_data_yahoo(dow30, start_sp, end_sp)['Adj Close']\n",
    "\n",
    "# To access the adjusted close price, use\n",
    "Dow_data['^DJI']['Close']\n",
    "\n",
    "# Graph data\n",
    "Dow_data['^DJI']['Close'].plot(grid=True)\n",
    "\n",
    "\n",
    "\n",
    "stock_returns = dict()\n",
    "\n",
    "for ticker in dow30:\n",
    "    stock_returns[ticker] = Dow_data[ticker].pct_change(1)\n",
    "    \n",
    "    \n",
    "\n",
    "std = dict()\n",
    "\n",
    "\n",
    "\n",
    "for ticker in dow30:\n",
    "    std[ticker] = stock_returns[ticker].std()\n",
    "\n",
    "import math\n",
    "from random import randint\n",
    "\n",
    "std = dict()\n",
    "for ticker in dow30:\n",
    "    std[ticker] = stock_returns[ticker].std()\n",
    "\n",
    "NUMBER_OF_SIMULATIONS = 5\n",
    "NUMBER_OF_STEPS = 30\n",
    "        \n"
   ]
  },
  {
   "cell_type": "code",
   "execution_count": 2,
   "metadata": {},
   "outputs": [],
   "source": [
    "#Selon le cours\n",
    "# ppt session 2\n",
    "def GBM(So, mu, sigma, W, T, N):\n",
    "    t = np.linspace(0.,1., N+1)\n",
    "    S = []\n",
    "    S.append(S0)\n",
    "    for i in xrange(1, int(N+1)):\n",
    "        drift = (mu - 0.5 * sigma**2) * t[i]\n",
    "        diffusion = sigma * W[i-1]\n",
    "        S_temp = So*np.exp(drift+diffusion)\n",
    "        S.append(S_temp)\n",
    "    return S, t\n",
    "\n"
   ]
  },
  {
   "cell_type": "code",
   "execution_count": 3,
   "metadata": {},
   "outputs": [],
   "source": [
    "# https://www.geeksforgeeks.org/cholesky-decomposition-matrix-decomposition/\n",
    "# mouvement brownien arithmétique\n",
    "# http://www.les-mathematiques.net/phorum/read.php?12,513949\n",
    "\n",
    "def generate_brownian(prices):\n",
    "    S = []\n",
    "    for i in range(NUMBER_OF_STEPS):\n",
    "        s0 = prices[i][1] #On prend So\n",
    "        ticker = prices[i][0] # On prend les ticker\n",
    "        mu = #On veut les rendements periodique moyen\n",
    "        sigma = std[ticker] #Je sais pas trop ce que c'est\n",
    "        S = GBM(s0, mu, sigma, ..., ... ,...)\n",
    "        \n",
    "    return S"
   ]
  },
  {
   "cell_type": "code",
   "execution_count": 4,
   "metadata": {},
   "outputs": [],
   "source": [
    "def generate_simulation_brownian():\n",
    "    for simulation in range(NUMBER_OF_SIMULATIONS):\n",
    "        browniens = list()\n",
    "        result = list()\n",
    "            \n",
    "        for day in range(NUMBER_OF_STEPS):\n",
    "            browniens.append(generate_brownian(...)) # valeur historique\n",
    "            for i in range(NUMBER_OF_STEPS):\n",
    "                valeurDuPorteMonaie =sum() ## on utilises browniens\n",
    "                results.append(valeurDuPorteMonaie)"
   ]
  },
  {
   "cell_type": "code",
   "execution_count": null,
   "metadata": {},
   "outputs": [],
   "source": []
  },
  {
   "cell_type": "code",
   "execution_count": 5,
   "metadata": {},
   "outputs": [],
   "source": [
    "#https://towardsdatascience.com/an-introduction-to-the-bootstrap-method-58bcb51b4d60\n",
    "#https://github.com/jamesmawm/Mastering-Python-for-Finance-source-codes/blob/master/B03898_05_Codes/BootstrapYieldCurve.py\n",
    "\n",
    "def generate_bootstrap(prices):\n",
    "    next_prices = []\n",
    "    for i in range(NUMBER_OF_STEPS):\n",
    "        s0 = prices[i][1]\n",
    "        ticker = prices[i][0]\n",
    "        \n",
    "    \n",
    "        bootstrap = ....\n",
    "        next_prices.append((ticker, bootstrap))\n",
    "    return next_prices"
   ]
  },
  {
   "cell_type": "code",
   "execution_count": 6,
   "metadata": {},
   "outputs": [],
   "source": [
    "def generate_simulatio_Bootstrap():\n",
    "\n",
    "    for simulation in range(NUMBER_OF_SIMULATIONS):\n",
    "        bootstraps = list()\n",
    "        result = list()\n",
    "            \n",
    "            \n",
    "        for day in range(NUMBER_OF_STEPS):\n",
    "            bootstraps.append(generate_bootstrap(...)) #Besoin des valeurs historiques\n",
    "            for i in range(NUMBER_OF_STEPS):\n",
    "                valeurDuPorteMonaie =sum(...) #je ne suis pas sur mais il faut utiliser bootstraps on multiplie a quelque chose\n",
    "                results.append(valeurDuPorteMonaie)"
   ]
  },
  {
   "cell_type": "code",
   "execution_count": 7,
   "metadata": {},
   "outputs": [
    {
     "ename": "NameError",
     "evalue": "name 'adj_close' is not defined",
     "output_type": "error",
     "traceback": [
      "\u001b[1;31m---------------------------------------------------------------------------\u001b[0m",
      "\u001b[1;31mNameError\u001b[0m                                 Traceback (most recent call last)",
      "\u001b[1;32m<ipython-input-7-e467b096b546>\u001b[0m in \u001b[0;36m<module>\u001b[1;34m\u001b[0m\n\u001b[0;32m      1\u001b[0m \u001b[1;31m# Simulation brownian\u001b[0m\u001b[1;33m\u001b[0m\u001b[1;33m\u001b[0m\u001b[1;33m\u001b[0m\u001b[0m\n\u001b[1;32m----> 2\u001b[1;33m \u001b[0mgenerate_simulation_brownian\u001b[0m\u001b[1;33m(\u001b[0m\u001b[1;33m)\u001b[0m\u001b[1;33m\u001b[0m\u001b[1;33m\u001b[0m\u001b[0m\n\u001b[0m\u001b[0;32m      3\u001b[0m \u001b[1;33m\u001b[0m\u001b[0m\n\u001b[0;32m      4\u001b[0m \u001b[1;33m\u001b[0m\u001b[0m\n\u001b[0;32m      5\u001b[0m \u001b[1;31m# Simulation bootstrap\u001b[0m\u001b[1;33m\u001b[0m\u001b[1;33m\u001b[0m\u001b[1;33m\u001b[0m\u001b[0m\n",
      "\u001b[1;32m<ipython-input-4-6971eb2fdb93>\u001b[0m in \u001b[0;36mgenerate_simulation_brownian\u001b[1;34m()\u001b[0m\n\u001b[0;32m      6\u001b[0m         \u001b[0mweight\u001b[0m \u001b[1;33m=\u001b[0m \u001b[1;36m1\u001b[0m\u001b[1;33m/\u001b[0m\u001b[1;36m30\u001b[0m\u001b[1;33m\u001b[0m\u001b[1;33m\u001b[0m\u001b[0m\n\u001b[0;32m      7\u001b[0m         \u001b[0mhistorical_prices\u001b[0m \u001b[1;33m=\u001b[0m \u001b[0mlist\u001b[0m\u001b[1;33m(\u001b[0m\u001b[1;33m)\u001b[0m\u001b[1;33m\u001b[0m\u001b[1;33m\u001b[0m\u001b[0m\n\u001b[1;32m----> 8\u001b[1;33m         \u001b[0mhistorical_prices\u001b[0m\u001b[1;33m.\u001b[0m\u001b[0mappend\u001b[0m\u001b[1;33m(\u001b[0m\u001b[1;33m[\u001b[0m\u001b[1;33m(\u001b[0m\u001b[0mticker\u001b[0m\u001b[1;33m,\u001b[0m \u001b[0madj_close\u001b[0m\u001b[1;33m[\u001b[0m\u001b[0mticker\u001b[0m\u001b[1;33m]\u001b[0m\u001b[1;33m[\u001b[0m\u001b[1;33m-\u001b[0m\u001b[1;36m1\u001b[0m\u001b[1;33m]\u001b[0m\u001b[1;33m)\u001b[0m \u001b[1;32mfor\u001b[0m \u001b[0mticker\u001b[0m \u001b[1;32min\u001b[0m \u001b[0mdow30_clean\u001b[0m\u001b[1;33m]\u001b[0m\u001b[1;33m)\u001b[0m\u001b[1;33m\u001b[0m\u001b[1;33m\u001b[0m\u001b[0m\n\u001b[0m\u001b[0;32m      9\u001b[0m         \u001b[0mhistorical_values\u001b[0m \u001b[1;33m=\u001b[0m \u001b[0mlist\u001b[0m\u001b[1;33m(\u001b[0m\u001b[1;33m)\u001b[0m\u001b[1;33m\u001b[0m\u001b[1;33m\u001b[0m\u001b[0m\n\u001b[0;32m     10\u001b[0m         \u001b[0mhistorical_values\u001b[0m\u001b[1;33m.\u001b[0m\u001b[0mappend\u001b[0m\u001b[1;33m(\u001b[0m\u001b[1;36m1\u001b[0m\u001b[1;33m)\u001b[0m\u001b[1;33m\u001b[0m\u001b[1;33m\u001b[0m\u001b[0m\n",
      "\u001b[1;32m<ipython-input-4-6971eb2fdb93>\u001b[0m in \u001b[0;36m<listcomp>\u001b[1;34m(.0)\u001b[0m\n\u001b[0;32m      6\u001b[0m         \u001b[0mweight\u001b[0m \u001b[1;33m=\u001b[0m \u001b[1;36m1\u001b[0m\u001b[1;33m/\u001b[0m\u001b[1;36m30\u001b[0m\u001b[1;33m\u001b[0m\u001b[1;33m\u001b[0m\u001b[0m\n\u001b[0;32m      7\u001b[0m         \u001b[0mhistorical_prices\u001b[0m \u001b[1;33m=\u001b[0m \u001b[0mlist\u001b[0m\u001b[1;33m(\u001b[0m\u001b[1;33m)\u001b[0m\u001b[1;33m\u001b[0m\u001b[1;33m\u001b[0m\u001b[0m\n\u001b[1;32m----> 8\u001b[1;33m         \u001b[0mhistorical_prices\u001b[0m\u001b[1;33m.\u001b[0m\u001b[0mappend\u001b[0m\u001b[1;33m(\u001b[0m\u001b[1;33m[\u001b[0m\u001b[1;33m(\u001b[0m\u001b[0mticker\u001b[0m\u001b[1;33m,\u001b[0m \u001b[0madj_close\u001b[0m\u001b[1;33m[\u001b[0m\u001b[0mticker\u001b[0m\u001b[1;33m]\u001b[0m\u001b[1;33m[\u001b[0m\u001b[1;33m-\u001b[0m\u001b[1;36m1\u001b[0m\u001b[1;33m]\u001b[0m\u001b[1;33m)\u001b[0m \u001b[1;32mfor\u001b[0m \u001b[0mticker\u001b[0m \u001b[1;32min\u001b[0m \u001b[0mdow30_clean\u001b[0m\u001b[1;33m]\u001b[0m\u001b[1;33m)\u001b[0m\u001b[1;33m\u001b[0m\u001b[1;33m\u001b[0m\u001b[0m\n\u001b[0m\u001b[0;32m      9\u001b[0m         \u001b[0mhistorical_values\u001b[0m \u001b[1;33m=\u001b[0m \u001b[0mlist\u001b[0m\u001b[1;33m(\u001b[0m\u001b[1;33m)\u001b[0m\u001b[1;33m\u001b[0m\u001b[1;33m\u001b[0m\u001b[0m\n\u001b[0;32m     10\u001b[0m         \u001b[0mhistorical_values\u001b[0m\u001b[1;33m.\u001b[0m\u001b[0mappend\u001b[0m\u001b[1;33m(\u001b[0m\u001b[1;36m1\u001b[0m\u001b[1;33m)\u001b[0m\u001b[1;33m\u001b[0m\u001b[1;33m\u001b[0m\u001b[0m\n",
      "\u001b[1;31mNameError\u001b[0m: name 'adj_close' is not defined"
     ]
    }
   ],
   "source": []
  },
  {
   "cell_type": "code",
   "execution_count": null,
   "metadata": {},
   "outputs": [],
   "source": []
  }
 ],
 "metadata": {
  "kernelspec": {
   "display_name": "Python 3",
   "language": "python",
   "name": "python3"
  },
  "language_info": {
   "codemirror_mode": {
    "name": "ipython",
    "version": 3
   },
   "file_extension": ".py",
   "mimetype": "text/x-python",
   "name": "python",
   "nbconvert_exporter": "python",
   "pygments_lexer": "ipython3",
   "version": "3.7.4"
  }
 },
 "nbformat": 4,
 "nbformat_minor": 2
}
