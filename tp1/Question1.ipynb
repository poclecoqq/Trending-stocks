{
 "cells": [
  {
   "cell_type": "markdown",
   "metadata": {},
   "source": [
    "Question 1"
   ]
  },
  {
   "cell_type": "code",
   "execution_count": null,
   "metadata": {},
   "outputs": [],
   "source": [
    "import pandas as pd  \n",
    "import numpy as np\n",
    "from pandas_datareader import data, wb\n",
    "import datetime\n",
    "import scipy.optimize as sco\n",
    "from scipy import stats\n",
    "\n",
    "import matplotlib.pyplot as plt\n",
    "\n",
    "%matplotlib inline"
   ]
  },
  {
   "cell_type": "markdown",
   "metadata": {},
   "source": [
    "I.\tFournir une analyse descriptive de l’indice et de ses composantes"
   ]
  },
  {
   "cell_type": "markdown",
   "metadata": {},
   "source": [
    "a. Calculer les rendements quotidiens en prenant le prix de base ajusté pour les dividendes "
   ]
  },
  {
   "cell_type": "code",
   "execution_count": null,
   "metadata": {},
   "outputs": [],
   "source": [
    "tickers = ['AXP', 'AAPL', 'BA', 'CAT', 'CSCO', 'CVX', 'DD', 'XOM',\n",
    "         'GE', 'GS', 'HD', 'IBM', 'INTC', 'JNJ', 'KO', 'JPM',\n",
    "         'MCD', 'MMM', 'MRK', 'MSFT', 'NKE', 'PFE', 'PG',\n",
    "         'TRV', 'UNH', 'UTX', 'VZ', 'V', 'WMT', 'DIS']\n",
    "start = datetime.datetime(2010, 1, 1)\n",
    "end = datetime.datetime(2018, 12, 31)\n",
    "\n",
    "df = pd.DataFrame([data.DataReader(ticker, 'yahoo', start, end)['Adj Close'] for ticker in tickers]).T\n",
    "df.columns = tickers"
   ]
  },
  {
   "cell_type": "markdown",
   "metadata": {},
   "source": [
    "II.\tTrouver le portefeuille à variance minimale\n",
    "a.\tSomme des poids = 1\n",
    "b.\tPoids ≥ 0"
   ]
  },
  {
   "cell_type": "code",
   "execution_count": null,
   "metadata": {},
   "outputs": [],
   "source": [
    "def calc_portfolio_perf(weights, mean_returns, cov, rf):\n",
    "    portfolio_return = np.sum(mean_returns * weights) * 252\n",
    "    portfolio_std = np.sqrt(np.dot(weights.T, np.dot(cov, weights))) * np.sqrt(252)\n",
    "    sharpe_ratio = (portfolio_return - rf) / portfolio_std\n",
    "    return portfolio_return, portfolio_std, sharpe_ratio\n",
    "\n",
    "def simulate_random_portfolios(num_portfolios, mean_returns, cov, rf):\n",
    "    results_matrix = np.zeros((len(mean_returns)+3, num_portfolios))\n",
    "    for i in range(num_portfolios):\n",
    "        weights = np.random.random(len(mean_returns))\n",
    "        weights /= np.sum(weights)\n",
    "        portfolio_return, portfolio_std, sharpe_ratio = calc_portfolio_perf(weights, mean_returns, cov, rf)\n",
    "        results_matrix[0,i] = portfolio_return\n",
    "        results_matrix[1,i] = portfolio_std\n",
    "        results_matrix[2,i] = sharpe_ratio\n",
    "        #iterate through the weight vector and add data to results array\n",
    "        for j in range(len(weights)):\n",
    "            results_matrix[j+3,i] = weights[j]\n",
    "            \n",
    "    results_df = pd.DataFrame(results_matrix.T,columns=['ret','stdev','sharpe'] + [ticker for ticker in tickers])\n",
    "        \n",
    "    return results_df"
   ]
  },
  {
   "cell_type": "code",
   "execution_count": null,
   "metadata": {},
   "outputs": [],
   "source": [
    "mean_returns = df.pct_change().mean()\n",
    "cov = df.pct_change().cov()\n",
    "num_portfolios = 10000\n",
    "rf = 0.0\n",
    "\n",
    "results_frame = simulate_random_portfolios(num_portfolios, mean_returns, cov, rf)"
   ]
  },
  {
   "cell_type": "markdown",
   "metadata": {},
   "source": [
    "III.Trouver le portefeuille à variance minimale avec les contraintes additionnelles\n",
    "a.\tPoids minimum = .02 ou 2 %\n",
    "b.\tPoids maximum = .20 ou 20 %"
   ]
  },
  {
   "cell_type": "code",
   "execution_count": null,
   "metadata": {},
   "outputs": [],
   "source": []
  },
  {
   "cell_type": "markdown",
   "metadata": {},
   "source": [
    "IV.\tTracer la frontière efficiente\n",
    "a.\t10 portefeuilles\n",
    "i.\tRendement min. = Portefeuille à variance minimal\n",
    "ii.\tRendement max. = 90 % du rendement"
   ]
  },
  {
   "cell_type": "code",
   "execution_count": null,
   "metadata": {},
   "outputs": [],
   "source": [
    "#locate position of portfolio with highest Sharpe Ratio\n",
    "max_sharpe_port = results_frame.iloc[results_frame['sharpe'].idxmax()]\n",
    "#locate positon of portfolio with minimum standard deviation\n",
    "min_vol_port = results_frame.iloc[results_frame['stdev'].idxmin()]\n",
    "#create scatter plot coloured by Sharpe Ratio\n",
    "plt.subplots(figsize=(15,10))\n",
    "plt.scatter(results_frame.stdev,results_frame.ret,c=results_frame.sharpe,cmap='RdYlBu')\n",
    "plt.xlabel('Standard Deviation')\n",
    "plt.ylabel('Returns')\n",
    "plt.colorbar()\n",
    "#plot red star to highlight position of portfolio with highest Sharpe Ratio\n",
    "plt.scatter(max_sharpe_port[1],max_sharpe_port[0],marker=(5,1,0),color='r',s=500)\n",
    "#plot green star to highlight position of minimum variance portfolio\n",
    "plt.scatter(min_vol_port[1],min_vol_port[0],marker=(5,1,0),color='g',s=500)\n",
    "plt.show()"
   ]
  },
  {
   "cell_type": "code",
   "execution_count": null,
   "metadata": {},
   "outputs": [],
   "source": [
    "def calc_portfolio_std(weights, mean_returns, cov):\n",
    "    portfolio_std = np.sqrt(np.dot(weights.T, np.dot(cov, weights))) * np.sqrt(252)\n",
    "    return portfolio_std\n",
    "\n",
    "def min_variance(mean_returns, cov, bou):\n",
    "    num_assets = len(mean_returns)\n",
    "    args = (mean_returns, cov)\n",
    "    constraints = ({'type': 'eq', 'fun': lambda x: np.sum(x) - 1})\n",
    "    bound = bou\n",
    "    bounds = tuple(bound for asset in range(num_assets))\n",
    "    result = sco.minimize(calc_portfolio_std, num_assets*[1./num_assets,], args=args,\n",
    "                        method='SLSQP', bounds=bounds, constraints=constraints)\n",
    "    return result\n",
    "\n",
    "min_port_variance = min_variance(mean_returns, cov, (0.0,1.0))"
   ]
  },
  {
   "cell_type": "code",
   "execution_count": null,
   "metadata": {},
   "outputs": [],
   "source": [
    "pd.DataFrame([round(x,2) for x in min_port_variance['x']],index=tickers).T"
   ]
  },
  {
   "cell_type": "code",
   "execution_count": null,
   "metadata": {},
   "outputs": [],
   "source": [
    "min_port_variance = min_variance(mean_returns, cov, (0.02,0.2))\n",
    "pd.DataFrame([round(x,2) for x in min_port_variance['x']],index=tickers).T"
   ]
  }
 ],
 "metadata": {
  "kernelspec": {
   "display_name": "Python 3",
   "language": "python",
   "name": "python3"
  },
  "language_info": {
   "codemirror_mode": {
    "name": "ipython",
    "version": 3
   },
   "file_extension": ".py",
   "mimetype": "text/x-python",
   "name": "python",
   "nbconvert_exporter": "python",
   "pygments_lexer": "ipython3",
   "version": "3.7.4"
  }
 },
 "nbformat": 4,
 "nbformat_minor": 2
}
