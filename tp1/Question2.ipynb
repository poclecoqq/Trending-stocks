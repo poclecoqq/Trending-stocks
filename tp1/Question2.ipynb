{
 "cells": [
  {
   "cell_type": "code",
   "execution_count": 1,
   "metadata": {},
   "outputs": [],
   "source": [
    "\n",
    "# Download Data from Yahoo Finance\n",
    "import datetime as dt\n",
    "import matplotlib.pyplot as plt\n",
    "import pandas as pd\n",
    "import numpy as np\n",
    "# Pour lire les données de Yahoo Finance, vous devez installer le toolbox yfinance\n",
    "import yfinance as yf \n",
    "\n",
    "def get_dow():\n",
    "    start_sp = dt.datetime(2004,12,31)\n",
    "    end_sp = dt.datetime(2019, 12,31)\n",
    "\n",
    "    # Dow Jones index\n",
    "    # 1st Dow Jones Index + 30 components\n",
    "    dow30 = ['^DJI','AXP', 'AAPL', 'BA', 'CAT', 'CSCO', 'CVX', 'DD', 'XOM',\n",
    "            'GE', 'GS', 'HD', 'IBM', 'INTC', 'JNJ', 'KO', 'JPM',\n",
    "            'MCD', 'MMM', 'MRK', 'MSFT', 'NKE', 'PFE', 'PG',\n",
    "            'TRV', 'UNH', 'UTX', 'VZ', 'V', 'WMT', 'DIS']\n",
    "\n",
    "    dow_data = yf.download(dow30, start=start_sp, end=end_sp,group_by=\"ticker\")\n",
    "\n",
    "    return dow_data.transpose()"
   ]
  },
  {
   "cell_type": "code",
   "execution_count": 2,
   "metadata": {},
   "outputs": [],
   "source": [
    "#TODO: ne pas ignorer tout les erreurs\n",
    "def calculate_fivedays_roi(stock_price, date):\n",
    "    roi = None\n",
    "    try:\n",
    "        past_date = date - np.timedelta64(5, \"D\")\n",
    "        current_value = stock_price.loc[date]\n",
    "        past_value = stock_price.loc[past_date]\n",
    "        roi = (current_value - past_value)/past_value * 100        \n",
    "    except KeyError:\n",
    "        pass        \n",
    "    return roi\n",
    "\n",
    "# Calculate roi over a period of time\n",
    "def get_rois(stock_prices, ticker, start_date, end_date):\n",
    "    rois = []\n",
    "    dates = []\n",
    "    company_stock_price = stock_prices.loc[(ticker, \"Close\")]\n",
    "\n",
    "    # calculate de ROI over the last 250 days\n",
    "    curr_date = start_date\n",
    "    while(curr_date < end_date):\n",
    "        roi = calculate_fivedays_roi(company_stock_price, curr_date)\n",
    "        if roi:\n",
    "            rois.append(roi)\n",
    "            dates.append(curr_date)\n",
    "        curr_date = curr_date + np.timedelta64(1, \"D\")                \n",
    "\n",
    "    return pd.Series(rois,index=dates)\n",
    "\n",
    "# Calculate roi for a bunch of campanies\n",
    "def get_companies_rois(stock_prices, start_date, end_date):\n",
    "    tickers = stock_prices.index.get_level_values(0).unique().array\n",
    "            \n",
    "    result = pd.DataFrame()\n",
    "    for ticker in tickers:             \n",
    "        result[ticker] = get_rois(stock_prices, ticker, start_date, end_date)\n",
    "    \n",
    "    return result\n",
    "    \n",
    "def calculate_mean_roi(rois):\n",
    "    rois[\"Mean\"] = rois.mean(axis=1)\n",
    "    return rois"
   ]
  },
  {
   "cell_type": "code",
   "execution_count": 12,
   "metadata": {},
   "outputs": [],
   "source": [
    "def calculate_var(stock_prices):\n",
    "    period = 250\n",
    "    five_percent = int(period * 0.05)\n",
    "    # [min date + 5, higher date] (we need 5 days buffer to calculate roi)\n",
    "    start_date = dow_prices.columns.array.min() + np.timedelta64( 5, \"D\")\n",
    "    end_date = dow_prices.columns.array.max()\n",
    "    rois = get_companies_rois(stock_prices, start_date, end_date)\n",
    "    rois = calculate_mean_roi(rois)\n",
    "    \n",
    "    var_array = []\n",
    "    dates = []\n",
    "    curr_date = start_date + np.timedelta64( 250, \"D\")\n",
    "    while(curr_date < end_date):\n",
    "        period_end = curr_date\n",
    "        period_begin = period_end - np.timedelta64(period, \"D\")\n",
    "        var = rois.loc[period_begin:period_end][\"Mean\"].nsmallest(five_percent)[five_percent-1]\n",
    "        var_array.append(var)\n",
    "        dates.append(curr_date)\n",
    "        curr_date = curr_date + np.timedelta64(1, \"D\")\n",
    "    return pd.Series(var_array, index=dates).apply(lambda x : abs(x))\n",
    "\n",
    "def plot_var(var_values):\n",
    "    plt.plot(var_values.index, var_values )\n",
    "    plt.xlabel('VaR')\n",
    "    plt.ylabel('Time')\n",
    "    plt.title('Historic VaR over time')\n",
    "    plt.show()"
   ]
  },
  {
   "cell_type": "code",
   "execution_count": 7,
   "metadata": {},
   "outputs": [
    {
     "name": "stdout",
     "output_type": "stream",
     "text": [
      "[*********************100%***********************]  31 of 31 completed\n"
     ]
    },
    {
     "data": {
      "text/plain": [
       "2005-09-12    1.155905\n",
       "2005-09-13    0.990765\n",
       "2005-09-14    1.155905\n",
       "2005-09-15    1.155905\n",
       "2005-09-16    1.155905\n",
       "                ...   \n",
       "2019-12-26    1.321382\n",
       "2019-12-27    1.321382\n",
       "2019-12-28    1.321382\n",
       "2019-12-29    1.321382\n",
       "2019-12-30    1.321382\n",
       "Length: 5223, dtype: float64"
      ]
     },
     "execution_count": 7,
     "metadata": {},
     "output_type": "execute_result"
    }
   ],
   "source": [
    "dow_prices = get_dow()\n",
    "var_array = calculate_var(dow_prices)\n",
    "plot_var(var_array)"
   ]
  },
  {
   "cell_type": "code",
   "execution_count": null,
   "metadata": {},
   "outputs": [],
   "source": []
  },
  {
   "cell_type": "code",
   "execution_count": null,
   "metadata": {},
   "outputs": [],
   "source": []
  },
  {
   "cell_type": "code",
   "execution_count": null,
   "metadata": {},
   "outputs": [],
   "source": []
  }
 ],
 "metadata": {
  "kernelspec": {
   "display_name": "Python 3",
   "language": "python",
   "name": "python3"
  },
  "language_info": {
   "codemirror_mode": {
    "name": "ipython",
    "version": 3
   },
   "file_extension": ".py",
   "mimetype": "text/x-python",
   "name": "python",
   "nbconvert_exporter": "python",
   "pygments_lexer": "ipython3",
   "version": "3.7.6"
  }
 },
 "nbformat": 4,
 "nbformat_minor": 4
}
