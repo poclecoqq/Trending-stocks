{
 "cells": [
  {
   "cell_type": "code",
   "execution_count": 9,
   "metadata": {},
   "outputs": [],
   "source": [
    "import pandas as pd  \n",
    "import numpy as np\n",
    "from pandas_datareader import data, wb\n",
    "import datetime\n",
    "import scipy.optimize as sco\n",
    "from scipy import stats\n",
    "\n",
    "import matplotlib.pyplot as plt\n",
    "\n",
    "%matplotlib inline"
   ]
  },
  {
   "cell_type": "code",
   "execution_count": null,
   "metadata": {},
   "outputs": [],
   "source": [
    "tickers = ['AXP', 'AAPL', 'BA', 'CAT', 'CSCO', 'CVX', 'DD', 'XOM',\n",
    "         'GE', 'GS', 'HD', 'IBM', 'INTC', 'JNJ', 'KO', 'JPM',\n",
    "         'MCD', 'MMM', 'MRK', 'MSFT', 'NKE', 'PFE', 'PG',\n",
    "         'TRV', 'UNH', 'UTX', 'VZ', 'V', 'WMT', 'DIS']\n",
    "start = datetime.datetime(2010, 1, 1)\n",
    "end = datetime.datetime(2018, 12, 31)\n",
    "\n",
    "df = pd.DataFrame([data.DataReader(ticker, 'yahoo', start, end)['Adj Close'] for ticker in tickers]).T\n",
    "df.columns = tickers"
   ]
  },
  {
   "cell_type": "code",
   "execution_count": null,
   "metadata": {},
   "outputs": [],
   "source": [
    "df"
   ]
  },
  {
   "cell_type": "code",
   "execution_count": null,
   "metadata": {},
   "outputs": [],
   "source": [
    "returns = df.pct_change()"
   ]
  },
  {
   "cell_type": "code",
   "execution_count": null,
   "metadata": {},
   "outputs": [],
   "source": [
    "returns"
   ]
  },
  {
   "cell_type": "code",
   "execution_count": null,
   "metadata": {},
   "outputs": [],
   "source": [
    "RendementMoyen = np.mean(returns, axis = 1)"
   ]
  },
  {
   "cell_type": "code",
   "execution_count": null,
   "metadata": {},
   "outputs": [],
   "source": [
    "RendementMoyen"
   ]
  },
  {
   "cell_type": "code",
   "execution_count": null,
   "metadata": {},
   "outputs": [],
   "source": [
    "rendement = np.mean(df, axis = 1)"
   ]
  },
  {
   "cell_type": "code",
   "execution_count": null,
   "metadata": {},
   "outputs": [],
   "source": [
    "rendement"
   ]
  },
  {
   "cell_type": "markdown",
   "metadata": {},
   "source": [
    "# Mouvement Brownien"
   ]
  },
  {
   "cell_type": "code",
   "execution_count": null,
   "metadata": {},
   "outputs": [],
   "source": [
    "#Selon le cours\n",
    "# ppt session 2\n",
    "def GBM(So, mu, sigma, W, T, N):\n",
    "    t = np.linspace(0.,1., N+1)\n",
    "    S = []\n",
    "    S.append(So)\n",
    "    for i in range(N+1):\n",
    "        drift = (mu - 0.5 * sigma**2) * t[i]\n",
    "        diffusion = sigma * W[i-1]\n",
    "        S_temp = So*np.exp(diffusion+drift)\n",
    "        S.append(S_temp)\n",
    "    return S, t\n"
   ]
  },
  {
   "cell_type": "code",
   "execution_count": null,
   "metadata": {},
   "outputs": [],
   "source": [
    "from math import sqrt\n",
    "from scipy.stats import norm\n",
    "import numpy as np\n",
    "#utilisation de : https://scipy-cookbook.readthedocs.io/items/BrownianMotion.html\n",
    "def brownian(x0, n, dt, delta, out=None):\n",
    "\n",
    "    x0 = np.asarray(x0)\n",
    "\n",
    "    # For each element of x0, generate a sample of n numbers from a\n",
    "    # normal distribution.\n",
    "    r = norm.rvs(size=x0.shape + (n,), scale=delta*sqrt(dt))\n",
    "\n",
    "    # If `out` was not given, create an output array.\n",
    "    if out is None:\n",
    "        out = np.empty(r.shape)\n",
    "\n",
    "    # This computes the Brownian motion by forming the cumulative sum of\n",
    "    # the random samples. \n",
    "    np.cumsum(r, axis=-1, out=out)\n",
    "\n",
    "    # Add the initial condition.\n",
    "    out += np.expand_dims(x0, axis=-1)\n",
    "\n",
    "    return out"
   ]
  },
  {
   "cell_type": "code",
   "execution_count": null,
   "metadata": {},
   "outputs": [],
   "source": [
    "from scipy.stats import norm\n",
    "\n"
   ]
  },
  {
   "cell_type": "code",
   "execution_count": null,
   "metadata": {},
   "outputs": [],
   "source": [
    "def generate_courbe_brownian():\n",
    "    x0 = RendementMoyen[1]\n",
    "    T = 1\n",
    "    N = 30\n",
    "    dt = T/N\n",
    "    delta = 1\n",
    "    \n",
    "    W = brownian(x0, N, dt, delta)\n",
    "    \n",
    "    So = RendementMoyen[1]\n",
    "    \n",
    "    mu = np.mean(RendementMoyen)\n",
    "    \n",
    "    sigma = np.std(RendementMoyen)\n",
    "    \n",
    "    S = GBM(So, mu, sigma, W, T, N)\n",
    "    \n",
    "    plt.plot(S[0])\n",
    "    plt.show()\n",
    "\n",
    "        \n",
    "    return"
   ]
  },
  {
   "cell_type": "code",
   "execution_count": null,
   "metadata": {},
   "outputs": [],
   "source": [
    "def generate_5_simulation_brownien():\n",
    "    for i in range(5):\n",
    "        generate_courbe_brownian()\n",
    "    "
   ]
  },
  {
   "cell_type": "code",
   "execution_count": null,
   "metadata": {},
   "outputs": [],
   "source": [
    "generate_5_simulation_brownien()"
   ]
  },
  {
   "cell_type": "markdown",
   "metadata": {},
   "source": [
    "# Bootstrap"
   ]
  },
  {
   "cell_type": "code",
   "execution_count": null,
   "metadata": {},
   "outputs": [],
   "source": [
    "import math\n",
    "from random import randint\n"
   ]
  },
  {
   "cell_type": "code",
   "execution_count": null,
   "metadata": {},
   "outputs": [],
   "source": [
    "def Bootstrap():\n",
    "    valeur = []\n",
    "    random_index_tricker = randint(0, 30)\n",
    "    ticker = tickers[random_index_tricker]\n",
    "    for i in range(30):\n",
    "        random_index = randint(0, 2260)\n",
    "        So = RendementMoyen[1]\n",
    "        valeurAleatoire = RendementMoyen[random_index]\n",
    "        valeur.append(So + So*(valeurAleatoire))\n",
    "    plt.plot(valeur)\n",
    "    plt.show()"
   ]
  },
  {
   "cell_type": "code",
   "execution_count": null,
   "metadata": {},
   "outputs": [],
   "source": [
    "def generate_5_simulation():\n",
    "    for i in range(5):\n",
    "        Bootstrap()\n",
    "        "
   ]
  },
  {
   "cell_type": "code",
   "execution_count": null,
   "metadata": {},
   "outputs": [],
   "source": [
    "generate_5_simulation()"
   ]
  }
 ],
 "metadata": {
  "kernelspec": {
   "display_name": "Python 3",
   "language": "python",
   "name": "python3"
  },
  "language_info": {
   "codemirror_mode": {
    "name": "ipython",
    "version": 3
   },
   "file_extension": ".py",
   "mimetype": "text/x-python",
   "name": "python",
   "nbconvert_exporter": "python",
   "pygments_lexer": "ipython3",
   "version": "3.7.4"
  }
 },
 "nbformat": 4,
 "nbformat_minor": 2
}
