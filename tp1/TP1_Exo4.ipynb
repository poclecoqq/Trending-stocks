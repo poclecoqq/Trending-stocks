{
 "cells": [
  {
<<<<<<< HEAD
   "cell_type": "markdown",
   "metadata": {},
   "source": [
    "# Question 4"
   ]
  },
  {
   "cell_type": "code",
   "execution_count": 2,
=======
   "cell_type": "code",
   "execution_count": 500,
>>>>>>> 3d0f32cc9e96062faba4cf3178b723a2bdf39148
   "metadata": {},
   "outputs": [
    {
     "name": "stdout",
     "output_type": "stream",
     "text": [
      "[*********************100%***********************]  31 of 31 completed\n"
     ]
    }
   ],
   "source": [
    "# Download Data from Yahoo Finance\n",
    "import datetime\n",
    "import matplotlib.pyplot as plt\n",
    "import pandas as pd\n",
    "from pandas_datareader import data as pdr\n",
    "\n",
    "# Pour lire les données de Yahoo Finance, vous devez installer le toolbox yfinance\n",
    "import yfinance as yf\n",
    "\n",
    "yf.pdr_override()\n",
    "start_sp = datetime.datetime(2004, 12, 31)\n",
    "end_sp = datetime.datetime(2019, 12, 31)\n",
    "\n",
    "# Dow Jones index\n",
    "# 1st Dow Jones Index + 30 components\n",
    "dow30 = ['^DJI', 'AXP', 'AAPL', 'BA', 'CAT', 'CSCO', 'CVX', 'DD', 'XOM',\n",
    "         'GE', 'GS', 'HD', 'IBM', 'INTC', 'JNJ', 'KO', 'JPM',\n",
    "         'MCD', 'MMM', 'MRK', 'MSFT', 'NKE', 'PFE', 'PG',\n",
    "             'TRV', 'UNH', 'UTX', 'VZ', 'V', 'WMT', 'DIS']\n",
    "Dow_data = pdr.get_data_yahoo(dow30,start_sp,end_sp)\n",
    "Dow_data.index\n",
    "adj_close = Dow_data['Adj Close']\n"
   ]
  },
  {
   "cell_type": "code",
<<<<<<< HEAD
   "execution_count": 3,
=======
   "execution_count": 504,
>>>>>>> 3d0f32cc9e96062faba4cf3178b723a2bdf39148
   "metadata": {},
   "outputs": [],
   "source": [
    "daily_return = adj_close.pct_change(1) # Calcul des rendements quotidiens"
   ]
  },
  {
   "cell_type": "code",
   "execution_count": 505,
   "metadata": {},
   "outputs": [],
   "source": [
    "# On enleve de Dow Jones de daily return\n",
    "DJI = daily_return['^DJI']\n",
    "daily_return=daily_return.drop(['^DJI'], axis=1)"
   ]
  },
  {
   "cell_type": "code",
   "execution_count": 506,
   "metadata": {},
   "outputs": [],
   "source": [
    "from sklearn.linear_model import Ridge\n",
    "\n",
    "X = daily_return.loc['2008-12-31':]\n",
    "Y = DJI.loc['2008-12-31':]\n",
    "Dates = Y.index.tolist()"
   ]
  },
  {
<<<<<<< HEAD
   "cell_type": "markdown",
   "metadata": {},
   "source": [
    "# i) Replication par un modele de ridge regression"
   ]
  },
  {
=======
>>>>>>> 3d0f32cc9e96062faba4cf3178b723a2bdf39148
   "cell_type": "code",
   "execution_count": 507,
   "metadata": {},
   "outputs": [
    {
     "name": "stdout",
     "output_type": "stream",
     "text": [
      "ridge regression score: 0.9844368819717042\n",
      "[0.02173318 0.01625467 0.06727502 0.04649959 0.0123995  0.04621145\n",
      " 0.00969808 0.03908576 0.0048947  0.02271378 0.03790733 0.07117494\n",
      " 0.01736112 0.05518219 0.02513323 0.0213811  0.04388872 0.0589105\n",
      " 0.02403339 0.03503416 0.01766481 0.02204356 0.0370909  0.03592394\n",
      " 0.023805   0.05259783 0.02266548 0.01971312 0.03381539 0.04203395]\n"
     ]
    }
   ],
   "source": [
    "#Application du Ridge Regression\n",
    "rr = Ridge(alpha=0.005)\n",
    "rr.fit(X,Y)\n",
    "Ridge_score = rr.score(X,Y)\n",
    "print (\"ridge regression score:\", Ridge_score)\n",
    "print (rr.coef_)"
   ]
  },
  {
   "cell_type": "code",
   "execution_count": 508,
   "metadata": {},
   "outputs": [
    {
     "data": {
      "image/png": "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\n",
      "text/plain": [
       "<Figure size 432x288 with 1 Axes>"
      ]
     },
     "metadata": {
      "needs_background": "light"
     },
     "output_type": "display_data"
    }
   ],
   "source": [
    "prediction=rr.predict(X)\n",
    "plt.scatter(Dates, Y, color='yellow', label= 'DJI Yield') #graphique initial\n",
    "plt.plot(Dates, prediction, color='red', linewidth=3, label = 'Predicted Yield') #graphique avec la ridge regression\n",
    "plt.title('Prediction by Ridge Regression')\n",
    "plt.legend()\n",
    "plt.xlabel('Date')\n",
    "plt.show()"
   ]
  },
  {
<<<<<<< HEAD
   "cell_type": "markdown",
   "metadata": {},
   "source": [
    "# ii) Replication par un modele de regression avec contraintes"
   ]
  },
  {
=======
>>>>>>> 3d0f32cc9e96062faba4cf3178b723a2bdf39148
   "cell_type": "code",
   "execution_count": 509,
   "metadata": {},
   "outputs": [],
   "source": [
    "# Optimisation sous contraintes en minimisant la variance\n",
    "from scipy.optimize import minimize\n",
    "cov = daily_return.cov()\n",
    "def objectif(coef):\n",
    "    return 0.5*np.dot(coef.T, np.dot(cov, coef))"
   ]
  },
  {
   "cell_type": "code",
   "execution_count": 510,
   "metadata": {},
   "outputs": [
    {
     "name": "stdout",
     "output_type": "stream",
     "text": [
      "[0.02225756 0.01673156 0.06778957 0.04699106 0.0129168  0.04673105\n",
      " 0.01018871 0.03960526 0.00540875 0.02319138 0.0384353  0.07172153\n",
      " 0.01787861 0.05575846 0.0255988  0.02195886 0.04446163 0.05944722\n",
      " 0.02458542 0.03556023 0.01820106 0.02259715 0.03766722 0.03644625\n",
      " 0.02433441 0.05312259 0.02317987 0.02027663 0.03439279 0.04256428]\n"
     ]
    }
   ],
   "source": [
    "# Ajouter les differentes contraintes \n",
    "from scipy.optimize import Bounds\n",
    "\n",
    "cons = ({'type': 'eq', 'fun': lambda x:  np.sum(x)-1.0})\n",
    "\n",
    "bounds = [(0,0.2) for x in range(daily_return.shape[1])]\n",
    "\n",
    "# Fonction de minimisation\n",
    "res = minimize(objectif, rr.coef_, method='SLSQP', constraints = cons, bounds = bounds)\n",
    "coef = res.x\n",
    "print(coef)"
   ]
  },
  {
<<<<<<< HEAD
   "cell_type": "markdown",
   "metadata": {},
   "source": [
    "# Comparaison des deux modeles de regression appliquee a la replication d'indices"
   ]
  },
  {
=======
>>>>>>> 3d0f32cc9e96062faba4cf3178b723a2bdf39148
   "cell_type": "code",
   "execution_count": 511,
   "metadata": {},
   "outputs": [],
   "source": [
    "#Calcul du coefficient de determination du modele regression sous contraintes\n",
    "predict = np.dot(X,coef)\n",
    "residu = Y - predict\n",
    "SSE = np.dot(residu.T,residu)\n",
    "erreur = Y - Y.mean()\n",
    "SST = np.dot(erreur.T,erreur)\n",
    "r2_reg_contr = 1 - SSE/SST"
   ]
  },
  {
   "cell_type": "code",
   "execution_count": 512,
   "metadata": {},
   "outputs": [
    {
     "name": "stdout",
     "output_type": "stream",
     "text": [
      "0.9844368819717042\n",
      "0.9838034649215592\n"
     ]
    }
   ],
   "source": [
    "#Comparison entre les deux modeles \n",
    "print(rr.score(X,Y))\n",
    "print(r2_reg_contr)"
   ]
  },
  {
<<<<<<< HEAD
   "cell_type": "markdown",
   "metadata": {},
   "source": [
    "Le modele de ridge regression a un coefficient de determination plus eleve que le modele avec contraintes\n",
    "Or, en regardant les contraintes, les coefficients du ridge regression respectent les contraintes du modele \n",
    "de regression avec contraintes. Ce qui signfie que les coefficients du modele de Ridge ne sont pas au point optimal.\n",
    "Interpretation : le modele de ridge regression accorde plus d'impotance a certaines composantes par rapport a d'autres \n",
    "et gagne en termes de determination mais a une variance plus eleve que la regression avec contraintes.\n",
    "A L'inverse, le modele de regression sous contraintes essaie d'equiponderer les composantes ce qui vient reduire la variance\n",
    "mais diminue la determination.\n",
    "Globalement en observant les coefficients issus des 2 modeles, le modele de ridge accorde des poids relatifs plus faibles que\n",
    "pour le modele de regression sous contraintes\n",
    "Par exemple pour le titre DD, le modele de Ridge accorde un poids 0,0097 alors que le modele de regression sous \n",
    "contraintes 0,0102"
=======
   "cell_type": "code",
   "execution_count": null,
   "metadata": {},
   "outputs": [],
   "source": [
    "# Le modele de ridge regression a un coefficient de determination plus eleve que le modele avec contraintes\n",
    "# Or, en regardant les contraintes, les coefficients du ridge regression respectent les contraintes du modele \n",
    "# de regression avec contraintes. Ce qui signfie que les coefficients du modele de Ridge ne sont pas au point optimal.\n",
    "# Interpretation : le modele de ridge regression accorde plus d'impotance a certaines composantes par rapport a d'autres \n",
    "# et gagne en termes de determination mais a une variance plus eleve que la regression avec contraintes.\n",
    "# A L'inverse, le modele de regression sous contraintes essaie d'equiponderer les composantes ce qui fait reduire la variance\n",
    "# Mais diminue la determination.\n",
    "# Globalement en observant les coefficients issus des 2 modeles, le modele de ridge accorde des poids relatifs plus faibles que\n",
    "# pour le modele de regression sous contraintes\n",
    "# Par exemple pour le titre DD, le modele de Ridge accorde un poids 0,0097 alors que le modele de regression sous \n",
    "# contraintes 0,0102"
>>>>>>> 3d0f32cc9e96062faba4cf3178b723a2bdf39148
   ]
  }
 ],
 "metadata": {
  "kernelspec": {
   "display_name": "Python 3",
   "language": "python",
   "name": "python3"
  },
  "language_info": {
   "codemirror_mode": {
    "name": "ipython",
    "version": 3
   },
   "file_extension": ".py",
   "mimetype": "text/x-python",
   "name": "python",
   "nbconvert_exporter": "python",
   "pygments_lexer": "ipython3",
   "version": "3.7.4"
  }
 },
 "nbformat": 4,
 "nbformat_minor": 2
}
