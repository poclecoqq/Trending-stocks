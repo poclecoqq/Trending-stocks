{
 "cells": [
  {
   "cell_type": "code",
   "execution_count": 12,
   "metadata": {},
   "outputs": [
    {
     "name": "stdout",
     "output_type": "stream",
     "text": [
      "[*********************100%***********************]  31 of 31 completed\n"
     ]
    },
    {
     "data": {
      "text/plain": [
       "<matplotlib.axes._subplots.AxesSubplot at 0x11cb9b9d0>"
      ]
     },
     "execution_count": 12,
     "metadata": {},
     "output_type": "execute_result"
    },
    {
     "data": {
      "image/png": "[encoded data removed]",
      "text/plain": [
       "<Figure size 432x288 with 1 Axes>"
      ]
     },
     "metadata": {
      "needs_background": "light"
     },
     "output_type": "display_data"
    }
   ],
   "source": [
    "# Download Data from Yahoo Finance\n",
    "import datetime\n",
    "import matplotlib.pyplot as plt\n",
    "import pandas as pd\n",
    "# Pour lire les données de Yahoo Finance, vous devez installer le toolbox yfinance\n",
    "import yfinance as yf \n",
    "import numpy as np\n",
    "start_sp = datetime.datetime(2004,12,31)\n",
    "end_sp = datetime.datetime(2019, 12,31)\n",
    "\n",
    "# Dow Jones index\n",
    "# 1st Dow Jones Index + 30 components\n",
    "dow30 = ['^DJI','AXP', 'AAPL', 'BA', 'CAT', 'CSCO', 'CVX', 'DD', 'XOM',\n",
    "         'GE', 'GS', 'HD', 'IBM', 'INTC', 'JNJ', 'KO', 'JPM',\n",
    "         'MCD', 'MMM', 'MRK', 'MSFT', 'NKE', 'PFE', 'PG',\n",
    "         'TRV', 'UNH', 'UTX', 'VZ', 'V', 'WMT', 'DIS']\n",
    "\n",
    "Dow_data = yf.download(dow30, start=start_sp, end=end_sp,group_by=\"ticker\")\n",
    "\n",
    "# To access the adjusted close price, use\n",
    "Dow_data['^DJI']['Close']\n",
    "\n",
    "# Graph data\n",
    "Dow_data['^DJI']['Close'].plot(grid=True)"
   ]
  },
  {
   "cell_type": "code",
   "execution_count": 5,
   "metadata": {},
   "outputs": [],
   "source": [
    "#Question 1\n",
    "#a)\n",
    "#print(Dow_data)"
   ]
  },
  {
   "cell_type": "code",
   "execution_count": 13,
   "metadata": {},
   "outputs": [],
   "source": [
    "stocks=np.array(Dow_data)"
   ]
  },
  {
   "cell_type": "code",
   "execution_count": 24,
   "metadata": {},
   "outputs": [
    {
     "name": "stdout",
     "output_type": "stream",
     "text": [
      "[[ 0.         -2.28243505 -0.10102896 ...  0.          0.17988699\n",
      "   0.24657351]\n",
      " [ 0.         -0.67882171 -2.16333658 ... -3.93376877 -1.077232\n",
      "  -1.20246094]\n",
      " [ 0.         -0.52260761 -1.01262749 ...  0.05385822 -0.54446427\n",
      "  -0.60860329]\n",
      " ...\n",
      " [ 0.12158793 -0.34221856  0.         ... -0.16718532  0.03431919\n",
      "  -0.4452292 ]\n",
      " [-0.82369585 -0.58663047 -2.25953026 ... -0.37680899 -1.35848763\n",
      "  -0.89445777]\n",
      " [ 0.03726352  0.43177232  3.06629636 ...  0.77747875  0.59817805\n",
      "   0.72202098]]\n"
     ]
    }
   ],
   "source": [
    "i=0\n",
    "j=4\n",
    "k=0\n",
    "rendement=np.zeros((len(stocks)-1,31))\n",
    "moyenne=np.zeros((1,31))\n",
    "ecarttype=np.zeros((1,31))\n",
    "while i<len(stocks)-1:\n",
    "    while j<len(stocks[0])-1:\n",
    "        rendement[i,k]=(-stocks[i,j]+stocks[i+1,j])*100/stocks[i,j]\n",
    "        j=j+6\n",
    "        k=k+1\n",
    "    i=i+1\n",
    "    k=0\n",
    "    j=4\n",
    "rendement=np.nan_to_num(rendement, copy=True, nan=0.0, posinf=None, neginf=None)\n",
    "print(rendement)"
   ]
  },
  {
   "cell_type": "code",
   "execution_count": 52,
   "metadata": {
    "scrolled": true
   },
   "outputs": [
    {
     "data": {
      "text/plain": [
       "array([[ 5.05212077e+02, -1.72641224e+01,  1.49095574e+02,\n",
       "         1.88643167e+01,  1.57510537e+02,  1.56731630e+02,\n",
       "         1.03040042e+02, -1.98958594e+02,  1.02739991e+02,\n",
       "         9.86585639e+01, -1.09293958e+02,  1.77532927e+02,\n",
       "         1.27676725e+02, -2.93124017e+01,  1.19367154e+02],\n",
       "       [-1.72641224e+01,  2.14638384e+02,  2.28209755e+01,\n",
       "         8.56675183e+01, -8.30770579e+01, -5.79378206e+01,\n",
       "        -1.10487957e+02,  6.48602974e+01, -3.46280486e+01,\n",
       "        -3.93738106e+01, -5.51368208e+01,  7.42351704e-01,\n",
       "        -2.40569329e+01,  5.93278315e+01, -3.37832673e+01],\n",
       "       [ 1.49095574e+02,  2.28209755e+01,  2.44227652e+02,\n",
       "         1.56442148e+02, -1.30412025e+02,  1.11568782e+02,\n",
       "         6.44516451e+01, -1.16586636e+02, -7.70178296e+00,\n",
       "        -4.46141219e+01, -3.03795194e+00, -3.40537359e+01,\n",
       "        -1.66957312e+01,  6.53881728e+00,  5.09291544e+01],\n",
       "       [ 1.88643167e+01,  8.56675183e+01,  1.56442148e+02,\n",
       "         1.47603170e+03, -1.10042062e+03, -1.87004361e+02,\n",
       "         2.39504329e+02,  1.19861222e+02, -2.82550487e+02,\n",
       "         6.59993480e+01,  9.52303053e+01, -1.23338299e+02,\n",
       "         1.53412059e+02,  2.96396711e+02,  2.42031878e+01],\n",
       "       [ 1.57510537e+02, -8.30770579e+01, -1.30412025e+02,\n",
       "        -1.10042062e+03,  1.31122459e+03,  1.15059055e+02,\n",
       "        -2.00659162e+01, -1.70430459e+02,  3.14548638e+02,\n",
       "         1.19117827e+02, -1.88011882e+02,  2.84103448e+02,\n",
       "         6.29764035e+01, -1.92714740e+02,  3.64376219e+01],\n",
       "       [ 1.56731630e+02, -5.79378206e+01,  1.11568782e+02,\n",
       "        -1.87004361e+02,  1.15059055e+02,  4.23585308e+02,\n",
       "        -3.52346536e+01, -1.01121360e+02,  4.67813033e-01,\n",
       "        -7.32513783e+01, -1.51049528e+01, -8.40964113e+00,\n",
       "        -2.29725806e+01, -1.22570055e+02,  3.63493417e+01],\n",
       "       [ 1.03040042e+02, -1.10487957e+02,  6.44516451e+01,\n",
       "         2.39504329e+02, -2.00659162e+01, -3.52346536e+01,\n",
       "         3.34202101e+02, -7.92736340e+01,  1.24819258e+01,\n",
       "         1.49597283e+02,  3.30505704e+01,  9.41109096e+00,\n",
       "         1.86059186e+02,  1.03552553e+02,  5.86506498e+01],\n",
       "       [-1.98958594e+02,  6.48602974e+01, -1.16586636e+02,\n",
       "         1.19861222e+02, -1.70430459e+02, -1.01121360e+02,\n",
       "        -7.92736340e+01,  2.69754590e+02, -5.16832627e+01,\n",
       "         1.18466834e+01,  5.33067499e+01, -7.95380524e+01,\n",
       "        -8.23193792e+01,  5.55556706e+01, -5.45118098e+01],\n",
       "       [ 1.02739991e+02, -3.46280486e+01, -7.70178296e+00,\n",
       "        -2.82550487e+02,  3.14548638e+02,  4.67813033e-01,\n",
       "         1.24819258e+01, -5.16832627e+01,  1.55097461e+02,\n",
       "         5.45322953e+01, -3.40297632e+01,  1.03462504e+02,\n",
       "         5.94480599e+01, -5.53556601e+01,  2.03831747e+01],\n",
       "       [ 9.86585639e+01, -3.93738106e+01, -4.46141219e+01,\n",
       "         6.59993480e+01,  1.19117827e+02, -7.32513783e+01,\n",
       "         1.49597283e+02,  1.18466834e+01,  5.45322953e+01,\n",
       "         3.16253266e+02, -2.46717321e+01,  6.72027672e+01,\n",
       "         1.42716324e+02,  1.94288786e+01,  7.53694615e+01],\n",
       "       [-1.09293958e+02, -5.51368208e+01, -3.03795194e+00,\n",
       "         9.52303053e+01, -1.88011882e+02, -1.51049528e+01,\n",
       "         3.30505704e+01,  5.33067499e+01, -3.40297632e+01,\n",
       "        -2.46717321e+01,  1.62856432e+02, -8.15585372e+01,\n",
       "        -3.11707113e+01, -5.22435686e-01, -3.50138366e+01],\n",
       "       [ 1.77532927e+02,  7.42351704e-01, -3.40537359e+01,\n",
       "        -1.23338299e+02,  2.84103448e+02, -8.40964113e+00,\n",
       "         9.41109096e+00, -7.95380524e+01,  1.03462504e+02,\n",
       "         6.72027672e+01, -8.15585372e+01,  2.32104710e+02,\n",
       "         1.35377355e+02, -1.68205657e+00,  4.24926631e+01],\n",
       "       [ 1.27676725e+02, -2.40569329e+01, -1.66957312e+01,\n",
       "         1.53412059e+02,  6.29764035e+01, -2.29725806e+01,\n",
       "         1.86059186e+02, -8.23193792e+01,  5.94480599e+01,\n",
       "         1.42716324e+02, -3.11707113e+01,  1.35377355e+02,\n",
       "         5.02507883e+02,  7.18825077e+01,  2.97954697e+01],\n",
       "       [-2.93124017e+01,  5.93278315e+01,  6.53881728e+00,\n",
       "         2.96396711e+02, -1.92714740e+02, -1.22570055e+02,\n",
       "         1.03552553e+02,  5.55556706e+01, -5.53556601e+01,\n",
       "         1.94288786e+01, -5.22435686e-01, -1.68205657e+00,\n",
       "         7.18825077e+01,  2.25690165e+02, -8.60389853e-01],\n",
       "       [ 1.19367154e+02, -3.37832673e+01,  5.09291544e+01,\n",
       "         2.42031878e+01,  3.64376219e+01,  3.63493417e+01,\n",
       "         5.86506498e+01, -5.45118098e+01,  2.03831747e+01,\n",
       "         7.53694615e+01, -3.50138366e+01,  4.24926631e+01,\n",
       "         2.97954697e+01, -8.60389853e-01,  1.06342129e+02]])"
      ]
     },
     "execution_count": 52,
     "metadata": {},
     "output_type": "execute_result"
    }
   ],
   "source": [
    "#Taux Periodique annuel\n",
    "tauxAnnee=np.zeros((15,31))\n",
    "i=0\n",
    "for i in range(15):\n",
    "    tauxAnnee[i,:]=rendement[262*i:262*(i+1),:].sum(axis=0)\n",
    "#Ecart Type\n",
    "ecartType=np.std(tauxAnnee,axis=0)\n",
    "\n",
    "#Matrice Covariance\n",
    "np.cov(tauxAnnee)\n"
   ]
  },
  {
   "cell_type": "code",
   "execution_count": 53,
   "metadata": {},
   "outputs": [
    {
     "data": {
      "text/plain": [
       "array([[ 1.        , -0.05242687,  0.42445385,  0.02184522,  0.19352372,\n",
       "         0.33880464,  0.25076365, -0.53894124,  0.36702895,  0.24682004,\n",
       "        -0.38102795,  0.51844188,  0.25339814, -0.08680769,  0.51498586],\n",
       "       [-0.05242687,  1.        ,  0.09967428,  0.1522    , -0.15659896,\n",
       "        -0.19214895, -0.41253107,  0.26955092, -0.18978941, -0.15112498,\n",
       "        -0.29490733,  0.00332594, -0.07325126,  0.26955566, -0.22361209],\n",
       "       [ 0.42445385,  0.09967428,  1.        ,  0.26056046, -0.23045264,\n",
       "         0.34687646,  0.22559631, -0.45422071, -0.03957232, -0.16053045,\n",
       "        -0.01523285, -0.14302942, -0.04765809,  0.0278513 ,  0.31602131],\n",
       "       [ 0.02184522,  0.1522    ,  0.26056046,  1.        , -0.79099245,\n",
       "        -0.23650125,  0.34100515,  0.18995312, -0.59053531,  0.09659937,\n",
       "         0.19423383, -0.21072115,  0.17813129,  0.51353402,  0.06109027],\n",
       "       [ 0.19352372, -0.15659896, -0.23045264, -0.79099245,  1.        ,\n",
       "         0.15438739, -0.03031209, -0.28656573,  0.69750436,  0.18497827,\n",
       "        -0.40685935,  0.51498667,  0.07758323, -0.35425833,  0.09757955],\n",
       "       [ 0.33880464, -0.19214895,  0.34687646, -0.23650125,  0.15438739,\n",
       "         1.        , -0.09364724, -0.29914933,  0.00182515, -0.20013721,\n",
       "        -0.05751041, -0.02682039, -0.04979295, -0.39642188,  0.1712669 ],\n",
       "       [ 0.25076365, -0.41253107,  0.22559631,  0.34100515, -0.03031209,\n",
       "        -0.09364724,  1.        , -0.26402178,  0.0548245 ,  0.46015231,\n",
       "         0.14166805,  0.03379041,  0.45402011,  0.37705083,  0.31111114],\n",
       "       [-0.53894124,  0.26955092, -0.45422071,  0.18995312, -0.28656573,\n",
       "        -0.29914933, -0.26402178,  1.        , -0.25267551,  0.04055971,\n",
       "         0.25432867, -0.31786928, -0.22358683,  0.22515814, -0.32184999],\n",
       "       [ 0.36702895, -0.18978941, -0.03957232, -0.59053531,  0.69750436,\n",
       "         0.00182515,  0.0548245 , -0.25267551,  1.        ,  0.24622601,\n",
       "        -0.21411847,  0.54530397,  0.21294326, -0.29587166,  0.15871457],\n",
       "       [ 0.24682004, -0.15112498, -0.16053045,  0.09659937,  0.18497827,\n",
       "        -0.20013721,  0.46015231,  0.04055971,  0.24622601,  1.        ,\n",
       "        -0.10871255,  0.2480434 ,  0.35800138,  0.07272336,  0.4109843 ],\n",
       "       [-0.38102795, -0.29490733, -0.01523285,  0.19423383, -0.40685935,\n",
       "        -0.05751041,  0.14166805,  0.25432867, -0.21411847, -0.10871255,\n",
       "         1.        , -0.41949327, -0.10896144, -0.00272505, -0.26606305],\n",
       "       [ 0.51844188,  0.00332594, -0.14302942, -0.21072115,  0.51498667,\n",
       "        -0.02682039,  0.03379041, -0.31786928,  0.54530397,  0.2480434 ,\n",
       "        -0.41949327,  1.        ,  0.39639905, -0.00734924,  0.27047012],\n",
       "       [ 0.25339814, -0.07325126, -0.04765809,  0.17813129,  0.07758323,\n",
       "        -0.04979295,  0.45402011, -0.22358683,  0.21294326,  0.35800138,\n",
       "        -0.10896144,  0.39639905,  1.        ,  0.21344966,  0.12889205],\n",
       "       [-0.08680769,  0.26955566,  0.0278513 ,  0.51353402, -0.35425833,\n",
       "        -0.39642188,  0.37705083,  0.22515814, -0.29587166,  0.07272336,\n",
       "        -0.00272505, -0.00734924,  0.21344966,  1.        , -0.00555375],\n",
       "       [ 0.51498586, -0.22361209,  0.31602131,  0.06109027,  0.09757955,\n",
       "         0.1712669 ,  0.31111114, -0.32184999,  0.15871457,  0.4109843 ,\n",
       "        -0.26606305,  0.27047012,  0.12889205, -0.00555375,  1.        ]])"
      ]
     },
     "execution_count": 53,
     "metadata": {},
     "output_type": "execute_result"
    }
   ],
   "source": [
    "#Matrice de corrélation\n",
    "np.corrcoef(tauxAnnee)"
   ]
  },
  {
   "cell_type": "code",
   "execution_count": 1,
   "metadata": {},
   "outputs": [
    {
     "name": "stdout",
     "output_type": "stream",
     "text": [
      "salut\n"
     ]
    }
   ],
   "source": [
    "print(\"salut\")"
   ]
  },
  {
   "cell_type": "code",
   "execution_count": null,
   "metadata": {},
   "outputs": [],
   "source": [
    "bonjour\n"
   ]
  }
 ],
 "metadata": {
  "kernelspec": {
   "display_name": "Python 3",
   "language": "python",
   "name": "python3"
  },
  "language_info": {
   "codemirror_mode": {
    "name": "ipython",
    "version": 3
   },
   "file_extension": ".py",
   "mimetype": "text/x-python",
   "name": "python",
   "nbconvert_exporter": "python",
   "pygments_lexer": "ipython3",
   "version": "3.7.4"
  }
 },
 "nbformat": 4,
 "nbformat_minor": 2
}
